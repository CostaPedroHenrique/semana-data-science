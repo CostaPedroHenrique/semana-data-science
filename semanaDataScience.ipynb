{
  "nbformat": 4,
  "nbformat_minor": 0,
  "metadata": {
    "anaconda-cloud": {},
    "kernelspec": {
      "display_name": "Python 3",
      "language": "python",
      "name": "python3"
    },
    "language_info": {
      "codemirror_mode": {
        "name": "ipython",
        "version": 3
      },
      "file_extension": ".py",
      "mimetype": "text/x-python",
      "name": "python",
      "nbconvert_exporter": "python",
      "pygments_lexer": "ipython3",
      "version": "3.6.5"
    },
    "colab": {
      "name": "semanaDataScience.ipynb",
      "provenance": [],
      "collapsed_sections": [],
      "toc_visible": true,
      "include_colab_link": true
    }
  },
  "cells": [
    {
      "cell_type": "markdown",
      "metadata": {
        "id": "view-in-github",
        "colab_type": "text"
      },
      "source": [
        "<a href=\"https://colab.research.google.com/github/CostaPedroHenrique/semana-data-science/blob/master/semanaDataScience.ipynb\" target=\"_parent\"><img src=\"https://colab.research.google.com/assets/colab-badge.svg\" alt=\"Open In Colab\"/></a>"
      ]
    },
    {
      "cell_type": "markdown",
      "metadata": {
        "id": "GFJ4EVNomx-9",
        "colab_type": "text"
      },
      "source": [
        "## **Semana de Data Science**\n",
        "\n",
        "- Minerando Dados"
      ]
    },
    {
      "cell_type": "markdown",
      "metadata": {
        "id": "4vhNe3CadOcI",
        "colab_type": "text"
      },
      "source": [
        "### Conhecendo a base de dados"
      ]
    },
    {
      "cell_type": "markdown",
      "metadata": {
        "id": "UIKcG9cuf73S",
        "colab_type": "text"
      },
      "source": [
        "Monta o drive"
      ]
    },
    {
      "cell_type": "code",
      "metadata": {
        "id": "Pra_pLjfAW3d",
        "colab_type": "code",
        "outputId": "5ddc759d-894a-484a-8b07-099ac96faf7b",
        "colab": {
          "base_uri": "https://localhost:8080/",
          "height": 147
        }
      },
      "source": [
        "from google.colab import drive\n",
        "drive.mount('/content/drive')\n"
      ],
      "execution_count": 0,
      "outputs": [
        {
          "output_type": "stream",
          "text": [
            "Go to this URL in a browser: https://accounts.google.com/o/oauth2/auth?client_id=947318989803-6bn6qk8qdgf4n4g3pfee6491hc0brc4i.apps.googleusercontent.com&redirect_uri=urn%3aietf%3awg%3aoauth%3a2.0%3aoob&response_type=code&scope=email%20https%3a%2f%2fwww.googleapis.com%2fauth%2fdocs.test%20https%3a%2f%2fwww.googleapis.com%2fauth%2fdrive%20https%3a%2f%2fwww.googleapis.com%2fauth%2fdrive.photos.readonly%20https%3a%2f%2fwww.googleapis.com%2fauth%2fpeopleapi.readonly\n",
            "\n",
            "Enter your authorization code:\n",
            "··········\n",
            "Mounted at /content/drive\n",
            "Drive already mounted at /content/drive; to attempt to forcibly remount, call drive.mount(\"/content/drive\", force_remount=True).\n"
          ],
          "name": "stdout"
        }
      ]
    },
    {
      "cell_type": "markdown",
      "metadata": {
        "id": "LpI7iiKFVv85",
        "colab_type": "text"
      },
      "source": [
        "Importando as bibliotecas básicas"
      ]
    },
    {
      "cell_type": "code",
      "metadata": {
        "id": "KrCFI6wjVy8r",
        "colab_type": "code",
        "outputId": "c289833e-7256-492b-8b1a-b53191cfd48c",
        "colab": {
          "base_uri": "https://localhost:8080/",
          "height": 90
        }
      },
      "source": [
        "import pandas as pd\n",
        "import seaborn as sns\n",
        "import numpy as np\n",
        "import matplotlib.pyplot as plt"
      ],
      "execution_count": 2,
      "outputs": [
        {
          "output_type": "stream",
          "text": [
            "/usr/local/lib/python3.6/dist-packages/statsmodels/tools/_testing.py:19: FutureWarning:\n",
            "\n",
            "pandas.util.testing is deprecated. Use the functions in the public API at pandas.testing instead.\n",
            "\n"
          ],
          "name": "stderr"
        }
      ]
    },
    {
      "cell_type": "markdown",
      "metadata": {
        "id": "pN6MI_aOdLkK",
        "colab_type": "text"
      },
      "source": [
        "Carregando a Base de Dados"
      ]
    },
    {
      "cell_type": "code",
      "metadata": {
        "id": "fH08VuIvDYqC",
        "colab_type": "code",
        "colab": {}
      },
      "source": [
        "# carrega o dataset de london\n",
        "from sklearn.datasets import load_boston\n",
        "boston = load_boston()"
      ],
      "execution_count": 0,
      "outputs": []
    },
    {
      "cell_type": "code",
      "metadata": {
        "id": "vdncFGtm9EZe",
        "colab_type": "code",
        "outputId": "bdd22b2c-b4bb-4f48-a86a-d0f25f28e66c",
        "colab": {
          "base_uri": "https://localhost:8080/",
          "height": 974
        }
      },
      "source": [
        "# descrição do dataset\n",
        "print (boston.DESCR)"
      ],
      "execution_count": 4,
      "outputs": [
        {
          "output_type": "stream",
          "text": [
            ".. _boston_dataset:\n",
            "\n",
            "Boston house prices dataset\n",
            "---------------------------\n",
            "\n",
            "**Data Set Characteristics:**  \n",
            "\n",
            "    :Number of Instances: 506 \n",
            "\n",
            "    :Number of Attributes: 13 numeric/categorical predictive. Median Value (attribute 14) is usually the target.\n",
            "\n",
            "    :Attribute Information (in order):\n",
            "        - CRIM     per capita crime rate by town\n",
            "        - ZN       proportion of residential land zoned for lots over 25,000 sq.ft.\n",
            "        - INDUS    proportion of non-retail business acres per town\n",
            "        - CHAS     Charles River dummy variable (= 1 if tract bounds river; 0 otherwise)\n",
            "        - NOX      nitric oxides concentration (parts per 10 million)\n",
            "        - RM       average number of rooms per dwelling\n",
            "        - AGE      proportion of owner-occupied units built prior to 1940\n",
            "        - DIS      weighted distances to five Boston employment centres\n",
            "        - RAD      index of accessibility to radial highways\n",
            "        - TAX      full-value property-tax rate per $10,000\n",
            "        - PTRATIO  pupil-teacher ratio by town\n",
            "        - B        1000(Bk - 0.63)^2 where Bk is the proportion of blacks by town\n",
            "        - LSTAT    % lower status of the population\n",
            "        - MEDV     Median value of owner-occupied homes in $1000's\n",
            "\n",
            "    :Missing Attribute Values: None\n",
            "\n",
            "    :Creator: Harrison, D. and Rubinfeld, D.L.\n",
            "\n",
            "This is a copy of UCI ML housing dataset.\n",
            "https://archive.ics.uci.edu/ml/machine-learning-databases/housing/\n",
            "\n",
            "\n",
            "This dataset was taken from the StatLib library which is maintained at Carnegie Mellon University.\n",
            "\n",
            "The Boston house-price data of Harrison, D. and Rubinfeld, D.L. 'Hedonic\n",
            "prices and the demand for clean air', J. Environ. Economics & Management,\n",
            "vol.5, 81-102, 1978.   Used in Belsley, Kuh & Welsch, 'Regression diagnostics\n",
            "...', Wiley, 1980.   N.B. Various transformations are used in the table on\n",
            "pages 244-261 of the latter.\n",
            "\n",
            "The Boston house-price data has been used in many machine learning papers that address regression\n",
            "problems.   \n",
            "     \n",
            ".. topic:: References\n",
            "\n",
            "   - Belsley, Kuh & Welsch, 'Regression diagnostics: Identifying Influential Data and Sources of Collinearity', Wiley, 1980. 244-261.\n",
            "   - Quinlan,R. (1993). Combining Instance-Based and Model-Based Learning. In Proceedings on the Tenth International Conference of Machine Learning, 236-243, University of Massachusetts, Amherst. Morgan Kaufmann.\n",
            "\n"
          ],
          "name": "stdout"
        }
      ]
    },
    {
      "cell_type": "code",
      "metadata": {
        "id": "e1d1cfElD_aD",
        "colab_type": "code",
        "colab": {}
      },
      "source": [
        "# cria um dataframe pandas\n",
        "data = pd.DataFrame(boston.data, columns=boston.feature_names)"
      ],
      "execution_count": 0,
      "outputs": []
    },
    {
      "cell_type": "markdown",
      "metadata": {
        "id": "2DqDhU9Gdkme",
        "colab_type": "text"
      },
      "source": [
        "Adicionando a coluna que será nossa variável alvo"
      ]
    },
    {
      "cell_type": "code",
      "metadata": {
        "id": "WaGqRi0vElWS",
        "colab_type": "code",
        "colab": {}
      },
      "source": [
        "# adiciona a variável MEDV\n",
        "data['MEDV'] = boston.target"
      ],
      "execution_count": 0,
      "outputs": []
    },
    {
      "cell_type": "code",
      "metadata": {
        "id": "caKPkl_SFil0",
        "colab_type": "code",
        "colab": {}
      },
      "source": [
        "# filtra os top 16 maiores registro da coluna MEDV\n",
        "top16 = data.nlargest(16, 'MEDV').index"
      ],
      "execution_count": 0,
      "outputs": []
    },
    {
      "cell_type": "code",
      "metadata": {
        "id": "cicsUFf4OELZ",
        "colab_type": "code",
        "colab": {}
      },
      "source": [
        "# remove os valores listados em top16\n",
        "data.drop(top16, inplace=True)"
      ],
      "execution_count": 0,
      "outputs": []
    },
    {
      "cell_type": "markdown",
      "metadata": {
        "id": "X2mMG-H_xfCU",
        "colab_type": "text"
      },
      "source": [
        "**Definindo um Baseline**\n",
        "\n",
        "- `Uma baseline é importante para ter marcos no projeto`.\n",
        "- `Permite uma explicação fácil para todos os envolvidos`.\n",
        "- `É algo que sempre tentaremos ganhar na medida do possível`."
      ]
    },
    {
      "cell_type": "code",
      "metadata": {
        "id": "q-k-jC68Tmra",
        "colab_type": "code",
        "colab": {}
      },
      "source": [
        "# converte os dados\n",
        "data.RM = data.RM.astype(int)"
      ],
      "execution_count": 0,
      "outputs": []
    },
    {
      "cell_type": "code",
      "metadata": {
        "id": "cA9VCNRnUOPi",
        "colab_type": "code",
        "outputId": "27d8b9b5-45d4-4392-d46e-45020973f090",
        "colab": {
          "base_uri": "https://localhost:8080/",
          "height": 403
        }
      },
      "source": [
        "data.info()"
      ],
      "execution_count": 9,
      "outputs": [
        {
          "output_type": "stream",
          "text": [
            "<class 'pandas.core.frame.DataFrame'>\n",
            "Int64Index: 490 entries, 0 to 505\n",
            "Data columns (total 14 columns):\n",
            " #   Column   Non-Null Count  Dtype  \n",
            "---  ------   --------------  -----  \n",
            " 0   CRIM     490 non-null    float64\n",
            " 1   ZN       490 non-null    float64\n",
            " 2   INDUS    490 non-null    float64\n",
            " 3   CHAS     490 non-null    float64\n",
            " 4   NOX      490 non-null    float64\n",
            " 5   RM       490 non-null    float64\n",
            " 6   AGE      490 non-null    float64\n",
            " 7   DIS      490 non-null    float64\n",
            " 8   RAD      490 non-null    float64\n",
            " 9   TAX      490 non-null    float64\n",
            " 10  PTRATIO  490 non-null    float64\n",
            " 11  B        490 non-null    float64\n",
            " 12  LSTAT    490 non-null    float64\n",
            " 13  MEDV     490 non-null    float64\n",
            "dtypes: float64(14)\n",
            "memory usage: 57.4 KB\n"
          ],
          "name": "stdout"
        }
      ]
    },
    {
      "cell_type": "code",
      "metadata": {
        "id": "K_-mp-6WtUee",
        "colab_type": "code",
        "outputId": "ff204fa9-db6a-424a-fabd-451287d546ee",
        "colab": {
          "base_uri": "https://localhost:8080/",
          "height": 182
        }
      },
      "source": [
        "# estatística descritiva da coluna numero de quartos\n",
        "data.RM.describe()"
      ],
      "execution_count": 10,
      "outputs": [
        {
          "output_type": "execute_result",
          "data": {
            "text/plain": [
              "count    490.000000\n",
              "mean       6.245471\n",
              "std        0.653147\n",
              "min        3.561000\n",
              "25%        5.881000\n",
              "50%        6.185000\n",
              "75%        6.578000\n",
              "max        8.780000\n",
              "Name: RM, dtype: float64"
            ]
          },
          "metadata": {
            "tags": []
          },
          "execution_count": 10
        }
      ]
    },
    {
      "cell_type": "code",
      "metadata": {
        "id": "HIknobGdtUQR",
        "colab_type": "code",
        "colab": {}
      },
      "source": [
        "# definindo a regra para categorizar os dados\n",
        "categorias = []"
      ],
      "execution_count": 0,
      "outputs": []
    },
    {
      "cell_type": "code",
      "metadata": {
        "id": "faL-8m1onPP2",
        "colab_type": "code",
        "colab": {}
      },
      "source": [
        "# alimenta a lista categorias\n",
        "for i in data.RM.iteritems():\n",
        "  valor = (i[1])\n",
        "  if valor <= 4:\n",
        "    categorias.append('Pequeno')\n",
        "  elif valor < 7:\n",
        "    categorias.append('Medio')\n",
        "  else:\n",
        "    categorias.append('Grande')"
      ],
      "execution_count": 0,
      "outputs": []
    },
    {
      "cell_type": "code",
      "metadata": {
        "id": "-nEk0wXeNFWE",
        "colab_type": "code",
        "colab": {}
      },
      "source": [
        "# cria a coluna categorias\n",
        "data['categorias'] = categorias"
      ],
      "execution_count": 0,
      "outputs": []
    },
    {
      "cell_type": "code",
      "metadata": {
        "id": "i-iVO76sR-am",
        "colab_type": "code",
        "outputId": "170130f2-30f6-4b68-f29a-f9d448470cba",
        "colab": {
          "base_uri": "https://localhost:8080/",
          "height": 90
        }
      },
      "source": [
        "# imprime a contagem de categorias\n",
        "data.categorias.value_counts()"
      ],
      "execution_count": 14,
      "outputs": [
        {
          "output_type": "execute_result",
          "data": {
            "text/plain": [
              "Medio      436\n",
              "Grande      52\n",
              "Pequeno      2\n",
              "Name: categorias, dtype: int64"
            ]
          },
          "metadata": {
            "tags": []
          },
          "execution_count": 14
        }
      ]
    },
    {
      "cell_type": "code",
      "metadata": {
        "id": "Gxa6OrD8Ht-0",
        "colab_type": "code",
        "colab": {}
      },
      "source": [
        "# agrupa as categorias e calcula as médias\n",
        "medias_categorias = data.groupby(by='categorias')['MEDV'].mean()"
      ],
      "execution_count": 0,
      "outputs": []
    },
    {
      "cell_type": "code",
      "metadata": {
        "id": "zYMhxnzDIM2X",
        "colab_type": "code",
        "outputId": "3217e17e-31db-4c5c-9bd4-c0e910d3e92d",
        "colab": {
          "base_uri": "https://localhost:8080/",
          "height": 109
        }
      },
      "source": [
        "# visualizando a variável medias_categorias\n",
        "medias_categorias"
      ],
      "execution_count": 16,
      "outputs": [
        {
          "output_type": "execute_result",
          "data": {
            "text/plain": [
              "categorias\n",
              "Grande     35.719231\n",
              "Medio      19.939450\n",
              "Pequeno    25.300000\n",
              "Name: MEDV, dtype: float64"
            ]
          },
          "metadata": {
            "tags": []
          },
          "execution_count": 16
        }
      ]
    },
    {
      "cell_type": "code",
      "metadata": {
        "id": "wJHkQXozHcYN",
        "colab_type": "code",
        "colab": {}
      },
      "source": [
        "# criando o dicionario com chaves medio, grande e pequeno e seus valores\n",
        "dic_baseline = {'Grande': medias_categorias[0], 'Medio': medias_categorias[1], 'Pequeno': medias_categorias[2]}"
      ],
      "execution_count": 0,
      "outputs": []
    },
    {
      "cell_type": "code",
      "metadata": {
        "id": "AMrYkM_T7eqS",
        "colab_type": "code",
        "outputId": "f7ef1017-f0f3-4ab2-846f-55682c93ca48",
        "colab": {
          "base_uri": "https://localhost:8080/",
          "height": 35
        }
      },
      "source": [
        "# imprime dicionario\n",
        "dic_baseline"
      ],
      "execution_count": 20,
      "outputs": [
        {
          "output_type": "execute_result",
          "data": {
            "text/plain": [
              "{'Grande': 35.71923076923077, 'Medio': 19.939449541284418, 'Pequeno': 25.3}"
            ]
          },
          "metadata": {
            "tags": []
          },
          "execution_count": 20
        }
      ]
    },
    {
      "cell_type": "code",
      "metadata": {
        "id": "7lfDPAmL8kjX",
        "colab_type": "code",
        "colab": {}
      },
      "source": [
        "# cria a função retorna baseline\n",
        "def retorna_baseline(num_quartos):\n",
        "  if num_quartos <= 4:\n",
        "    return dic_baseline.get('Pequeno')\n",
        "  elif num_quartos < 7:\n",
        "    return dic_baseline.get('Medio')\n",
        "  else:\n",
        "    return dic_baseline.get('Grande')"
      ],
      "execution_count": 0,
      "outputs": []
    },
    {
      "cell_type": "code",
      "metadata": {
        "id": "um5I8oQ2Arhe",
        "colab_type": "code",
        "outputId": "a7e39bd1-825f-405e-ca0b-ab910f8dd2d4",
        "colab": {
          "base_uri": "https://localhost:8080/",
          "height": 35
        }
      },
      "source": [
        "# chama a função retorna baseline\n",
        "retorna_baseline(3)"
      ],
      "execution_count": 22,
      "outputs": [
        {
          "output_type": "execute_result",
          "data": {
            "text/plain": [
              "25.3"
            ]
          },
          "metadata": {
            "tags": []
          },
          "execution_count": 22
        }
      ]
    },
    {
      "cell_type": "code",
      "metadata": {
        "id": "785EhcLuCoqw",
        "colab_type": "code",
        "outputId": "7e02db9e-7633-46c1-9066-223a9bbe5d3a",
        "colab": {
          "base_uri": "https://localhost:8080/",
          "height": 1000
        }
      },
      "source": [
        "for i in data.RM.iteritems():\n",
        "  n_quartos = i[1]\n",
        "  print('Número de quartos é: {} , Valor médio: {}'.format(n_quartos,retorna_baseline(n_quartos)))"
      ],
      "execution_count": 23,
      "outputs": [
        {
          "output_type": "stream",
          "text": [
            "Número de quartos é: 6.575 , Valor médio: 19.939449541284418\n",
            "Número de quartos é: 6.421 , Valor médio: 19.939449541284418\n",
            "Número de quartos é: 7.185 , Valor médio: 35.71923076923077\n",
            "Número de quartos é: 6.998 , Valor médio: 19.939449541284418\n",
            "Número de quartos é: 7.147 , Valor médio: 35.71923076923077\n",
            "Número de quartos é: 6.43 , Valor médio: 19.939449541284418\n",
            "Número de quartos é: 6.012 , Valor médio: 19.939449541284418\n",
            "Número de quartos é: 6.172 , Valor médio: 19.939449541284418\n",
            "Número de quartos é: 5.631 , Valor médio: 19.939449541284418\n",
            "Número de quartos é: 6.004 , Valor médio: 19.939449541284418\n",
            "Número de quartos é: 6.377 , Valor médio: 19.939449541284418\n",
            "Número de quartos é: 6.009 , Valor médio: 19.939449541284418\n",
            "Número de quartos é: 5.889 , Valor médio: 19.939449541284418\n",
            "Número de quartos é: 5.949 , Valor médio: 19.939449541284418\n",
            "Número de quartos é: 6.096 , Valor médio: 19.939449541284418\n",
            "Número de quartos é: 5.834 , Valor médio: 19.939449541284418\n",
            "Número de quartos é: 5.935 , Valor médio: 19.939449541284418\n",
            "Número de quartos é: 5.99 , Valor médio: 19.939449541284418\n",
            "Número de quartos é: 5.456 , Valor médio: 19.939449541284418\n",
            "Número de quartos é: 5.727 , Valor médio: 19.939449541284418\n",
            "Número de quartos é: 5.57 , Valor médio: 19.939449541284418\n",
            "Número de quartos é: 5.965 , Valor médio: 19.939449541284418\n",
            "Número de quartos é: 6.142 , Valor médio: 19.939449541284418\n",
            "Número de quartos é: 5.813 , Valor médio: 19.939449541284418\n",
            "Número de quartos é: 5.924 , Valor médio: 19.939449541284418\n",
            "Número de quartos é: 5.599 , Valor médio: 19.939449541284418\n",
            "Número de quartos é: 5.813 , Valor médio: 19.939449541284418\n",
            "Número de quartos é: 6.047 , Valor médio: 19.939449541284418\n",
            "Número de quartos é: 6.495 , Valor médio: 19.939449541284418\n",
            "Número de quartos é: 6.674 , Valor médio: 19.939449541284418\n",
            "Número de quartos é: 5.713 , Valor médio: 19.939449541284418\n",
            "Número de quartos é: 6.072 , Valor médio: 19.939449541284418\n",
            "Número de quartos é: 5.95 , Valor médio: 19.939449541284418\n",
            "Número de quartos é: 5.701 , Valor médio: 19.939449541284418\n",
            "Número de quartos é: 6.096 , Valor médio: 19.939449541284418\n",
            "Número de quartos é: 5.933 , Valor médio: 19.939449541284418\n",
            "Número de quartos é: 5.841 , Valor médio: 19.939449541284418\n",
            "Número de quartos é: 5.85 , Valor médio: 19.939449541284418\n",
            "Número de quartos é: 5.966 , Valor médio: 19.939449541284418\n",
            "Número de quartos é: 6.595 , Valor médio: 19.939449541284418\n",
            "Número de quartos é: 7.024 , Valor médio: 35.71923076923077\n",
            "Número de quartos é: 6.77 , Valor médio: 19.939449541284418\n",
            "Número de quartos é: 6.169 , Valor médio: 19.939449541284418\n",
            "Número de quartos é: 6.211 , Valor médio: 19.939449541284418\n",
            "Número de quartos é: 6.069 , Valor médio: 19.939449541284418\n",
            "Número de quartos é: 5.682 , Valor médio: 19.939449541284418\n",
            "Número de quartos é: 5.786 , Valor médio: 19.939449541284418\n",
            "Número de quartos é: 6.03 , Valor médio: 19.939449541284418\n",
            "Número de quartos é: 5.399 , Valor médio: 19.939449541284418\n",
            "Número de quartos é: 5.602 , Valor médio: 19.939449541284418\n",
            "Número de quartos é: 5.963 , Valor médio: 19.939449541284418\n",
            "Número de quartos é: 6.115 , Valor médio: 19.939449541284418\n",
            "Número de quartos é: 6.511 , Valor médio: 19.939449541284418\n",
            "Número de quartos é: 5.998 , Valor médio: 19.939449541284418\n",
            "Número de quartos é: 5.888 , Valor médio: 19.939449541284418\n",
            "Número de quartos é: 7.249 , Valor médio: 35.71923076923077\n",
            "Número de quartos é: 6.383 , Valor médio: 19.939449541284418\n",
            "Número de quartos é: 6.816 , Valor médio: 19.939449541284418\n",
            "Número de quartos é: 6.145 , Valor médio: 19.939449541284418\n",
            "Número de quartos é: 5.927 , Valor médio: 19.939449541284418\n",
            "Número de quartos é: 5.741 , Valor médio: 19.939449541284418\n",
            "Número de quartos é: 5.966 , Valor médio: 19.939449541284418\n",
            "Número de quartos é: 6.456 , Valor médio: 19.939449541284418\n",
            "Número de quartos é: 6.762 , Valor médio: 19.939449541284418\n",
            "Número de quartos é: 7.104 , Valor médio: 35.71923076923077\n",
            "Número de quartos é: 6.29 , Valor médio: 19.939449541284418\n",
            "Número de quartos é: 5.787 , Valor médio: 19.939449541284418\n",
            "Número de quartos é: 5.878 , Valor médio: 19.939449541284418\n",
            "Número de quartos é: 5.594 , Valor médio: 19.939449541284418\n",
            "Número de quartos é: 5.885 , Valor médio: 19.939449541284418\n",
            "Número de quartos é: 6.417 , Valor médio: 19.939449541284418\n",
            "Número de quartos é: 5.961 , Valor médio: 19.939449541284418\n",
            "Número de quartos é: 6.065 , Valor médio: 19.939449541284418\n",
            "Número de quartos é: 6.245 , Valor médio: 19.939449541284418\n",
            "Número de quartos é: 6.273 , Valor médio: 19.939449541284418\n",
            "Número de quartos é: 6.286 , Valor médio: 19.939449541284418\n",
            "Número de quartos é: 6.279 , Valor médio: 19.939449541284418\n",
            "Número de quartos é: 6.14 , Valor médio: 19.939449541284418\n",
            "Número de quartos é: 6.232 , Valor médio: 19.939449541284418\n",
            "Número de quartos é: 5.874 , Valor médio: 19.939449541284418\n",
            "Número de quartos é: 6.727 , Valor médio: 19.939449541284418\n",
            "Número de quartos é: 6.619 , Valor médio: 19.939449541284418\n",
            "Número de quartos é: 6.302 , Valor médio: 19.939449541284418\n",
            "Número de quartos é: 6.167 , Valor médio: 19.939449541284418\n",
            "Número de quartos é: 6.389 , Valor médio: 19.939449541284418\n",
            "Número de quartos é: 6.63 , Valor médio: 19.939449541284418\n",
            "Número de quartos é: 6.015 , Valor médio: 19.939449541284418\n",
            "Número de quartos é: 6.121 , Valor médio: 19.939449541284418\n",
            "Número de quartos é: 7.007 , Valor médio: 35.71923076923077\n",
            "Número de quartos é: 7.079 , Valor médio: 35.71923076923077\n",
            "Número de quartos é: 6.417 , Valor médio: 19.939449541284418\n",
            "Número de quartos é: 6.405 , Valor médio: 19.939449541284418\n",
            "Número de quartos é: 6.442 , Valor médio: 19.939449541284418\n",
            "Número de quartos é: 6.211 , Valor médio: 19.939449541284418\n",
            "Número de quartos é: 6.249 , Valor médio: 19.939449541284418\n",
            "Número de quartos é: 6.625 , Valor médio: 19.939449541284418\n",
            "Número de quartos é: 6.163 , Valor médio: 19.939449541284418\n",
            "Número de quartos é: 8.069 , Valor médio: 35.71923076923077\n",
            "Número de quartos é: 7.82 , Valor médio: 35.71923076923077\n",
            "Número de quartos é: 7.416 , Valor médio: 35.71923076923077\n",
            "Número de quartos é: 6.727 , Valor médio: 19.939449541284418\n",
            "Número de quartos é: 6.781 , Valor médio: 19.939449541284418\n",
            "Número de quartos é: 6.405 , Valor médio: 19.939449541284418\n",
            "Número de quartos é: 6.137 , Valor médio: 19.939449541284418\n",
            "Número de quartos é: 6.167 , Valor médio: 19.939449541284418\n",
            "Número de quartos é: 5.851 , Valor médio: 19.939449541284418\n",
            "Número de quartos é: 5.836 , Valor médio: 19.939449541284418\n",
            "Número de quartos é: 6.127 , Valor médio: 19.939449541284418\n",
            "Número de quartos é: 6.474 , Valor médio: 19.939449541284418\n",
            "Número de quartos é: 6.229 , Valor médio: 19.939449541284418\n",
            "Número de quartos é: 6.195 , Valor médio: 19.939449541284418\n",
            "Número de quartos é: 6.715 , Valor médio: 19.939449541284418\n",
            "Número de quartos é: 5.913 , Valor médio: 19.939449541284418\n",
            "Número de quartos é: 6.092 , Valor médio: 19.939449541284418\n",
            "Número de quartos é: 6.254 , Valor médio: 19.939449541284418\n",
            "Número de quartos é: 5.928 , Valor médio: 19.939449541284418\n",
            "Número de quartos é: 6.176 , Valor médio: 19.939449541284418\n",
            "Número de quartos é: 6.021 , Valor médio: 19.939449541284418\n",
            "Número de quartos é: 5.872 , Valor médio: 19.939449541284418\n",
            "Número de quartos é: 5.731 , Valor médio: 19.939449541284418\n",
            "Número de quartos é: 5.87 , Valor médio: 19.939449541284418\n",
            "Número de quartos é: 6.004 , Valor médio: 19.939449541284418\n",
            "Número de quartos é: 5.961 , Valor médio: 19.939449541284418\n",
            "Número de quartos é: 5.856 , Valor médio: 19.939449541284418\n",
            "Número de quartos é: 5.879 , Valor médio: 19.939449541284418\n",
            "Número de quartos é: 5.986 , Valor médio: 19.939449541284418\n",
            "Número de quartos é: 5.613 , Valor médio: 19.939449541284418\n",
            "Número de quartos é: 5.693 , Valor médio: 19.939449541284418\n",
            "Número de quartos é: 6.431 , Valor médio: 19.939449541284418\n",
            "Número de quartos é: 5.637 , Valor médio: 19.939449541284418\n",
            "Número de quartos é: 6.458 , Valor médio: 19.939449541284418\n",
            "Número de quartos é: 6.326 , Valor médio: 19.939449541284418\n",
            "Número de quartos é: 6.372 , Valor médio: 19.939449541284418\n",
            "Número de quartos é: 5.822 , Valor médio: 19.939449541284418\n",
            "Número de quartos é: 5.757 , Valor médio: 19.939449541284418\n",
            "Número de quartos é: 6.335 , Valor médio: 19.939449541284418\n",
            "Número de quartos é: 5.942 , Valor médio: 19.939449541284418\n",
            "Número de quartos é: 6.454 , Valor médio: 19.939449541284418\n",
            "Número de quartos é: 5.857 , Valor médio: 19.939449541284418\n",
            "Número de quartos é: 6.151 , Valor médio: 19.939449541284418\n",
            "Número de quartos é: 6.174 , Valor médio: 19.939449541284418\n",
            "Número de quartos é: 5.019 , Valor médio: 19.939449541284418\n",
            "Número de quartos é: 5.403 , Valor médio: 19.939449541284418\n",
            "Número de quartos é: 5.468 , Valor médio: 19.939449541284418\n",
            "Número de quartos é: 4.903 , Valor médio: 19.939449541284418\n",
            "Número de quartos é: 6.13 , Valor médio: 19.939449541284418\n",
            "Número de quartos é: 5.628 , Valor médio: 19.939449541284418\n",
            "Número de quartos é: 4.926 , Valor médio: 19.939449541284418\n",
            "Número de quartos é: 5.186 , Valor médio: 19.939449541284418\n",
            "Número de quartos é: 5.597 , Valor médio: 19.939449541284418\n",
            "Número de quartos é: 6.122 , Valor médio: 19.939449541284418\n",
            "Número de quartos é: 5.404 , Valor médio: 19.939449541284418\n",
            "Número de quartos é: 5.012 , Valor médio: 19.939449541284418\n",
            "Número de quartos é: 5.709 , Valor médio: 19.939449541284418\n",
            "Número de quartos é: 6.129 , Valor médio: 19.939449541284418\n",
            "Número de quartos é: 6.152 , Valor médio: 19.939449541284418\n",
            "Número de quartos é: 5.272 , Valor médio: 19.939449541284418\n",
            "Número de quartos é: 6.943 , Valor médio: 19.939449541284418\n",
            "Número de quartos é: 6.066 , Valor médio: 19.939449541284418\n",
            "Número de quartos é: 6.51 , Valor médio: 19.939449541284418\n",
            "Número de quartos é: 6.25 , Valor médio: 19.939449541284418\n",
            "Número de quartos é: 5.854 , Valor médio: 19.939449541284418\n",
            "Número de quartos é: 6.101 , Valor médio: 19.939449541284418\n",
            "Número de quartos é: 5.877 , Valor médio: 19.939449541284418\n",
            "Número de quartos é: 6.319 , Valor médio: 19.939449541284418\n",
            "Número de quartos é: 6.402 , Valor médio: 19.939449541284418\n",
            "Número de quartos é: 5.875 , Valor médio: 19.939449541284418\n",
            "Número de quartos é: 5.88 , Valor médio: 19.939449541284418\n",
            "Número de quartos é: 5.572 , Valor médio: 19.939449541284418\n",
            "Número de quartos é: 6.416 , Valor médio: 19.939449541284418\n",
            "Número de quartos é: 5.859 , Valor médio: 19.939449541284418\n",
            "Número de quartos é: 6.546 , Valor médio: 19.939449541284418\n",
            "Número de quartos é: 6.02 , Valor médio: 19.939449541284418\n",
            "Número de quartos é: 6.315 , Valor médio: 19.939449541284418\n",
            "Número de quartos é: 6.86 , Valor médio: 19.939449541284418\n",
            "Número de quartos é: 6.98 , Valor médio: 19.939449541284418\n",
            "Número de quartos é: 7.765 , Valor médio: 35.71923076923077\n",
            "Número de quartos é: 6.144 , Valor médio: 19.939449541284418\n",
            "Número de quartos é: 7.155 , Valor médio: 35.71923076923077\n",
            "Número de quartos é: 6.563 , Valor médio: 19.939449541284418\n",
            "Número de quartos é: 5.604 , Valor médio: 19.939449541284418\n",
            "Número de quartos é: 6.153 , Valor médio: 19.939449541284418\n",
            "Número de quartos é: 6.782 , Valor médio: 19.939449541284418\n",
            "Número de quartos é: 6.556 , Valor médio: 19.939449541284418\n",
            "Número de quartos é: 7.185 , Valor médio: 35.71923076923077\n",
            "Número de quartos é: 6.951 , Valor médio: 19.939449541284418\n",
            "Número de quartos é: 6.739 , Valor médio: 19.939449541284418\n",
            "Número de quartos é: 7.178 , Valor médio: 35.71923076923077\n",
            "Número de quartos é: 6.8 , Valor médio: 19.939449541284418\n",
            "Número de quartos é: 6.604 , Valor médio: 19.939449541284418\n",
            "Número de quartos é: 7.287 , Valor médio: 35.71923076923077\n",
            "Número de quartos é: 7.107 , Valor médio: 35.71923076923077\n",
            "Número de quartos é: 7.274 , Valor médio: 35.71923076923077\n",
            "Número de quartos é: 6.975 , Valor médio: 19.939449541284418\n",
            "Número de quartos é: 7.135 , Valor médio: 35.71923076923077\n",
            "Número de quartos é: 6.162 , Valor médio: 19.939449541284418\n",
            "Número de quartos é: 7.61 , Valor médio: 35.71923076923077\n",
            "Número de quartos é: 7.853 , Valor médio: 35.71923076923077\n",
            "Número de quartos é: 5.891 , Valor médio: 19.939449541284418\n",
            "Número de quartos é: 6.326 , Valor médio: 19.939449541284418\n",
            "Número de quartos é: 5.783 , Valor médio: 19.939449541284418\n",
            "Número de quartos é: 6.064 , Valor médio: 19.939449541284418\n",
            "Número de quartos é: 5.344 , Valor médio: 19.939449541284418\n",
            "Número de quartos é: 5.96 , Valor médio: 19.939449541284418\n",
            "Número de quartos é: 5.404 , Valor médio: 19.939449541284418\n",
            "Número de quartos é: 5.807 , Valor médio: 19.939449541284418\n",
            "Número de quartos é: 6.375 , Valor médio: 19.939449541284418\n",
            "Número de quartos é: 5.412 , Valor médio: 19.939449541284418\n",
            "Número de quartos é: 6.182 , Valor médio: 19.939449541284418\n",
            "Número de quartos é: 5.888 , Valor médio: 19.939449541284418\n",
            "Número de quartos é: 6.642 , Valor médio: 19.939449541284418\n",
            "Número de quartos é: 5.951 , Valor médio: 19.939449541284418\n",
            "Número de quartos é: 6.373 , Valor médio: 19.939449541284418\n",
            "Número de quartos é: 6.951 , Valor médio: 19.939449541284418\n",
            "Número de quartos é: 6.164 , Valor médio: 19.939449541284418\n",
            "Número de quartos é: 6.879 , Valor médio: 19.939449541284418\n",
            "Número de quartos é: 6.618 , Valor médio: 19.939449541284418\n",
            "Número de quartos é: 8.266 , Valor médio: 35.71923076923077\n",
            "Número de quartos é: 8.04 , Valor médio: 35.71923076923077\n",
            "Número de quartos é: 7.163 , Valor médio: 35.71923076923077\n",
            "Número de quartos é: 7.686 , Valor médio: 35.71923076923077\n",
            "Número de quartos é: 6.552 , Valor médio: 19.939449541284418\n",
            "Número de quartos é: 5.981 , Valor médio: 19.939449541284418\n",
            "Número de quartos é: 7.412 , Valor médio: 35.71923076923077\n",
            "Número de quartos é: 8.337 , Valor médio: 35.71923076923077\n",
            "Número de quartos é: 8.247 , Valor médio: 35.71923076923077\n",
            "Número de quartos é: 6.726 , Valor médio: 19.939449541284418\n",
            "Número de quartos é: 6.086 , Valor médio: 19.939449541284418\n",
            "Número de quartos é: 6.631 , Valor médio: 19.939449541284418\n",
            "Número de quartos é: 7.358 , Valor médio: 35.71923076923077\n",
            "Número de quartos é: 6.481 , Valor médio: 19.939449541284418\n",
            "Número de quartos é: 6.606 , Valor médio: 19.939449541284418\n",
            "Número de quartos é: 6.897 , Valor médio: 19.939449541284418\n",
            "Número de quartos é: 6.095 , Valor médio: 19.939449541284418\n",
            "Número de quartos é: 6.358 , Valor médio: 19.939449541284418\n",
            "Número de quartos é: 6.393 , Valor médio: 19.939449541284418\n",
            "Número de quartos é: 5.593 , Valor médio: 19.939449541284418\n",
            "Número de quartos é: 5.605 , Valor médio: 19.939449541284418\n",
            "Número de quartos é: 6.108 , Valor médio: 19.939449541284418\n",
            "Número de quartos é: 6.226 , Valor médio: 19.939449541284418\n",
            "Número de quartos é: 6.433 , Valor médio: 19.939449541284418\n",
            "Número de quartos é: 6.718 , Valor médio: 19.939449541284418\n",
            "Número de quartos é: 6.487 , Valor médio: 19.939449541284418\n",
            "Número de quartos é: 6.438 , Valor médio: 19.939449541284418\n",
            "Número de quartos é: 6.957 , Valor médio: 19.939449541284418\n",
            "Número de quartos é: 8.259 , Valor médio: 35.71923076923077\n",
            "Número de quartos é: 6.108 , Valor médio: 19.939449541284418\n",
            "Número de quartos é: 5.876 , Valor médio: 19.939449541284418\n",
            "Número de quartos é: 7.454 , Valor médio: 35.71923076923077\n",
            "Número de quartos é: 7.333 , Valor médio: 35.71923076923077\n",
            "Número de quartos é: 6.842 , Valor médio: 19.939449541284418\n",
            "Número de quartos é: 7.203 , Valor médio: 35.71923076923077\n",
            "Número de quartos é: 7.52 , Valor médio: 35.71923076923077\n",
            "Número de quartos é: 8.398 , Valor médio: 35.71923076923077\n",
            "Número de quartos é: 7.327 , Valor médio: 35.71923076923077\n",
            "Número de quartos é: 7.206 , Valor médio: 35.71923076923077\n",
            "Número de quartos é: 5.56 , Valor médio: 19.939449541284418\n",
            "Número de quartos é: 7.014 , Valor médio: 35.71923076923077\n",
            "Número de quartos é: 7.47 , Valor médio: 35.71923076923077\n",
            "Número de quartos é: 5.92 , Valor médio: 19.939449541284418\n",
            "Número de quartos é: 5.856 , Valor médio: 19.939449541284418\n",
            "Número de quartos é: 6.24 , Valor médio: 19.939449541284418\n",
            "Número de quartos é: 6.538 , Valor médio: 19.939449541284418\n",
            "Número de quartos é: 7.691 , Valor médio: 35.71923076923077\n",
            "Número de quartos é: 6.758 , Valor médio: 19.939449541284418\n",
            "Número de quartos é: 6.854 , Valor médio: 19.939449541284418\n",
            "Número de quartos é: 7.267 , Valor médio: 35.71923076923077\n",
            "Número de quartos é: 6.826 , Valor médio: 19.939449541284418\n",
            "Número de quartos é: 6.482 , Valor médio: 19.939449541284418\n",
            "Número de quartos é: 6.812 , Valor médio: 19.939449541284418\n",
            "Número de quartos é: 7.82 , Valor médio: 35.71923076923077\n",
            "Número de quartos é: 6.968 , Valor médio: 19.939449541284418\n",
            "Número de quartos é: 7.645 , Valor médio: 35.71923076923077\n",
            "Número de quartos é: 7.088 , Valor médio: 35.71923076923077\n",
            "Número de quartos é: 6.453 , Valor médio: 19.939449541284418\n",
            "Número de quartos é: 6.23 , Valor médio: 19.939449541284418\n",
            "Número de quartos é: 6.209 , Valor médio: 19.939449541284418\n",
            "Número de quartos é: 6.315 , Valor médio: 19.939449541284418\n",
            "Número de quartos é: 6.565 , Valor médio: 19.939449541284418\n",
            "Número de quartos é: 6.861 , Valor médio: 19.939449541284418\n",
            "Número de quartos é: 7.148 , Valor médio: 35.71923076923077\n",
            "Número de quartos é: 6.63 , Valor médio: 19.939449541284418\n",
            "Número de quartos é: 6.127 , Valor médio: 19.939449541284418\n",
            "Número de quartos é: 6.009 , Valor médio: 19.939449541284418\n",
            "Número de quartos é: 6.678 , Valor médio: 19.939449541284418\n",
            "Número de quartos é: 6.549 , Valor médio: 19.939449541284418\n",
            "Número de quartos é: 5.79 , Valor médio: 19.939449541284418\n",
            "Número de quartos é: 6.345 , Valor médio: 19.939449541284418\n",
            "Número de quartos é: 7.041 , Valor médio: 35.71923076923077\n",
            "Número de quartos é: 6.871 , Valor médio: 19.939449541284418\n",
            "Número de quartos é: 6.59 , Valor médio: 19.939449541284418\n",
            "Número de quartos é: 6.495 , Valor médio: 19.939449541284418\n",
            "Número de quartos é: 6.982 , Valor médio: 19.939449541284418\n",
            "Número de quartos é: 7.236 , Valor médio: 35.71923076923077\n",
            "Número de quartos é: 6.616 , Valor médio: 19.939449541284418\n",
            "Número de quartos é: 7.42 , Valor médio: 35.71923076923077\n",
            "Número de quartos é: 6.849 , Valor médio: 19.939449541284418\n",
            "Número de quartos é: 6.635 , Valor médio: 19.939449541284418\n",
            "Número de quartos é: 5.972 , Valor médio: 19.939449541284418\n",
            "Número de quartos é: 4.973 , Valor médio: 19.939449541284418\n",
            "Número de quartos é: 6.122 , Valor médio: 19.939449541284418\n",
            "Número de quartos é: 6.023 , Valor médio: 19.939449541284418\n",
            "Número de quartos é: 6.266 , Valor médio: 19.939449541284418\n",
            "Número de quartos é: 6.567 , Valor médio: 19.939449541284418\n",
            "Número de quartos é: 5.705 , Valor médio: 19.939449541284418\n",
            "Número de quartos é: 5.914 , Valor médio: 19.939449541284418\n",
            "Número de quartos é: 5.782 , Valor médio: 19.939449541284418\n",
            "Número de quartos é: 6.382 , Valor médio: 19.939449541284418\n",
            "Número de quartos é: 6.113 , Valor médio: 19.939449541284418\n",
            "Número de quartos é: 6.426 , Valor médio: 19.939449541284418\n",
            "Número de quartos é: 6.376 , Valor médio: 19.939449541284418\n",
            "Número de quartos é: 6.041 , Valor médio: 19.939449541284418\n",
            "Número de quartos é: 5.708 , Valor médio: 19.939449541284418\n",
            "Número de quartos é: 6.415 , Valor médio: 19.939449541284418\n",
            "Número de quartos é: 6.431 , Valor médio: 19.939449541284418\n",
            "Número de quartos é: 6.312 , Valor médio: 19.939449541284418\n",
            "Número de quartos é: 6.083 , Valor médio: 19.939449541284418\n",
            "Número de quartos é: 5.868 , Valor médio: 19.939449541284418\n",
            "Número de quartos é: 6.333 , Valor médio: 19.939449541284418\n",
            "Número de quartos é: 6.144 , Valor médio: 19.939449541284418\n",
            "Número de quartos é: 5.706 , Valor médio: 19.939449541284418\n",
            "Número de quartos é: 6.031 , Valor médio: 19.939449541284418\n",
            "Número de quartos é: 6.316 , Valor médio: 19.939449541284418\n",
            "Número de quartos é: 6.31 , Valor médio: 19.939449541284418\n",
            "Número de quartos é: 6.037 , Valor médio: 19.939449541284418\n",
            "Número de quartos é: 5.869 , Valor médio: 19.939449541284418\n",
            "Número de quartos é: 5.895 , Valor médio: 19.939449541284418\n",
            "Número de quartos é: 6.059 , Valor médio: 19.939449541284418\n",
            "Número de quartos é: 5.985 , Valor médio: 19.939449541284418\n",
            "Número de quartos é: 5.968 , Valor médio: 19.939449541284418\n",
            "Número de quartos é: 7.241 , Valor médio: 35.71923076923077\n",
            "Número de quartos é: 6.54 , Valor médio: 19.939449541284418\n",
            "Número de quartos é: 6.696 , Valor médio: 19.939449541284418\n",
            "Número de quartos é: 6.874 , Valor médio: 19.939449541284418\n",
            "Número de quartos é: 6.014 , Valor médio: 19.939449541284418\n",
            "Número de quartos é: 5.898 , Valor médio: 19.939449541284418\n",
            "Número de quartos é: 6.516 , Valor médio: 19.939449541284418\n",
            "Número de quartos é: 6.635 , Valor médio: 19.939449541284418\n",
            "Número de quartos é: 6.939 , Valor médio: 19.939449541284418\n",
            "Número de quartos é: 6.49 , Valor médio: 19.939449541284418\n",
            "Número de quartos é: 6.579 , Valor médio: 19.939449541284418\n",
            "Número de quartos é: 5.884 , Valor médio: 19.939449541284418\n",
            "Número de quartos é: 6.728 , Valor médio: 19.939449541284418\n",
            "Número de quartos é: 5.663 , Valor médio: 19.939449541284418\n",
            "Número de quartos é: 5.936 , Valor médio: 19.939449541284418\n",
            "Número de quartos é: 6.212 , Valor médio: 19.939449541284418\n",
            "Número de quartos é: 6.395 , Valor médio: 19.939449541284418\n",
            "Número de quartos é: 6.127 , Valor médio: 19.939449541284418\n",
            "Número de quartos é: 6.112 , Valor médio: 19.939449541284418\n",
            "Número de quartos é: 6.398 , Valor médio: 19.939449541284418\n",
            "Número de quartos é: 6.251 , Valor médio: 19.939449541284418\n",
            "Número de quartos é: 5.362 , Valor médio: 19.939449541284418\n",
            "Número de quartos é: 5.803 , Valor médio: 19.939449541284418\n",
            "Número de quartos é: 8.78 , Valor médio: 35.71923076923077\n",
            "Número de quartos é: 3.561 , Valor médio: 25.3\n",
            "Número de quartos é: 4.963 , Valor médio: 19.939449541284418\n",
            "Número de quartos é: 3.863 , Valor médio: 25.3\n",
            "Número de quartos é: 4.906 , Valor médio: 19.939449541284418\n",
            "Número de quartos é: 4.138 , Valor médio: 19.939449541284418\n",
            "Número de quartos é: 7.313 , Valor médio: 35.71923076923077\n",
            "Número de quartos é: 6.649 , Valor médio: 19.939449541284418\n",
            "Número de quartos é: 6.794 , Valor médio: 19.939449541284418\n",
            "Número de quartos é: 6.38 , Valor médio: 19.939449541284418\n",
            "Número de quartos é: 6.223 , Valor médio: 19.939449541284418\n",
            "Número de quartos é: 6.968 , Valor médio: 19.939449541284418\n",
            "Número de quartos é: 6.545 , Valor médio: 19.939449541284418\n",
            "Número de quartos é: 5.536 , Valor médio: 19.939449541284418\n",
            "Número de quartos é: 5.52 , Valor médio: 19.939449541284418\n",
            "Número de quartos é: 4.368 , Valor médio: 19.939449541284418\n",
            "Número de quartos é: 5.277 , Valor médio: 19.939449541284418\n",
            "Número de quartos é: 4.652 , Valor médio: 19.939449541284418\n",
            "Número de quartos é: 5.0 , Valor médio: 19.939449541284418\n",
            "Número de quartos é: 4.88 , Valor médio: 19.939449541284418\n",
            "Número de quartos é: 5.39 , Valor médio: 19.939449541284418\n",
            "Número de quartos é: 5.713 , Valor médio: 19.939449541284418\n",
            "Número de quartos é: 6.051 , Valor médio: 19.939449541284418\n",
            "Número de quartos é: 5.036 , Valor médio: 19.939449541284418\n",
            "Número de quartos é: 6.193 , Valor médio: 19.939449541284418\n",
            "Número de quartos é: 5.887 , Valor médio: 19.939449541284418\n",
            "Número de quartos é: 6.471 , Valor médio: 19.939449541284418\n",
            "Número de quartos é: 6.405 , Valor médio: 19.939449541284418\n",
            "Número de quartos é: 5.747 , Valor médio: 19.939449541284418\n",
            "Número de quartos é: 5.453 , Valor médio: 19.939449541284418\n",
            "Número de quartos é: 5.852 , Valor médio: 19.939449541284418\n",
            "Número de quartos é: 5.987 , Valor médio: 19.939449541284418\n",
            "Número de quartos é: 6.343 , Valor médio: 19.939449541284418\n",
            "Número de quartos é: 6.404 , Valor médio: 19.939449541284418\n",
            "Número de quartos é: 5.349 , Valor médio: 19.939449541284418\n",
            "Número de quartos é: 5.531 , Valor médio: 19.939449541284418\n",
            "Número de quartos é: 5.683 , Valor médio: 19.939449541284418\n",
            "Número de quartos é: 4.138 , Valor médio: 19.939449541284418\n",
            "Número de quartos é: 5.608 , Valor médio: 19.939449541284418\n",
            "Número de quartos é: 5.617 , Valor médio: 19.939449541284418\n",
            "Número de quartos é: 6.852 , Valor médio: 19.939449541284418\n",
            "Número de quartos é: 5.757 , Valor médio: 19.939449541284418\n",
            "Número de quartos é: 6.657 , Valor médio: 19.939449541284418\n",
            "Número de quartos é: 4.628 , Valor médio: 19.939449541284418\n",
            "Número de quartos é: 5.155 , Valor médio: 19.939449541284418\n",
            "Número de quartos é: 4.519 , Valor médio: 19.939449541284418\n",
            "Número de quartos é: 6.434 , Valor médio: 19.939449541284418\n",
            "Número de quartos é: 6.782 , Valor médio: 19.939449541284418\n",
            "Número de quartos é: 5.304 , Valor médio: 19.939449541284418\n",
            "Número de quartos é: 5.957 , Valor médio: 19.939449541284418\n",
            "Número de quartos é: 6.824 , Valor médio: 19.939449541284418\n",
            "Número de quartos é: 6.411 , Valor médio: 19.939449541284418\n",
            "Número de quartos é: 6.006 , Valor médio: 19.939449541284418\n",
            "Número de quartos é: 5.648 , Valor médio: 19.939449541284418\n",
            "Número de quartos é: 6.103 , Valor médio: 19.939449541284418\n",
            "Número de quartos é: 5.565 , Valor médio: 19.939449541284418\n",
            "Número de quartos é: 5.896 , Valor médio: 19.939449541284418\n",
            "Número de quartos é: 5.837 , Valor médio: 19.939449541284418\n",
            "Número de quartos é: 6.202 , Valor médio: 19.939449541284418\n",
            "Número de quartos é: 6.193 , Valor médio: 19.939449541284418\n",
            "Número de quartos é: 6.38 , Valor médio: 19.939449541284418\n",
            "Número de quartos é: 6.348 , Valor médio: 19.939449541284418\n",
            "Número de quartos é: 6.833 , Valor médio: 19.939449541284418\n",
            "Número de quartos é: 6.425 , Valor médio: 19.939449541284418\n",
            "Número de quartos é: 6.436 , Valor médio: 19.939449541284418\n",
            "Número de quartos é: 6.208 , Valor médio: 19.939449541284418\n",
            "Número de quartos é: 6.629 , Valor médio: 19.939449541284418\n",
            "Número de quartos é: 6.461 , Valor médio: 19.939449541284418\n",
            "Número de quartos é: 6.152 , Valor médio: 19.939449541284418\n",
            "Número de quartos é: 5.935 , Valor médio: 19.939449541284418\n",
            "Número de quartos é: 5.627 , Valor médio: 19.939449541284418\n",
            "Número de quartos é: 5.818 , Valor médio: 19.939449541284418\n",
            "Número de quartos é: 6.406 , Valor médio: 19.939449541284418\n",
            "Número de quartos é: 6.219 , Valor médio: 19.939449541284418\n",
            "Número de quartos é: 6.485 , Valor médio: 19.939449541284418\n",
            "Número de quartos é: 5.854 , Valor médio: 19.939449541284418\n",
            "Número de quartos é: 6.459 , Valor médio: 19.939449541284418\n",
            "Número de quartos é: 6.341 , Valor médio: 19.939449541284418\n",
            "Número de quartos é: 6.251 , Valor médio: 19.939449541284418\n",
            "Número de quartos é: 6.185 , Valor médio: 19.939449541284418\n",
            "Número de quartos é: 6.417 , Valor médio: 19.939449541284418\n",
            "Número de quartos é: 6.749 , Valor médio: 19.939449541284418\n",
            "Número de quartos é: 6.655 , Valor médio: 19.939449541284418\n",
            "Número de quartos é: 6.297 , Valor médio: 19.939449541284418\n",
            "Número de quartos é: 7.393 , Valor médio: 35.71923076923077\n",
            "Número de quartos é: 6.728 , Valor médio: 19.939449541284418\n",
            "Número de quartos é: 6.525 , Valor médio: 19.939449541284418\n",
            "Número de quartos é: 5.976 , Valor médio: 19.939449541284418\n",
            "Número de quartos é: 5.936 , Valor médio: 19.939449541284418\n",
            "Número de quartos é: 6.301 , Valor médio: 19.939449541284418\n",
            "Número de quartos é: 6.081 , Valor médio: 19.939449541284418\n",
            "Número de quartos é: 6.701 , Valor médio: 19.939449541284418\n",
            "Número de quartos é: 6.376 , Valor médio: 19.939449541284418\n",
            "Número de quartos é: 6.317 , Valor médio: 19.939449541284418\n",
            "Número de quartos é: 6.513 , Valor médio: 19.939449541284418\n",
            "Número de quartos é: 6.209 , Valor médio: 19.939449541284418\n",
            "Número de quartos é: 5.759 , Valor médio: 19.939449541284418\n",
            "Número de quartos é: 5.952 , Valor médio: 19.939449541284418\n",
            "Número de quartos é: 6.003 , Valor médio: 19.939449541284418\n",
            "Número de quartos é: 5.926 , Valor médio: 19.939449541284418\n",
            "Número de quartos é: 5.713 , Valor médio: 19.939449541284418\n",
            "Número de quartos é: 6.167 , Valor médio: 19.939449541284418\n",
            "Número de quartos é: 6.229 , Valor médio: 19.939449541284418\n",
            "Número de quartos é: 6.437 , Valor médio: 19.939449541284418\n",
            "Número de quartos é: 6.98 , Valor médio: 19.939449541284418\n",
            "Número de quartos é: 5.427 , Valor médio: 19.939449541284418\n",
            "Número de quartos é: 6.162 , Valor médio: 19.939449541284418\n",
            "Número de quartos é: 6.484 , Valor médio: 19.939449541284418\n",
            "Número de quartos é: 5.304 , Valor médio: 19.939449541284418\n",
            "Número de quartos é: 6.185 , Valor médio: 19.939449541284418\n",
            "Número de quartos é: 6.229 , Valor médio: 19.939449541284418\n",
            "Número de quartos é: 6.242 , Valor médio: 19.939449541284418\n",
            "Número de quartos é: 6.75 , Valor médio: 19.939449541284418\n",
            "Número de quartos é: 7.061 , Valor médio: 35.71923076923077\n",
            "Número de quartos é: 5.762 , Valor médio: 19.939449541284418\n",
            "Número de quartos é: 5.871 , Valor médio: 19.939449541284418\n",
            "Número de quartos é: 6.312 , Valor médio: 19.939449541284418\n",
            "Número de quartos é: 6.114 , Valor médio: 19.939449541284418\n",
            "Número de quartos é: 5.905 , Valor médio: 19.939449541284418\n",
            "Número de quartos é: 5.454 , Valor médio: 19.939449541284418\n",
            "Número de quartos é: 5.414 , Valor médio: 19.939449541284418\n",
            "Número de quartos é: 5.093 , Valor médio: 19.939449541284418\n",
            "Número de quartos é: 5.983 , Valor médio: 19.939449541284418\n",
            "Número de quartos é: 5.983 , Valor médio: 19.939449541284418\n",
            "Número de quartos é: 5.707 , Valor médio: 19.939449541284418\n",
            "Número de quartos é: 5.926 , Valor médio: 19.939449541284418\n",
            "Número de quartos é: 5.67 , Valor médio: 19.939449541284418\n",
            "Número de quartos é: 5.39 , Valor médio: 19.939449541284418\n",
            "Número de quartos é: 5.794 , Valor médio: 19.939449541284418\n",
            "Número de quartos é: 6.019 , Valor médio: 19.939449541284418\n",
            "Número de quartos é: 5.569 , Valor médio: 19.939449541284418\n",
            "Número de quartos é: 6.027 , Valor médio: 19.939449541284418\n",
            "Número de quartos é: 6.593 , Valor médio: 19.939449541284418\n",
            "Número de quartos é: 6.12 , Valor médio: 19.939449541284418\n",
            "Número de quartos é: 6.976 , Valor médio: 19.939449541284418\n",
            "Número de quartos é: 6.794 , Valor médio: 19.939449541284418\n",
            "Número de quartos é: 6.03 , Valor médio: 19.939449541284418\n"
          ],
          "name": "stdout"
        }
      ]
    },
    {
      "cell_type": "code",
      "metadata": {
        "id": "7Is3KDjcXzBG",
        "colab_type": "code",
        "outputId": "2581a3ac-6be2-4dda-e847-de5ea8f0ef95",
        "colab": {
          "base_uri": "https://localhost:8080/",
          "height": 206
        }
      },
      "source": [
        "# imprime as 5 primeiras linhas do dataframe\n",
        "data.head()"
      ],
      "execution_count": 24,
      "outputs": [
        {
          "output_type": "execute_result",
          "data": {
            "text/html": [
              "<div>\n",
              "<style scoped>\n",
              "    .dataframe tbody tr th:only-of-type {\n",
              "        vertical-align: middle;\n",
              "    }\n",
              "\n",
              "    .dataframe tbody tr th {\n",
              "        vertical-align: top;\n",
              "    }\n",
              "\n",
              "    .dataframe thead th {\n",
              "        text-align: right;\n",
              "    }\n",
              "</style>\n",
              "<table border=\"1\" class=\"dataframe\">\n",
              "  <thead>\n",
              "    <tr style=\"text-align: right;\">\n",
              "      <th></th>\n",
              "      <th>CRIM</th>\n",
              "      <th>ZN</th>\n",
              "      <th>INDUS</th>\n",
              "      <th>CHAS</th>\n",
              "      <th>NOX</th>\n",
              "      <th>RM</th>\n",
              "      <th>AGE</th>\n",
              "      <th>DIS</th>\n",
              "      <th>RAD</th>\n",
              "      <th>TAX</th>\n",
              "      <th>PTRATIO</th>\n",
              "      <th>B</th>\n",
              "      <th>LSTAT</th>\n",
              "      <th>MEDV</th>\n",
              "      <th>categorias</th>\n",
              "    </tr>\n",
              "  </thead>\n",
              "  <tbody>\n",
              "    <tr>\n",
              "      <th>0</th>\n",
              "      <td>0.00632</td>\n",
              "      <td>18.0</td>\n",
              "      <td>2.31</td>\n",
              "      <td>0.0</td>\n",
              "      <td>0.538</td>\n",
              "      <td>6.575</td>\n",
              "      <td>65.2</td>\n",
              "      <td>4.0900</td>\n",
              "      <td>1.0</td>\n",
              "      <td>296.0</td>\n",
              "      <td>15.3</td>\n",
              "      <td>396.90</td>\n",
              "      <td>4.98</td>\n",
              "      <td>24.0</td>\n",
              "      <td>Medio</td>\n",
              "    </tr>\n",
              "    <tr>\n",
              "      <th>1</th>\n",
              "      <td>0.02731</td>\n",
              "      <td>0.0</td>\n",
              "      <td>7.07</td>\n",
              "      <td>0.0</td>\n",
              "      <td>0.469</td>\n",
              "      <td>6.421</td>\n",
              "      <td>78.9</td>\n",
              "      <td>4.9671</td>\n",
              "      <td>2.0</td>\n",
              "      <td>242.0</td>\n",
              "      <td>17.8</td>\n",
              "      <td>396.90</td>\n",
              "      <td>9.14</td>\n",
              "      <td>21.6</td>\n",
              "      <td>Medio</td>\n",
              "    </tr>\n",
              "    <tr>\n",
              "      <th>2</th>\n",
              "      <td>0.02729</td>\n",
              "      <td>0.0</td>\n",
              "      <td>7.07</td>\n",
              "      <td>0.0</td>\n",
              "      <td>0.469</td>\n",
              "      <td>7.185</td>\n",
              "      <td>61.1</td>\n",
              "      <td>4.9671</td>\n",
              "      <td>2.0</td>\n",
              "      <td>242.0</td>\n",
              "      <td>17.8</td>\n",
              "      <td>392.83</td>\n",
              "      <td>4.03</td>\n",
              "      <td>34.7</td>\n",
              "      <td>Grande</td>\n",
              "    </tr>\n",
              "    <tr>\n",
              "      <th>3</th>\n",
              "      <td>0.03237</td>\n",
              "      <td>0.0</td>\n",
              "      <td>2.18</td>\n",
              "      <td>0.0</td>\n",
              "      <td>0.458</td>\n",
              "      <td>6.998</td>\n",
              "      <td>45.8</td>\n",
              "      <td>6.0622</td>\n",
              "      <td>3.0</td>\n",
              "      <td>222.0</td>\n",
              "      <td>18.7</td>\n",
              "      <td>394.63</td>\n",
              "      <td>2.94</td>\n",
              "      <td>33.4</td>\n",
              "      <td>Medio</td>\n",
              "    </tr>\n",
              "    <tr>\n",
              "      <th>4</th>\n",
              "      <td>0.06905</td>\n",
              "      <td>0.0</td>\n",
              "      <td>2.18</td>\n",
              "      <td>0.0</td>\n",
              "      <td>0.458</td>\n",
              "      <td>7.147</td>\n",
              "      <td>54.2</td>\n",
              "      <td>6.0622</td>\n",
              "      <td>3.0</td>\n",
              "      <td>222.0</td>\n",
              "      <td>18.7</td>\n",
              "      <td>396.90</td>\n",
              "      <td>5.33</td>\n",
              "      <td>36.2</td>\n",
              "      <td>Grande</td>\n",
              "    </tr>\n",
              "  </tbody>\n",
              "</table>\n",
              "</div>"
            ],
            "text/plain": [
              "      CRIM    ZN  INDUS  CHAS    NOX  ...  PTRATIO       B  LSTAT  MEDV  categorias\n",
              "0  0.00632  18.0   2.31   0.0  0.538  ...     15.3  396.90   4.98  24.0       Medio\n",
              "1  0.02731   0.0   7.07   0.0  0.469  ...     17.8  396.90   9.14  21.6       Medio\n",
              "2  0.02729   0.0   7.07   0.0  0.469  ...     17.8  392.83   4.03  34.7      Grande\n",
              "3  0.03237   0.0   2.18   0.0  0.458  ...     18.7  394.63   2.94  33.4       Medio\n",
              "4  0.06905   0.0   2.18   0.0  0.458  ...     18.7  396.90   5.33  36.2      Grande\n",
              "\n",
              "[5 rows x 15 columns]"
            ]
          },
          "metadata": {
            "tags": []
          },
          "execution_count": 24
        }
      ]
    },
    {
      "cell_type": "markdown",
      "metadata": {
        "id": "SaYmsVtotcF_",
        "colab_type": "text"
      },
      "source": [
        "### Trabalhando com a baseline"
      ]
    },
    {
      "cell_type": "markdown",
      "metadata": {
        "id": "SXXetS7AHiXz",
        "colab_type": "text"
      },
      "source": [
        "Preparando os dados"
      ]
    },
    {
      "cell_type": "code",
      "metadata": {
        "id": "Ai2si0SMFKVX",
        "colab_type": "code",
        "colab": {}
      },
      "source": [
        "# remove as colunas colineares, variavel alvo e a coluna categorias\n",
        "X = data.drop(['RAD','TAX','MEDV','DIS','AGE','ZN','categorias'], axis=1)"
      ],
      "execution_count": 0,
      "outputs": []
    },
    {
      "cell_type": "code",
      "metadata": {
        "id": "vxOb-hwYFFJx",
        "colab_type": "code",
        "colab": {}
      },
      "source": [
        "# variável 'y' é nossa variável alvo\n",
        "y = data['MEDV']"
      ],
      "execution_count": 0,
      "outputs": []
    },
    {
      "cell_type": "code",
      "metadata": {
        "id": "EhagncsDLyk-",
        "colab_type": "code",
        "outputId": "9120b24f-4b26-48d3-da89-f0cea9892888",
        "colab": {
          "base_uri": "https://localhost:8080/",
          "height": 206
        }
      },
      "source": [
        "# Dados na variável X\n",
        "X.head()"
      ],
      "execution_count": 27,
      "outputs": [
        {
          "output_type": "execute_result",
          "data": {
            "text/html": [
              "<div>\n",
              "<style scoped>\n",
              "    .dataframe tbody tr th:only-of-type {\n",
              "        vertical-align: middle;\n",
              "    }\n",
              "\n",
              "    .dataframe tbody tr th {\n",
              "        vertical-align: top;\n",
              "    }\n",
              "\n",
              "    .dataframe thead th {\n",
              "        text-align: right;\n",
              "    }\n",
              "</style>\n",
              "<table border=\"1\" class=\"dataframe\">\n",
              "  <thead>\n",
              "    <tr style=\"text-align: right;\">\n",
              "      <th></th>\n",
              "      <th>CRIM</th>\n",
              "      <th>INDUS</th>\n",
              "      <th>CHAS</th>\n",
              "      <th>NOX</th>\n",
              "      <th>RM</th>\n",
              "      <th>PTRATIO</th>\n",
              "      <th>B</th>\n",
              "      <th>LSTAT</th>\n",
              "    </tr>\n",
              "  </thead>\n",
              "  <tbody>\n",
              "    <tr>\n",
              "      <th>0</th>\n",
              "      <td>0.00632</td>\n",
              "      <td>2.31</td>\n",
              "      <td>0.0</td>\n",
              "      <td>0.538</td>\n",
              "      <td>6.575</td>\n",
              "      <td>15.3</td>\n",
              "      <td>396.90</td>\n",
              "      <td>4.98</td>\n",
              "    </tr>\n",
              "    <tr>\n",
              "      <th>1</th>\n",
              "      <td>0.02731</td>\n",
              "      <td>7.07</td>\n",
              "      <td>0.0</td>\n",
              "      <td>0.469</td>\n",
              "      <td>6.421</td>\n",
              "      <td>17.8</td>\n",
              "      <td>396.90</td>\n",
              "      <td>9.14</td>\n",
              "    </tr>\n",
              "    <tr>\n",
              "      <th>2</th>\n",
              "      <td>0.02729</td>\n",
              "      <td>7.07</td>\n",
              "      <td>0.0</td>\n",
              "      <td>0.469</td>\n",
              "      <td>7.185</td>\n",
              "      <td>17.8</td>\n",
              "      <td>392.83</td>\n",
              "      <td>4.03</td>\n",
              "    </tr>\n",
              "    <tr>\n",
              "      <th>3</th>\n",
              "      <td>0.03237</td>\n",
              "      <td>2.18</td>\n",
              "      <td>0.0</td>\n",
              "      <td>0.458</td>\n",
              "      <td>6.998</td>\n",
              "      <td>18.7</td>\n",
              "      <td>394.63</td>\n",
              "      <td>2.94</td>\n",
              "    </tr>\n",
              "    <tr>\n",
              "      <th>4</th>\n",
              "      <td>0.06905</td>\n",
              "      <td>2.18</td>\n",
              "      <td>0.0</td>\n",
              "      <td>0.458</td>\n",
              "      <td>7.147</td>\n",
              "      <td>18.7</td>\n",
              "      <td>396.90</td>\n",
              "      <td>5.33</td>\n",
              "    </tr>\n",
              "  </tbody>\n",
              "</table>\n",
              "</div>"
            ],
            "text/plain": [
              "      CRIM  INDUS  CHAS    NOX     RM  PTRATIO       B  LSTAT\n",
              "0  0.00632   2.31   0.0  0.538  6.575     15.3  396.90   4.98\n",
              "1  0.02731   7.07   0.0  0.469  6.421     17.8  396.90   9.14\n",
              "2  0.02729   7.07   0.0  0.469  7.185     17.8  392.83   4.03\n",
              "3  0.03237   2.18   0.0  0.458  6.998     18.7  394.63   2.94\n",
              "4  0.06905   2.18   0.0  0.458  7.147     18.7  396.90   5.33"
            ]
          },
          "metadata": {
            "tags": []
          },
          "execution_count": 27
        }
      ]
    },
    {
      "cell_type": "code",
      "metadata": {
        "id": "W3He9wgaL5W7",
        "colab_type": "code",
        "outputId": "73ede640-685b-4499-b124-68f406c4df6e",
        "colab": {
          "base_uri": "https://localhost:8080/",
          "height": 127
        }
      },
      "source": [
        "# Variável alvo\n",
        "y.head()"
      ],
      "execution_count": 28,
      "outputs": [
        {
          "output_type": "execute_result",
          "data": {
            "text/plain": [
              "0    24.0\n",
              "1    21.6\n",
              "2    34.7\n",
              "3    33.4\n",
              "4    36.2\n",
              "Name: MEDV, dtype: float64"
            ]
          },
          "metadata": {
            "tags": []
          },
          "execution_count": 28
        }
      ]
    },
    {
      "cell_type": "markdown",
      "metadata": {
        "id": "B0I1geDbH2cV",
        "colab_type": "text"
      },
      "source": [
        "Separando os conjuntos de treino e teste"
      ]
    },
    {
      "cell_type": "code",
      "metadata": {
        "id": "13W2Fe2PfoK2",
        "colab_type": "code",
        "colab": {}
      },
      "source": [
        "# carrega o método train_test_split\n",
        "from sklearn.model_selection import train_test_split"
      ],
      "execution_count": 0,
      "outputs": []
    },
    {
      "cell_type": "code",
      "metadata": {
        "id": "FaFtnr62AJ74",
        "colab_type": "code",
        "colab": {}
      },
      "source": [
        "# divide os dados entre o conjunto de treino e teste, 80% e 20% respectivamente.\n",
        "# define qualquer valor para o parâmetro random_state.\n",
        "X_train, X_test, y_train, y_test = train_test_split(X, y, test_size = 0.2, random_state=5)"
      ],
      "execution_count": 0,
      "outputs": []
    },
    {
      "cell_type": "code",
      "metadata": {
        "id": "BiUsFzXQAJ38",
        "colab_type": "code",
        "outputId": "5edcba2f-ce91-41ba-c973-eca1197d1c17",
        "colab": {
          "base_uri": "https://localhost:8080/",
          "height": 90
        }
      },
      "source": [
        "# imprime a quantidade de linhas dos conjuntos\n",
        "print ('X_train: numero de linhas e colunas: {}'.format(X_train.shape))\n",
        "print ('X_test: numero de linhas e colunas: {}'.format(X_test.shape))\n",
        "print ('y_train: numero de linhas e colunas: {}'.format(y_train.shape))\n",
        "print ('y_test: numero de linhas e colunas: {}'.format(y_test.shape))"
      ],
      "execution_count": 31,
      "outputs": [
        {
          "output_type": "stream",
          "text": [
            "X_train: numero de linhas e colunas: (392, 8)\n",
            "X_test: numero de linhas e colunas: (98, 8)\n",
            "y_train: numero de linhas e colunas: (392,)\n",
            "y_test: numero de linhas e colunas: (98,)\n"
          ],
          "name": "stdout"
        }
      ]
    },
    {
      "cell_type": "markdown",
      "metadata": {
        "id": "Wu94wESmFQqy",
        "colab_type": "text"
      },
      "source": [
        "Modelo de baseline"
      ]
    },
    {
      "cell_type": "code",
      "metadata": {
        "id": "FI97hd4HFPtR",
        "colab_type": "code",
        "outputId": "97c27eda-6b04-4f17-e289-d1eb5b1368b6",
        "colab": {
          "base_uri": "https://localhost:8080/",
          "height": 206
        }
      },
      "source": [
        "# imprimindo as 5 primeiras linhas dos dados de teste\n",
        "X_test.head()"
      ],
      "execution_count": 32,
      "outputs": [
        {
          "output_type": "execute_result",
          "data": {
            "text/html": [
              "<div>\n",
              "<style scoped>\n",
              "    .dataframe tbody tr th:only-of-type {\n",
              "        vertical-align: middle;\n",
              "    }\n",
              "\n",
              "    .dataframe tbody tr th {\n",
              "        vertical-align: top;\n",
              "    }\n",
              "\n",
              "    .dataframe thead th {\n",
              "        text-align: right;\n",
              "    }\n",
              "</style>\n",
              "<table border=\"1\" class=\"dataframe\">\n",
              "  <thead>\n",
              "    <tr style=\"text-align: right;\">\n",
              "      <th></th>\n",
              "      <th>CRIM</th>\n",
              "      <th>INDUS</th>\n",
              "      <th>CHAS</th>\n",
              "      <th>NOX</th>\n",
              "      <th>RM</th>\n",
              "      <th>PTRATIO</th>\n",
              "      <th>B</th>\n",
              "      <th>LSTAT</th>\n",
              "    </tr>\n",
              "  </thead>\n",
              "  <tbody>\n",
              "    <tr>\n",
              "      <th>245</th>\n",
              "      <td>0.19133</td>\n",
              "      <td>5.86</td>\n",
              "      <td>0.0</td>\n",
              "      <td>0.431</td>\n",
              "      <td>5.605</td>\n",
              "      <td>19.1</td>\n",
              "      <td>389.13</td>\n",
              "      <td>18.46</td>\n",
              "    </tr>\n",
              "    <tr>\n",
              "      <th>456</th>\n",
              "      <td>4.66883</td>\n",
              "      <td>18.10</td>\n",
              "      <td>0.0</td>\n",
              "      <td>0.713</td>\n",
              "      <td>5.976</td>\n",
              "      <td>20.2</td>\n",
              "      <td>10.48</td>\n",
              "      <td>19.01</td>\n",
              "    </tr>\n",
              "    <tr>\n",
              "      <th>75</th>\n",
              "      <td>0.09512</td>\n",
              "      <td>12.83</td>\n",
              "      <td>0.0</td>\n",
              "      <td>0.437</td>\n",
              "      <td>6.286</td>\n",
              "      <td>18.7</td>\n",
              "      <td>383.23</td>\n",
              "      <td>8.94</td>\n",
              "    </tr>\n",
              "    <tr>\n",
              "      <th>238</th>\n",
              "      <td>0.08244</td>\n",
              "      <td>4.93</td>\n",
              "      <td>0.0</td>\n",
              "      <td>0.428</td>\n",
              "      <td>6.481</td>\n",
              "      <td>16.6</td>\n",
              "      <td>379.41</td>\n",
              "      <td>6.36</td>\n",
              "    </tr>\n",
              "    <tr>\n",
              "      <th>362</th>\n",
              "      <td>3.67822</td>\n",
              "      <td>18.10</td>\n",
              "      <td>0.0</td>\n",
              "      <td>0.770</td>\n",
              "      <td>5.362</td>\n",
              "      <td>20.2</td>\n",
              "      <td>380.79</td>\n",
              "      <td>10.19</td>\n",
              "    </tr>\n",
              "  </tbody>\n",
              "</table>\n",
              "</div>"
            ],
            "text/plain": [
              "        CRIM  INDUS  CHAS    NOX     RM  PTRATIO       B  LSTAT\n",
              "245  0.19133   5.86   0.0  0.431  5.605     19.1  389.13  18.46\n",
              "456  4.66883  18.10   0.0  0.713  5.976     20.2   10.48  19.01\n",
              "75   0.09512  12.83   0.0  0.437  6.286     18.7  383.23   8.94\n",
              "238  0.08244   4.93   0.0  0.428  6.481     16.6  379.41   6.36\n",
              "362  3.67822  18.10   0.0  0.770  5.362     20.2  380.79  10.19"
            ]
          },
          "metadata": {
            "tags": []
          },
          "execution_count": 32
        }
      ]
    },
    {
      "cell_type": "code",
      "metadata": {
        "id": "vRGvzY2jFbvD",
        "colab_type": "code",
        "colab": {}
      },
      "source": [
        "# definindo uma lista de predicoes\n",
        "predicoes = []"
      ],
      "execution_count": 0,
      "outputs": []
    },
    {
      "cell_type": "code",
      "metadata": {
        "id": "xZ09WeQcGdL0",
        "colab_type": "code",
        "colab": {}
      },
      "source": [
        "# para cada elemento do teste alimenta a lista predicoes\n",
        "for i in X_test.RM.iteritems():\n",
        "  n_quartos = i[1]\n",
        "  predicoes.append(retorna_baseline(n_quartos))"
      ],
      "execution_count": 0,
      "outputs": []
    },
    {
      "cell_type": "code",
      "metadata": {
        "id": "Zn-1qKZYF16H",
        "colab_type": "code",
        "outputId": "8ccb6e76-c0bc-4441-d6c8-a0d74bc16416",
        "colab": {
          "base_uri": "https://localhost:8080/",
          "height": 201
        }
      },
      "source": [
        "# imprime as 10 primeiras linhas da lista de predicoes\n",
        "predicoes[:10]"
      ],
      "execution_count": 35,
      "outputs": [
        {
          "output_type": "execute_result",
          "data": {
            "text/plain": [
              "[19.939449541284418,\n",
              " 19.939449541284418,\n",
              " 19.939449541284418,\n",
              " 19.939449541284418,\n",
              " 19.939449541284418,\n",
              " 19.939449541284418,\n",
              " 19.939449541284418,\n",
              " 19.939449541284418,\n",
              " 35.71923076923077,\n",
              " 35.71923076923077]"
            ]
          },
          "metadata": {
            "tags": []
          },
          "execution_count": 35
        }
      ]
    },
    {
      "cell_type": "markdown",
      "metadata": {
        "id": "CM3QVVQ-Ug5L",
        "colab_type": "text"
      },
      "source": [
        "Atribuindo resultados a um dataframe\n",
        "\n",
        "-   `Manteremos um log ao longo do projeto`\n",
        "-   `Permite a evolução dado o baseline`\n",
        "\n"
      ]
    },
    {
      "cell_type": "code",
      "metadata": {
        "id": "dMr0oUucnuy-",
        "colab_type": "code",
        "colab": {}
      },
      "source": [
        "# cria um dataframe vazio\n",
        "df_results = pd.DataFrame()"
      ],
      "execution_count": 0,
      "outputs": []
    },
    {
      "cell_type": "code",
      "metadata": {
        "id": "9T5FnjHnUDTA",
        "colab_type": "code",
        "colab": {}
      },
      "source": [
        "# adiciona a coluna valor_real\n",
        "df_results['valor_real'] = y_test.values"
      ],
      "execution_count": 0,
      "outputs": []
    },
    {
      "cell_type": "code",
      "metadata": {
        "id": "seteWjL0UDL3",
        "colab_type": "code",
        "colab": {}
      },
      "source": [
        "# cria a coluna valor_predito_baseline com as predicoes\n",
        "df_results['valor_predito_baseline'] = predicoes"
      ],
      "execution_count": 0,
      "outputs": []
    },
    {
      "cell_type": "code",
      "metadata": {
        "id": "6e34IoHyUC77",
        "colab_type": "code",
        "outputId": "8dc09898-c406-408b-bbef-b09fba3f5c58",
        "colab": {
          "base_uri": "https://localhost:8080/",
          "height": 363
        }
      },
      "source": [
        "# imprimindo as 10 primeiras linhas do df_results\n",
        "df_results.head(10)"
      ],
      "execution_count": 39,
      "outputs": [
        {
          "output_type": "execute_result",
          "data": {
            "text/html": [
              "<div>\n",
              "<style scoped>\n",
              "    .dataframe tbody tr th:only-of-type {\n",
              "        vertical-align: middle;\n",
              "    }\n",
              "\n",
              "    .dataframe tbody tr th {\n",
              "        vertical-align: top;\n",
              "    }\n",
              "\n",
              "    .dataframe thead th {\n",
              "        text-align: right;\n",
              "    }\n",
              "</style>\n",
              "<table border=\"1\" class=\"dataframe\">\n",
              "  <thead>\n",
              "    <tr style=\"text-align: right;\">\n",
              "      <th></th>\n",
              "      <th>valor_real</th>\n",
              "      <th>valor_predito_baseline</th>\n",
              "    </tr>\n",
              "  </thead>\n",
              "  <tbody>\n",
              "    <tr>\n",
              "      <th>0</th>\n",
              "      <td>18.5</td>\n",
              "      <td>19.939450</td>\n",
              "    </tr>\n",
              "    <tr>\n",
              "      <th>1</th>\n",
              "      <td>12.7</td>\n",
              "      <td>19.939450</td>\n",
              "    </tr>\n",
              "    <tr>\n",
              "      <th>2</th>\n",
              "      <td>21.4</td>\n",
              "      <td>19.939450</td>\n",
              "    </tr>\n",
              "    <tr>\n",
              "      <th>3</th>\n",
              "      <td>23.7</td>\n",
              "      <td>19.939450</td>\n",
              "    </tr>\n",
              "    <tr>\n",
              "      <th>4</th>\n",
              "      <td>20.8</td>\n",
              "      <td>19.939450</td>\n",
              "    </tr>\n",
              "    <tr>\n",
              "      <th>5</th>\n",
              "      <td>25.0</td>\n",
              "      <td>19.939450</td>\n",
              "    </tr>\n",
              "    <tr>\n",
              "      <th>6</th>\n",
              "      <td>9.7</td>\n",
              "      <td>19.939450</td>\n",
              "    </tr>\n",
              "    <tr>\n",
              "      <th>7</th>\n",
              "      <td>14.9</td>\n",
              "      <td>19.939450</td>\n",
              "    </tr>\n",
              "    <tr>\n",
              "      <th>8</th>\n",
              "      <td>34.9</td>\n",
              "      <td>35.719231</td>\n",
              "    </tr>\n",
              "    <tr>\n",
              "      <th>9</th>\n",
              "      <td>31.6</td>\n",
              "      <td>35.719231</td>\n",
              "    </tr>\n",
              "  </tbody>\n",
              "</table>\n",
              "</div>"
            ],
            "text/plain": [
              "   valor_real  valor_predito_baseline\n",
              "0        18.5               19.939450\n",
              "1        12.7               19.939450\n",
              "2        21.4               19.939450\n",
              "3        23.7               19.939450\n",
              "4        20.8               19.939450\n",
              "5        25.0               19.939450\n",
              "6         9.7               19.939450\n",
              "7        14.9               19.939450\n",
              "8        34.9               35.719231\n",
              "9        31.6               35.719231"
            ]
          },
          "metadata": {
            "tags": []
          },
          "execution_count": 39
        }
      ]
    },
    {
      "cell_type": "markdown",
      "metadata": {
        "id": "HNRa3fuzVX_6",
        "colab_type": "text"
      },
      "source": [
        "Plota o valor real e o baseline"
      ]
    },
    {
      "cell_type": "code",
      "metadata": {
        "id": "wcrc2krAVJCN",
        "colab_type": "code",
        "outputId": "427688af-de7d-4cdf-88bf-13ce94cae30d",
        "colab": {
          "base_uri": "https://localhost:8080/",
          "height": 542
        }
      },
      "source": [
        "import plotly.graph_objects as go\n",
        "\n",
        "# Create traces\n",
        "fig = go.Figure()\n",
        "\n",
        "# Linha com os dados de teste\n",
        "fig.add_trace(go.Scatter(x=df_results.index,\n",
        "                         y=df_results.valor_real,\n",
        "                         mode='lines+markers',\n",
        "                         name='Valor Real'))\n",
        "\n",
        "# Linha com os dados preditos\n",
        "fig.add_trace(go.Scatter(x=df_results.index,\n",
        "                         y=df_results.valor_predito_baseline,\n",
        "                         mode='lines+markers',\n",
        "                         name='Valor Predito Baseline'))\n",
        "# Plota a figura\n",
        "fig.show()"
      ],
      "execution_count": 40,
      "outputs": [
        {
          "output_type": "display_data",
          "data": {
            "text/html": [
              "<html>\n",
              "<head><meta charset=\"utf-8\" /></head>\n",
              "<body>\n",
              "    <div>\n",
              "            <script src=\"https://cdnjs.cloudflare.com/ajax/libs/mathjax/2.7.5/MathJax.js?config=TeX-AMS-MML_SVG\"></script><script type=\"text/javascript\">if (window.MathJax) {MathJax.Hub.Config({SVG: {font: \"STIX-Web\"}});}</script>\n",
              "                <script type=\"text/javascript\">window.PlotlyConfig = {MathJaxConfig: 'local'};</script>\n",
              "        <script src=\"https://cdn.plot.ly/plotly-latest.min.js\"></script>    \n",
              "            <div id=\"53384cbb-aee0-45b5-8c90-037dcbacab97\" class=\"plotly-graph-div\" style=\"height:525px; width:100%;\"></div>\n",
              "            <script type=\"text/javascript\">\n",
              "                \n",
              "                    window.PLOTLYENV=window.PLOTLYENV || {};\n",
              "                    \n",
              "                if (document.getElementById(\"53384cbb-aee0-45b5-8c90-037dcbacab97\")) {\n",
              "                    Plotly.newPlot(\n",
              "                        '53384cbb-aee0-45b5-8c90-037dcbacab97',\n",
              "                        [{\"mode\": \"lines+markers\", \"name\": \"Valor Real\", \"type\": \"scatter\", \"x\": [0, 1, 2, 3, 4, 5, 6, 7, 8, 9, 10, 11, 12, 13, 14, 15, 16, 17, 18, 19, 20, 21, 22, 23, 24, 25, 26, 27, 28, 29, 30, 31, 32, 33, 34, 35, 36, 37, 38, 39, 40, 41, 42, 43, 44, 45, 46, 47, 48, 49, 50, 51, 52, 53, 54, 55, 56, 57, 58, 59, 60, 61, 62, 63, 64, 65, 66, 67, 68, 69, 70, 71, 72, 73, 74, 75, 76, 77, 78, 79, 80, 81, 82, 83, 84, 85, 86, 87, 88, 89, 90, 91, 92, 93, 94, 95, 96, 97], \"y\": [18.5, 12.7, 21.4, 23.7, 20.8, 25.0, 9.7, 14.9, 34.9, 31.6, 24.7, 22.9, 33.2, 9.6, 30.5, 19.2, 30.3, 15.4, 24.3, 24.4, 21.5, 27.9, 17.3, 21.4, 21.7, 24.4, 8.5, 15.0, 11.5, 13.6, 24.4, 7.4, 44.0, 21.7, 19.3, 16.1, 29.0, 26.4, 20.3, 10.8, 5.0, 19.6, 23.1, 23.9, 17.5, 13.5, 48.8, 26.2, 19.7, 14.2, 11.0, 19.0, 21.7, 18.4, 33.4, 14.0, 24.7, 43.8, 48.5, 25.0, 22.6, 21.2, 22.4, 23.8, 19.9, 16.5, 16.7, 17.2, 13.1, 19.1, 18.5, 22.2, 22.6, 19.4, 15.2, 19.8, 19.4, 21.6, 18.2, 19.6, 19.6, 23.0, 7.0, 17.6, 25.0, 41.3, 24.1, 22.6, 18.7, 22.6, 13.1, 22.2, 16.1, 39.8, 25.0, 20.5, 10.4, 20.4]}, {\"mode\": \"lines+markers\", \"name\": \"Valor Predito Baseline\", \"type\": \"scatter\", \"x\": [0, 1, 2, 3, 4, 5, 6, 7, 8, 9, 10, 11, 12, 13, 14, 15, 16, 17, 18, 19, 20, 21, 22, 23, 24, 25, 26, 27, 28, 29, 30, 31, 32, 33, 34, 35, 36, 37, 38, 39, 40, 41, 42, 43, 44, 45, 46, 47, 48, 49, 50, 51, 52, 53, 54, 55, 56, 57, 58, 59, 60, 61, 62, 63, 64, 65, 66, 67, 68, 69, 70, 71, 72, 73, 74, 75, 76, 77, 78, 79, 80, 81, 82, 83, 84, 85, 86, 87, 88, 89, 90, 91, 92, 93, 94, 95, 96, 97], \"y\": [19.939449541284418, 19.939449541284418, 19.939449541284418, 19.939449541284418, 19.939449541284418, 19.939449541284418, 19.939449541284418, 19.939449541284418, 35.71923076923077, 35.71923076923077, 19.939449541284418, 19.939449541284418, 35.71923076923077, 19.939449541284418, 19.939449541284418, 19.939449541284418, 35.71923076923077, 19.939449541284418, 19.939449541284418, 19.939449541284418, 19.939449541284418, 19.939449541284418, 19.939449541284418, 19.939449541284418, 19.939449541284418, 19.939449541284418, 19.939449541284418, 35.71923076923077, 19.939449541284418, 19.939449541284418, 19.939449541284418, 19.939449541284418, 35.71923076923077, 19.939449541284418, 19.939449541284418, 19.939449541284418, 35.71923076923077, 19.939449541284418, 19.939449541284418, 19.939449541284418, 19.939449541284418, 19.939449541284418, 19.939449541284418, 19.939449541284418, 19.939449541284418, 19.939449541284418, 35.71923076923077, 19.939449541284418, 19.939449541284418, 19.939449541284418, 19.939449541284418, 19.939449541284418, 19.939449541284418, 19.939449541284418, 35.71923076923077, 19.939449541284418, 19.939449541284418, 35.71923076923077, 35.71923076923077, 19.939449541284418, 19.939449541284418, 19.939449541284418, 19.939449541284418, 19.939449541284418, 19.939449541284418, 19.939449541284418, 19.939449541284418, 19.939449541284418, 19.939449541284418, 19.939449541284418, 19.939449541284418, 19.939449541284418, 19.939449541284418, 19.939449541284418, 19.939449541284418, 19.939449541284418, 19.939449541284418, 19.939449541284418, 19.939449541284418, 19.939449541284418, 19.939449541284418, 19.939449541284418, 19.939449541284418, 19.939449541284418, 19.939449541284418, 19.939449541284418, 19.939449541284418, 19.939449541284418, 19.939449541284418, 19.939449541284418, 19.939449541284418, 19.939449541284418, 19.939449541284418, 35.71923076923077, 35.71923076923077, 19.939449541284418, 19.939449541284418, 19.939449541284418]}],\n",
              "                        {\"template\": {\"data\": {\"bar\": [{\"error_x\": {\"color\": \"#2a3f5f\"}, \"error_y\": {\"color\": \"#2a3f5f\"}, \"marker\": {\"line\": {\"color\": \"#E5ECF6\", \"width\": 0.5}}, \"type\": \"bar\"}], \"barpolar\": [{\"marker\": {\"line\": {\"color\": \"#E5ECF6\", \"width\": 0.5}}, \"type\": \"barpolar\"}], \"carpet\": [{\"aaxis\": {\"endlinecolor\": \"#2a3f5f\", \"gridcolor\": \"white\", \"linecolor\": \"white\", \"minorgridcolor\": \"white\", \"startlinecolor\": \"#2a3f5f\"}, \"baxis\": {\"endlinecolor\": \"#2a3f5f\", \"gridcolor\": \"white\", \"linecolor\": \"white\", \"minorgridcolor\": \"white\", \"startlinecolor\": \"#2a3f5f\"}, \"type\": \"carpet\"}], \"choropleth\": [{\"colorbar\": {\"outlinewidth\": 0, \"ticks\": \"\"}, \"type\": \"choropleth\"}], \"contour\": [{\"colorbar\": {\"outlinewidth\": 0, \"ticks\": \"\"}, \"colorscale\": [[0.0, \"#0d0887\"], [0.1111111111111111, \"#46039f\"], [0.2222222222222222, \"#7201a8\"], [0.3333333333333333, \"#9c179e\"], [0.4444444444444444, \"#bd3786\"], [0.5555555555555556, \"#d8576b\"], [0.6666666666666666, \"#ed7953\"], [0.7777777777777778, \"#fb9f3a\"], [0.8888888888888888, \"#fdca26\"], [1.0, \"#f0f921\"]], \"type\": \"contour\"}], \"contourcarpet\": [{\"colorbar\": {\"outlinewidth\": 0, \"ticks\": \"\"}, \"type\": \"contourcarpet\"}], \"heatmap\": [{\"colorbar\": {\"outlinewidth\": 0, \"ticks\": \"\"}, \"colorscale\": [[0.0, \"#0d0887\"], [0.1111111111111111, \"#46039f\"], [0.2222222222222222, \"#7201a8\"], [0.3333333333333333, \"#9c179e\"], [0.4444444444444444, \"#bd3786\"], [0.5555555555555556, \"#d8576b\"], [0.6666666666666666, \"#ed7953\"], [0.7777777777777778, \"#fb9f3a\"], [0.8888888888888888, \"#fdca26\"], [1.0, \"#f0f921\"]], \"type\": \"heatmap\"}], \"heatmapgl\": [{\"colorbar\": {\"outlinewidth\": 0, \"ticks\": \"\"}, \"colorscale\": [[0.0, \"#0d0887\"], [0.1111111111111111, \"#46039f\"], [0.2222222222222222, \"#7201a8\"], [0.3333333333333333, \"#9c179e\"], [0.4444444444444444, \"#bd3786\"], [0.5555555555555556, \"#d8576b\"], [0.6666666666666666, \"#ed7953\"], [0.7777777777777778, \"#fb9f3a\"], [0.8888888888888888, \"#fdca26\"], [1.0, \"#f0f921\"]], \"type\": \"heatmapgl\"}], \"histogram\": [{\"marker\": {\"colorbar\": {\"outlinewidth\": 0, \"ticks\": \"\"}}, \"type\": \"histogram\"}], \"histogram2d\": [{\"colorbar\": {\"outlinewidth\": 0, \"ticks\": \"\"}, \"colorscale\": [[0.0, \"#0d0887\"], [0.1111111111111111, \"#46039f\"], [0.2222222222222222, \"#7201a8\"], [0.3333333333333333, \"#9c179e\"], [0.4444444444444444, \"#bd3786\"], [0.5555555555555556, \"#d8576b\"], [0.6666666666666666, \"#ed7953\"], [0.7777777777777778, \"#fb9f3a\"], [0.8888888888888888, \"#fdca26\"], [1.0, \"#f0f921\"]], \"type\": \"histogram2d\"}], \"histogram2dcontour\": [{\"colorbar\": {\"outlinewidth\": 0, \"ticks\": \"\"}, \"colorscale\": [[0.0, \"#0d0887\"], [0.1111111111111111, \"#46039f\"], [0.2222222222222222, \"#7201a8\"], [0.3333333333333333, \"#9c179e\"], [0.4444444444444444, \"#bd3786\"], [0.5555555555555556, \"#d8576b\"], [0.6666666666666666, \"#ed7953\"], [0.7777777777777778, \"#fb9f3a\"], [0.8888888888888888, \"#fdca26\"], [1.0, \"#f0f921\"]], \"type\": \"histogram2dcontour\"}], \"mesh3d\": [{\"colorbar\": {\"outlinewidth\": 0, \"ticks\": \"\"}, \"type\": \"mesh3d\"}], \"parcoords\": [{\"line\": {\"colorbar\": {\"outlinewidth\": 0, \"ticks\": \"\"}}, \"type\": \"parcoords\"}], \"pie\": [{\"automargin\": true, \"type\": \"pie\"}], \"scatter\": [{\"marker\": {\"colorbar\": {\"outlinewidth\": 0, \"ticks\": \"\"}}, \"type\": \"scatter\"}], \"scatter3d\": [{\"line\": {\"colorbar\": {\"outlinewidth\": 0, \"ticks\": \"\"}}, \"marker\": {\"colorbar\": {\"outlinewidth\": 0, \"ticks\": \"\"}}, \"type\": \"scatter3d\"}], \"scattercarpet\": [{\"marker\": {\"colorbar\": {\"outlinewidth\": 0, \"ticks\": \"\"}}, \"type\": \"scattercarpet\"}], \"scattergeo\": [{\"marker\": {\"colorbar\": {\"outlinewidth\": 0, \"ticks\": \"\"}}, \"type\": \"scattergeo\"}], \"scattergl\": [{\"marker\": {\"colorbar\": {\"outlinewidth\": 0, \"ticks\": \"\"}}, \"type\": \"scattergl\"}], \"scattermapbox\": [{\"marker\": {\"colorbar\": {\"outlinewidth\": 0, \"ticks\": \"\"}}, \"type\": \"scattermapbox\"}], \"scatterpolar\": [{\"marker\": {\"colorbar\": {\"outlinewidth\": 0, \"ticks\": \"\"}}, \"type\": \"scatterpolar\"}], \"scatterpolargl\": [{\"marker\": {\"colorbar\": {\"outlinewidth\": 0, \"ticks\": \"\"}}, \"type\": \"scatterpolargl\"}], \"scatterternary\": [{\"marker\": {\"colorbar\": {\"outlinewidth\": 0, \"ticks\": \"\"}}, \"type\": \"scatterternary\"}], \"surface\": [{\"colorbar\": {\"outlinewidth\": 0, \"ticks\": \"\"}, \"colorscale\": [[0.0, \"#0d0887\"], [0.1111111111111111, \"#46039f\"], [0.2222222222222222, \"#7201a8\"], [0.3333333333333333, \"#9c179e\"], [0.4444444444444444, \"#bd3786\"], [0.5555555555555556, \"#d8576b\"], [0.6666666666666666, \"#ed7953\"], [0.7777777777777778, \"#fb9f3a\"], [0.8888888888888888, \"#fdca26\"], [1.0, \"#f0f921\"]], \"type\": \"surface\"}], \"table\": [{\"cells\": {\"fill\": {\"color\": \"#EBF0F8\"}, \"line\": {\"color\": \"white\"}}, \"header\": {\"fill\": {\"color\": \"#C8D4E3\"}, \"line\": {\"color\": \"white\"}}, \"type\": \"table\"}]}, \"layout\": {\"annotationdefaults\": {\"arrowcolor\": \"#2a3f5f\", \"arrowhead\": 0, \"arrowwidth\": 1}, \"coloraxis\": {\"colorbar\": {\"outlinewidth\": 0, \"ticks\": \"\"}}, \"colorscale\": {\"diverging\": [[0, \"#8e0152\"], [0.1, \"#c51b7d\"], [0.2, \"#de77ae\"], [0.3, \"#f1b6da\"], [0.4, \"#fde0ef\"], [0.5, \"#f7f7f7\"], [0.6, \"#e6f5d0\"], [0.7, \"#b8e186\"], [0.8, \"#7fbc41\"], [0.9, \"#4d9221\"], [1, \"#276419\"]], \"sequential\": [[0.0, \"#0d0887\"], [0.1111111111111111, \"#46039f\"], [0.2222222222222222, \"#7201a8\"], [0.3333333333333333, \"#9c179e\"], [0.4444444444444444, \"#bd3786\"], [0.5555555555555556, \"#d8576b\"], [0.6666666666666666, \"#ed7953\"], [0.7777777777777778, \"#fb9f3a\"], [0.8888888888888888, \"#fdca26\"], [1.0, \"#f0f921\"]], \"sequentialminus\": [[0.0, \"#0d0887\"], [0.1111111111111111, \"#46039f\"], [0.2222222222222222, \"#7201a8\"], [0.3333333333333333, \"#9c179e\"], [0.4444444444444444, \"#bd3786\"], [0.5555555555555556, \"#d8576b\"], [0.6666666666666666, \"#ed7953\"], [0.7777777777777778, \"#fb9f3a\"], [0.8888888888888888, \"#fdca26\"], [1.0, \"#f0f921\"]]}, \"colorway\": [\"#636efa\", \"#EF553B\", \"#00cc96\", \"#ab63fa\", \"#FFA15A\", \"#19d3f3\", \"#FF6692\", \"#B6E880\", \"#FF97FF\", \"#FECB52\"], \"font\": {\"color\": \"#2a3f5f\"}, \"geo\": {\"bgcolor\": \"white\", \"lakecolor\": \"white\", \"landcolor\": \"#E5ECF6\", \"showlakes\": true, \"showland\": true, \"subunitcolor\": \"white\"}, \"hoverlabel\": {\"align\": \"left\"}, \"hovermode\": \"closest\", \"mapbox\": {\"style\": \"light\"}, \"paper_bgcolor\": \"white\", \"plot_bgcolor\": \"#E5ECF6\", \"polar\": {\"angularaxis\": {\"gridcolor\": \"white\", \"linecolor\": \"white\", \"ticks\": \"\"}, \"bgcolor\": \"#E5ECF6\", \"radialaxis\": {\"gridcolor\": \"white\", \"linecolor\": \"white\", \"ticks\": \"\"}}, \"scene\": {\"xaxis\": {\"backgroundcolor\": \"#E5ECF6\", \"gridcolor\": \"white\", \"gridwidth\": 2, \"linecolor\": \"white\", \"showbackground\": true, \"ticks\": \"\", \"zerolinecolor\": \"white\"}, \"yaxis\": {\"backgroundcolor\": \"#E5ECF6\", \"gridcolor\": \"white\", \"gridwidth\": 2, \"linecolor\": \"white\", \"showbackground\": true, \"ticks\": \"\", \"zerolinecolor\": \"white\"}, \"zaxis\": {\"backgroundcolor\": \"#E5ECF6\", \"gridcolor\": \"white\", \"gridwidth\": 2, \"linecolor\": \"white\", \"showbackground\": true, \"ticks\": \"\", \"zerolinecolor\": \"white\"}}, \"shapedefaults\": {\"line\": {\"color\": \"#2a3f5f\"}}, \"ternary\": {\"aaxis\": {\"gridcolor\": \"white\", \"linecolor\": \"white\", \"ticks\": \"\"}, \"baxis\": {\"gridcolor\": \"white\", \"linecolor\": \"white\", \"ticks\": \"\"}, \"bgcolor\": \"#E5ECF6\", \"caxis\": {\"gridcolor\": \"white\", \"linecolor\": \"white\", \"ticks\": \"\"}}, \"title\": {\"x\": 0.05}, \"xaxis\": {\"automargin\": true, \"gridcolor\": \"white\", \"linecolor\": \"white\", \"ticks\": \"\", \"title\": {\"standoff\": 15}, \"zerolinecolor\": \"white\", \"zerolinewidth\": 2}, \"yaxis\": {\"automargin\": true, \"gridcolor\": \"white\", \"linecolor\": \"white\", \"ticks\": \"\", \"title\": {\"standoff\": 15}, \"zerolinecolor\": \"white\", \"zerolinewidth\": 2}}}},\n",
              "                        {\"responsive\": true}\n",
              "                    ).then(function(){\n",
              "                            \n",
              "var gd = document.getElementById('53384cbb-aee0-45b5-8c90-037dcbacab97');\n",
              "var x = new MutationObserver(function (mutations, observer) {{\n",
              "        var display = window.getComputedStyle(gd).display;\n",
              "        if (!display || display === 'none') {{\n",
              "            console.log([gd, 'removed!']);\n",
              "            Plotly.purge(gd);\n",
              "            observer.disconnect();\n",
              "        }}\n",
              "}});\n",
              "\n",
              "// Listen for the removal of the full notebook cells\n",
              "var notebookContainer = gd.closest('#notebook-container');\n",
              "if (notebookContainer) {{\n",
              "    x.observe(notebookContainer, {childList: true});\n",
              "}}\n",
              "\n",
              "// Listen for the clearing of the current output cell\n",
              "var outputEl = gd.closest('.output');\n",
              "if (outputEl) {{\n",
              "    x.observe(outputEl, {childList: true});\n",
              "}}\n",
              "\n",
              "                        })\n",
              "                };\n",
              "                \n",
              "            </script>\n",
              "        </div>\n",
              "</body>\n",
              "</html>"
            ]
          },
          "metadata": {
            "tags": []
          }
        }
      ]
    },
    {
      "cell_type": "markdown",
      "metadata": {
        "id": "IUt81GVWGHLb",
        "colab_type": "text"
      },
      "source": [
        "Avaliação do modelo baseline"
      ]
    },
    {
      "cell_type": "code",
      "metadata": {
        "id": "ACJFie9JF7iq",
        "colab_type": "code",
        "colab": {}
      },
      "source": [
        "# calcula a métrica rmse\n",
        "from sklearn.metrics import mean_squared_error\n",
        "from math import sqrt"
      ],
      "execution_count": 0,
      "outputs": []
    },
    {
      "cell_type": "code",
      "metadata": {
        "id": "6UO0iZm44Gl_",
        "colab_type": "code",
        "colab": {}
      },
      "source": [
        "rmse = (np.sqrt(mean_squared_error(y_test, predicoes)))"
      ],
      "execution_count": 0,
      "outputs": []
    },
    {
      "cell_type": "code",
      "metadata": {
        "id": "aFThM7L9GDA6",
        "colab_type": "code",
        "outputId": "639375cb-01da-4637-f044-8312ae619210",
        "colab": {
          "base_uri": "https://localhost:8080/",
          "height": 72
        }
      },
      "source": [
        "# imprime a performance do modelo\n",
        "print ('Performance do modelo baseline:')\n",
        "print('\\nRMSE é: {} '.format(rmse))"
      ],
      "execution_count": 43,
      "outputs": [
        {
          "output_type": "stream",
          "text": [
            "Performance do modelo baseline:\n",
            "\n",
            "RMSE é: 6.2883644518821935 \n"
          ],
          "name": "stdout"
        }
      ]
    },
    {
      "cell_type": "markdown",
      "metadata": {
        "id": "6jL-gszHYgZY",
        "colab_type": "text"
      },
      "source": [
        "### Machine Learning"
      ]
    },
    {
      "cell_type": "markdown",
      "metadata": {
        "id": "8rokdiRpzTry",
        "colab_type": "text"
      },
      "source": [
        "#### Regressão Linear"
      ]
    },
    {
      "cell_type": "markdown",
      "metadata": {
        "id": "nEbWBlL3Ir9M",
        "colab_type": "text"
      },
      "source": [
        "- `Devido a correlação entre algumas features podemos usar uma regressão linear.`\n",
        "- `Modelo simples e eficiente.`\n",
        "- `Solução rápida e robusta.`"
      ]
    },
    {
      "cell_type": "code",
      "metadata": {
        "id": "xy7zx_pJIw6e",
        "colab_type": "code",
        "colab": {}
      },
      "source": [
        "# carrega o pacote LinearRegression\n",
        "from sklearn.linear_model import LinearRegression"
      ],
      "execution_count": 0,
      "outputs": []
    },
    {
      "cell_type": "code",
      "metadata": {
        "id": "fRgZ6NHUfvzM",
        "colab_type": "code",
        "colab": {}
      },
      "source": [
        "# cria o objeto do tipo LinearRegression\n",
        "lin_model = LinearRegression()"
      ],
      "execution_count": 0,
      "outputs": []
    },
    {
      "cell_type": "code",
      "metadata": {
        "id": "EP4-r-x9fyMF",
        "colab_type": "code",
        "outputId": "83153d43-09c6-41ea-d907-95c9acb393a9",
        "colab": {
          "base_uri": "https://localhost:8080/",
          "height": 35
        }
      },
      "source": [
        "# treina o algoritmo de regressão linear\n",
        "lin_model.fit(X_train, y_train)"
      ],
      "execution_count": 46,
      "outputs": [
        {
          "output_type": "execute_result",
          "data": {
            "text/plain": [
              "LinearRegression(copy_X=True, fit_intercept=True, n_jobs=None, normalize=False)"
            ]
          },
          "metadata": {
            "tags": []
          },
          "execution_count": 46
        }
      ]
    },
    {
      "cell_type": "code",
      "metadata": {
        "id": "XwIaD1k1NVzg",
        "colab_type": "code",
        "colab": {}
      },
      "source": [
        "# avaliação do modelo nos dados de teste\n",
        "y_pred = lin_model.predict(X_test)"
      ],
      "execution_count": 0,
      "outputs": []
    },
    {
      "cell_type": "code",
      "metadata": {
        "id": "Wx7arH2JoHGU",
        "colab_type": "code",
        "colab": {}
      },
      "source": [
        "# calcula a métrica rmse\n",
        "rmse = (np.sqrt(mean_squared_error(y_test, y_pred)))"
      ],
      "execution_count": 0,
      "outputs": []
    },
    {
      "cell_type": "code",
      "metadata": {
        "id": "zi54cRQwNcPm",
        "colab_type": "code",
        "outputId": "b1071806-345e-4970-a802-0857bffc8993",
        "colab": {
          "base_uri": "https://localhost:8080/",
          "height": 72
        }
      },
      "source": [
        "# imprime a performance do modelo\n",
        "print ('Performance do modelo avaliado com os dados de teste:')\n",
        "print('\\nRMSE é: {} '.format(rmse))"
      ],
      "execution_count": 49,
      "outputs": [
        {
          "output_type": "stream",
          "text": [
            "Performance do modelo avaliado com os dados de teste:\n",
            "\n",
            "RMSE é: 4.063137971622396 \n"
          ],
          "name": "stdout"
        }
      ]
    },
    {
      "cell_type": "code",
      "metadata": {
        "id": "Fc4Cy6ehSRz7",
        "colab_type": "code",
        "colab": {}
      },
      "source": [
        "# atribui os resultados no dataframe df_results\n",
        "df_results['valor_predito_reg_linear'] = lin_model.predict(X_test)"
      ],
      "execution_count": 0,
      "outputs": []
    },
    {
      "cell_type": "code",
      "metadata": {
        "id": "vY6sddMASRrj",
        "colab_type": "code",
        "outputId": "8ea84643-e96e-4431-8252-dd69d8c3a896",
        "colab": {
          "base_uri": "https://localhost:8080/",
          "height": 363
        }
      },
      "source": [
        "df_results.head(10)"
      ],
      "execution_count": 51,
      "outputs": [
        {
          "output_type": "execute_result",
          "data": {
            "text/html": [
              "<div>\n",
              "<style scoped>\n",
              "    .dataframe tbody tr th:only-of-type {\n",
              "        vertical-align: middle;\n",
              "    }\n",
              "\n",
              "    .dataframe tbody tr th {\n",
              "        vertical-align: top;\n",
              "    }\n",
              "\n",
              "    .dataframe thead th {\n",
              "        text-align: right;\n",
              "    }\n",
              "</style>\n",
              "<table border=\"1\" class=\"dataframe\">\n",
              "  <thead>\n",
              "    <tr style=\"text-align: right;\">\n",
              "      <th></th>\n",
              "      <th>valor_real</th>\n",
              "      <th>valor_predito_baseline</th>\n",
              "      <th>valor_predito_reg_linear</th>\n",
              "    </tr>\n",
              "  </thead>\n",
              "  <tbody>\n",
              "    <tr>\n",
              "      <th>0</th>\n",
              "      <td>18.5</td>\n",
              "      <td>19.939450</td>\n",
              "      <td>18.346094</td>\n",
              "    </tr>\n",
              "    <tr>\n",
              "      <th>1</th>\n",
              "      <td>12.7</td>\n",
              "      <td>19.939450</td>\n",
              "      <td>13.116511</td>\n",
              "    </tr>\n",
              "    <tr>\n",
              "      <th>2</th>\n",
              "      <td>21.4</td>\n",
              "      <td>19.939450</td>\n",
              "      <td>23.966957</td>\n",
              "    </tr>\n",
              "    <tr>\n",
              "      <th>3</th>\n",
              "      <td>23.7</td>\n",
              "      <td>19.939450</td>\n",
              "      <td>28.044717</td>\n",
              "    </tr>\n",
              "    <tr>\n",
              "      <th>4</th>\n",
              "      <td>20.8</td>\n",
              "      <td>19.939450</td>\n",
              "      <td>16.753790</td>\n",
              "    </tr>\n",
              "    <tr>\n",
              "      <th>5</th>\n",
              "      <td>25.0</td>\n",
              "      <td>19.939450</td>\n",
              "      <td>21.294906</td>\n",
              "    </tr>\n",
              "    <tr>\n",
              "      <th>6</th>\n",
              "      <td>9.7</td>\n",
              "      <td>19.939450</td>\n",
              "      <td>9.627522</td>\n",
              "    </tr>\n",
              "    <tr>\n",
              "      <th>7</th>\n",
              "      <td>14.9</td>\n",
              "      <td>19.939450</td>\n",
              "      <td>15.565356</td>\n",
              "    </tr>\n",
              "    <tr>\n",
              "      <th>8</th>\n",
              "      <td>34.9</td>\n",
              "      <td>35.719231</td>\n",
              "      <td>30.612573</td>\n",
              "    </tr>\n",
              "    <tr>\n",
              "      <th>9</th>\n",
              "      <td>31.6</td>\n",
              "      <td>35.719231</td>\n",
              "      <td>29.361321</td>\n",
              "    </tr>\n",
              "  </tbody>\n",
              "</table>\n",
              "</div>"
            ],
            "text/plain": [
              "   valor_real  valor_predito_baseline  valor_predito_reg_linear\n",
              "0        18.5               19.939450                 18.346094\n",
              "1        12.7               19.939450                 13.116511\n",
              "2        21.4               19.939450                 23.966957\n",
              "3        23.7               19.939450                 28.044717\n",
              "4        20.8               19.939450                 16.753790\n",
              "5        25.0               19.939450                 21.294906\n",
              "6         9.7               19.939450                  9.627522\n",
              "7        14.9               19.939450                 15.565356\n",
              "8        34.9               35.719231                 30.612573\n",
              "9        31.6               35.719231                 29.361321"
            ]
          },
          "metadata": {
            "tags": []
          },
          "execution_count": 51
        }
      ]
    },
    {
      "cell_type": "code",
      "metadata": {
        "id": "qojh6XHzSDHZ",
        "colab_type": "code",
        "outputId": "7370fce5-3355-4541-941f-be052d130756",
        "colab": {
          "base_uri": "https://localhost:8080/",
          "height": 542
        }
      },
      "source": [
        "import plotly.graph_objects as go\n",
        "\n",
        "# Create traces\n",
        "fig = go.Figure()\n",
        "\n",
        "# Linha com os dados de teste\n",
        "fig.add_trace(go.Scatter(x=df_results.index,\n",
        "                         y=df_results.valor_real,\n",
        "                         mode='lines+markers',\n",
        "                         name='Valor Real'))\n",
        "\n",
        "# Linha com os dados de baseline\n",
        "fig.add_trace(go.Scatter(x=df_results.index,\n",
        "                         y=df_results.valor_predito_baseline,\n",
        "                         mode='lines+markers',\n",
        "                         name='Baseline'))\n",
        "\n",
        "# Linha com os dados preditos pela regressão linear\n",
        "fig.add_trace(go.Scatter(x=df_results.index,\n",
        "                         y=df_results.valor_predito_reg_linear,\n",
        "                         mode='lines',\n",
        "                         line = dict(color = '#FEBFB3'),\n",
        "                         name='Valor Predito Regressão Linear'))\n",
        "\n",
        "# Plota a figura\n",
        "fig.show()"
      ],
      "execution_count": 52,
      "outputs": [
        {
          "output_type": "display_data",
          "data": {
            "text/html": [
              "<html>\n",
              "<head><meta charset=\"utf-8\" /></head>\n",
              "<body>\n",
              "    <div>\n",
              "            <script src=\"https://cdnjs.cloudflare.com/ajax/libs/mathjax/2.7.5/MathJax.js?config=TeX-AMS-MML_SVG\"></script><script type=\"text/javascript\">if (window.MathJax) {MathJax.Hub.Config({SVG: {font: \"STIX-Web\"}});}</script>\n",
              "                <script type=\"text/javascript\">window.PlotlyConfig = {MathJaxConfig: 'local'};</script>\n",
              "        <script src=\"https://cdn.plot.ly/plotly-latest.min.js\"></script>    \n",
              "            <div id=\"1d2c10ba-eb62-47bd-bfb4-986a0f44cb10\" class=\"plotly-graph-div\" style=\"height:525px; width:100%;\"></div>\n",
              "            <script type=\"text/javascript\">\n",
              "                \n",
              "                    window.PLOTLYENV=window.PLOTLYENV || {};\n",
              "                    \n",
              "                if (document.getElementById(\"1d2c10ba-eb62-47bd-bfb4-986a0f44cb10\")) {\n",
              "                    Plotly.newPlot(\n",
              "                        '1d2c10ba-eb62-47bd-bfb4-986a0f44cb10',\n",
              "                        [{\"mode\": \"lines+markers\", \"name\": \"Valor Real\", \"type\": \"scatter\", \"x\": [0, 1, 2, 3, 4, 5, 6, 7, 8, 9, 10, 11, 12, 13, 14, 15, 16, 17, 18, 19, 20, 21, 22, 23, 24, 25, 26, 27, 28, 29, 30, 31, 32, 33, 34, 35, 36, 37, 38, 39, 40, 41, 42, 43, 44, 45, 46, 47, 48, 49, 50, 51, 52, 53, 54, 55, 56, 57, 58, 59, 60, 61, 62, 63, 64, 65, 66, 67, 68, 69, 70, 71, 72, 73, 74, 75, 76, 77, 78, 79, 80, 81, 82, 83, 84, 85, 86, 87, 88, 89, 90, 91, 92, 93, 94, 95, 96, 97], \"y\": [18.5, 12.7, 21.4, 23.7, 20.8, 25.0, 9.7, 14.9, 34.9, 31.6, 24.7, 22.9, 33.2, 9.6, 30.5, 19.2, 30.3, 15.4, 24.3, 24.4, 21.5, 27.9, 17.3, 21.4, 21.7, 24.4, 8.5, 15.0, 11.5, 13.6, 24.4, 7.4, 44.0, 21.7, 19.3, 16.1, 29.0, 26.4, 20.3, 10.8, 5.0, 19.6, 23.1, 23.9, 17.5, 13.5, 48.8, 26.2, 19.7, 14.2, 11.0, 19.0, 21.7, 18.4, 33.4, 14.0, 24.7, 43.8, 48.5, 25.0, 22.6, 21.2, 22.4, 23.8, 19.9, 16.5, 16.7, 17.2, 13.1, 19.1, 18.5, 22.2, 22.6, 19.4, 15.2, 19.8, 19.4, 21.6, 18.2, 19.6, 19.6, 23.0, 7.0, 17.6, 25.0, 41.3, 24.1, 22.6, 18.7, 22.6, 13.1, 22.2, 16.1, 39.8, 25.0, 20.5, 10.4, 20.4]}, {\"mode\": \"lines+markers\", \"name\": \"Baseline\", \"type\": \"scatter\", \"x\": [0, 1, 2, 3, 4, 5, 6, 7, 8, 9, 10, 11, 12, 13, 14, 15, 16, 17, 18, 19, 20, 21, 22, 23, 24, 25, 26, 27, 28, 29, 30, 31, 32, 33, 34, 35, 36, 37, 38, 39, 40, 41, 42, 43, 44, 45, 46, 47, 48, 49, 50, 51, 52, 53, 54, 55, 56, 57, 58, 59, 60, 61, 62, 63, 64, 65, 66, 67, 68, 69, 70, 71, 72, 73, 74, 75, 76, 77, 78, 79, 80, 81, 82, 83, 84, 85, 86, 87, 88, 89, 90, 91, 92, 93, 94, 95, 96, 97], \"y\": [19.939449541284418, 19.939449541284418, 19.939449541284418, 19.939449541284418, 19.939449541284418, 19.939449541284418, 19.939449541284418, 19.939449541284418, 35.71923076923077, 35.71923076923077, 19.939449541284418, 19.939449541284418, 35.71923076923077, 19.939449541284418, 19.939449541284418, 19.939449541284418, 35.71923076923077, 19.939449541284418, 19.939449541284418, 19.939449541284418, 19.939449541284418, 19.939449541284418, 19.939449541284418, 19.939449541284418, 19.939449541284418, 19.939449541284418, 19.939449541284418, 35.71923076923077, 19.939449541284418, 19.939449541284418, 19.939449541284418, 19.939449541284418, 35.71923076923077, 19.939449541284418, 19.939449541284418, 19.939449541284418, 35.71923076923077, 19.939449541284418, 19.939449541284418, 19.939449541284418, 19.939449541284418, 19.939449541284418, 19.939449541284418, 19.939449541284418, 19.939449541284418, 19.939449541284418, 35.71923076923077, 19.939449541284418, 19.939449541284418, 19.939449541284418, 19.939449541284418, 19.939449541284418, 19.939449541284418, 19.939449541284418, 35.71923076923077, 19.939449541284418, 19.939449541284418, 35.71923076923077, 35.71923076923077, 19.939449541284418, 19.939449541284418, 19.939449541284418, 19.939449541284418, 19.939449541284418, 19.939449541284418, 19.939449541284418, 19.939449541284418, 19.939449541284418, 19.939449541284418, 19.939449541284418, 19.939449541284418, 19.939449541284418, 19.939449541284418, 19.939449541284418, 19.939449541284418, 19.939449541284418, 19.939449541284418, 19.939449541284418, 19.939449541284418, 19.939449541284418, 19.939449541284418, 19.939449541284418, 19.939449541284418, 19.939449541284418, 19.939449541284418, 19.939449541284418, 19.939449541284418, 19.939449541284418, 19.939449541284418, 19.939449541284418, 19.939449541284418, 19.939449541284418, 19.939449541284418, 35.71923076923077, 35.71923076923077, 19.939449541284418, 19.939449541284418, 19.939449541284418]}, {\"line\": {\"color\": \"#FEBFB3\"}, \"mode\": \"lines\", \"name\": \"Valor Predito Regress\\u00e3o Linear\", \"type\": \"scatter\", \"x\": [0, 1, 2, 3, 4, 5, 6, 7, 8, 9, 10, 11, 12, 13, 14, 15, 16, 17, 18, 19, 20, 21, 22, 23, 24, 25, 26, 27, 28, 29, 30, 31, 32, 33, 34, 35, 36, 37, 38, 39, 40, 41, 42, 43, 44, 45, 46, 47, 48, 49, 50, 51, 52, 53, 54, 55, 56, 57, 58, 59, 60, 61, 62, 63, 64, 65, 66, 67, 68, 69, 70, 71, 72, 73, 74, 75, 76, 77, 78, 79, 80, 81, 82, 83, 84, 85, 86, 87, 88, 89, 90, 91, 92, 93, 94, 95, 96, 97], \"y\": [18.346093719784573, 13.11651065546624, 23.9669574889667, 28.044716743093737, 16.753790493564605, 21.294906077122455, 9.627522186928736, 15.565356476181938, 30.612572728528157, 29.361321037485872, 27.95958820128826, 26.240645898429392, 30.641189571299137, 14.51460660075746, 30.886986673353725, 23.079784542569087, 32.87496707014206, 17.0370127837164, 23.6338383869827, 26.283764657796514, 21.916867413713387, 27.354175703608377, 14.034179311562715, 18.703270710993653, 22.283457008679928, 23.4962064984642, 14.647074396924115, 21.972843293310625, 12.96790439687161, 16.27532773239311, 25.928928031200336, 6.321299589872751, 33.65101701732582, 24.55187422541789, 24.282781773029555, 17.44335199841807, 32.41746307158769, 27.529887752686385, 21.725306960167813, 11.874896861997069, 7.3388857960558465, 19.267331729126067, 27.31449331606822, 25.485300312117367, 23.098688487265665, 16.10039752125231, 37.17911034467065, 26.852873122056693, 23.370759740579715, 16.55799667712311, 13.552355014028688, 21.874816727168998, 20.400149878074167, 21.456861490308313, 30.184993512945503, 14.281977667064545, 25.470634159154876, 33.057043341876266, 35.83642176580631, 23.505592229640893, 24.39805124934661, 22.985751551262922, 22.557426425752826, 21.815510206667167, 18.286147726390002, 27.937535732379526, 17.9674046959032, 14.7427008406526, 15.906444115329485, 18.43770635238481, 20.428796104976012, 24.53568779680177, 25.9282111861316, 18.929857675224778, 14.394134014903388, 25.510429586791787, 24.88398751903862, 24.394964391301638, 20.556542601845123, 19.399117205685393, 19.178921728378228, 20.723347038481112, -1.2727451607823888, 20.399784076425448, 28.416336432281604, 29.546746674733583, 27.69343284744604, 21.977923076908176, 21.98042570873289, 26.895863082747695, 16.26366399875696, 25.73599193038887, 17.677054699386368, 31.399644034841987, 25.078957881163817, 17.26537528126003, 7.258948782925522, 19.804675823702087]}],\n",
              "                        {\"template\": {\"data\": {\"bar\": [{\"error_x\": {\"color\": \"#2a3f5f\"}, \"error_y\": {\"color\": \"#2a3f5f\"}, \"marker\": {\"line\": {\"color\": \"#E5ECF6\", \"width\": 0.5}}, \"type\": \"bar\"}], \"barpolar\": [{\"marker\": {\"line\": {\"color\": \"#E5ECF6\", \"width\": 0.5}}, \"type\": \"barpolar\"}], \"carpet\": [{\"aaxis\": {\"endlinecolor\": \"#2a3f5f\", \"gridcolor\": \"white\", \"linecolor\": \"white\", \"minorgridcolor\": \"white\", \"startlinecolor\": \"#2a3f5f\"}, \"baxis\": {\"endlinecolor\": \"#2a3f5f\", \"gridcolor\": \"white\", \"linecolor\": \"white\", \"minorgridcolor\": \"white\", \"startlinecolor\": \"#2a3f5f\"}, \"type\": \"carpet\"}], \"choropleth\": [{\"colorbar\": {\"outlinewidth\": 0, \"ticks\": \"\"}, \"type\": \"choropleth\"}], \"contour\": [{\"colorbar\": {\"outlinewidth\": 0, \"ticks\": \"\"}, \"colorscale\": [[0.0, \"#0d0887\"], [0.1111111111111111, \"#46039f\"], [0.2222222222222222, \"#7201a8\"], [0.3333333333333333, \"#9c179e\"], [0.4444444444444444, \"#bd3786\"], [0.5555555555555556, \"#d8576b\"], [0.6666666666666666, \"#ed7953\"], [0.7777777777777778, \"#fb9f3a\"], [0.8888888888888888, \"#fdca26\"], [1.0, \"#f0f921\"]], \"type\": \"contour\"}], \"contourcarpet\": [{\"colorbar\": {\"outlinewidth\": 0, \"ticks\": \"\"}, \"type\": \"contourcarpet\"}], \"heatmap\": [{\"colorbar\": {\"outlinewidth\": 0, \"ticks\": \"\"}, \"colorscale\": [[0.0, \"#0d0887\"], [0.1111111111111111, \"#46039f\"], [0.2222222222222222, \"#7201a8\"], [0.3333333333333333, \"#9c179e\"], [0.4444444444444444, \"#bd3786\"], [0.5555555555555556, \"#d8576b\"], [0.6666666666666666, \"#ed7953\"], [0.7777777777777778, \"#fb9f3a\"], [0.8888888888888888, \"#fdca26\"], [1.0, \"#f0f921\"]], \"type\": \"heatmap\"}], \"heatmapgl\": [{\"colorbar\": {\"outlinewidth\": 0, \"ticks\": \"\"}, \"colorscale\": [[0.0, \"#0d0887\"], [0.1111111111111111, \"#46039f\"], [0.2222222222222222, \"#7201a8\"], [0.3333333333333333, \"#9c179e\"], [0.4444444444444444, \"#bd3786\"], [0.5555555555555556, \"#d8576b\"], [0.6666666666666666, \"#ed7953\"], [0.7777777777777778, \"#fb9f3a\"], [0.8888888888888888, \"#fdca26\"], [1.0, \"#f0f921\"]], \"type\": \"heatmapgl\"}], \"histogram\": [{\"marker\": {\"colorbar\": {\"outlinewidth\": 0, \"ticks\": \"\"}}, \"type\": \"histogram\"}], \"histogram2d\": [{\"colorbar\": {\"outlinewidth\": 0, \"ticks\": \"\"}, \"colorscale\": [[0.0, \"#0d0887\"], [0.1111111111111111, \"#46039f\"], [0.2222222222222222, \"#7201a8\"], [0.3333333333333333, \"#9c179e\"], [0.4444444444444444, \"#bd3786\"], [0.5555555555555556, \"#d8576b\"], [0.6666666666666666, \"#ed7953\"], [0.7777777777777778, \"#fb9f3a\"], [0.8888888888888888, \"#fdca26\"], [1.0, \"#f0f921\"]], \"type\": \"histogram2d\"}], \"histogram2dcontour\": [{\"colorbar\": {\"outlinewidth\": 0, \"ticks\": \"\"}, \"colorscale\": [[0.0, \"#0d0887\"], [0.1111111111111111, \"#46039f\"], [0.2222222222222222, \"#7201a8\"], [0.3333333333333333, \"#9c179e\"], [0.4444444444444444, \"#bd3786\"], [0.5555555555555556, \"#d8576b\"], [0.6666666666666666, \"#ed7953\"], [0.7777777777777778, \"#fb9f3a\"], [0.8888888888888888, \"#fdca26\"], [1.0, \"#f0f921\"]], \"type\": \"histogram2dcontour\"}], \"mesh3d\": [{\"colorbar\": {\"outlinewidth\": 0, \"ticks\": \"\"}, \"type\": \"mesh3d\"}], \"parcoords\": [{\"line\": {\"colorbar\": {\"outlinewidth\": 0, \"ticks\": \"\"}}, \"type\": \"parcoords\"}], \"pie\": [{\"automargin\": true, \"type\": \"pie\"}], \"scatter\": [{\"marker\": {\"colorbar\": {\"outlinewidth\": 0, \"ticks\": \"\"}}, \"type\": \"scatter\"}], \"scatter3d\": [{\"line\": {\"colorbar\": {\"outlinewidth\": 0, \"ticks\": \"\"}}, \"marker\": {\"colorbar\": {\"outlinewidth\": 0, \"ticks\": \"\"}}, \"type\": \"scatter3d\"}], \"scattercarpet\": [{\"marker\": {\"colorbar\": {\"outlinewidth\": 0, \"ticks\": \"\"}}, \"type\": \"scattercarpet\"}], \"scattergeo\": [{\"marker\": {\"colorbar\": {\"outlinewidth\": 0, \"ticks\": \"\"}}, \"type\": \"scattergeo\"}], \"scattergl\": [{\"marker\": {\"colorbar\": {\"outlinewidth\": 0, \"ticks\": \"\"}}, \"type\": \"scattergl\"}], \"scattermapbox\": [{\"marker\": {\"colorbar\": {\"outlinewidth\": 0, \"ticks\": \"\"}}, \"type\": \"scattermapbox\"}], \"scatterpolar\": [{\"marker\": {\"colorbar\": {\"outlinewidth\": 0, \"ticks\": \"\"}}, \"type\": \"scatterpolar\"}], \"scatterpolargl\": [{\"marker\": {\"colorbar\": {\"outlinewidth\": 0, \"ticks\": \"\"}}, \"type\": \"scatterpolargl\"}], \"scatterternary\": [{\"marker\": {\"colorbar\": {\"outlinewidth\": 0, \"ticks\": \"\"}}, \"type\": \"scatterternary\"}], \"surface\": [{\"colorbar\": {\"outlinewidth\": 0, \"ticks\": \"\"}, \"colorscale\": [[0.0, \"#0d0887\"], [0.1111111111111111, \"#46039f\"], [0.2222222222222222, \"#7201a8\"], [0.3333333333333333, \"#9c179e\"], [0.4444444444444444, \"#bd3786\"], [0.5555555555555556, \"#d8576b\"], [0.6666666666666666, \"#ed7953\"], [0.7777777777777778, \"#fb9f3a\"], [0.8888888888888888, \"#fdca26\"], [1.0, \"#f0f921\"]], \"type\": \"surface\"}], \"table\": [{\"cells\": {\"fill\": {\"color\": \"#EBF0F8\"}, \"line\": {\"color\": \"white\"}}, \"header\": {\"fill\": {\"color\": \"#C8D4E3\"}, \"line\": {\"color\": \"white\"}}, \"type\": \"table\"}]}, \"layout\": {\"annotationdefaults\": {\"arrowcolor\": \"#2a3f5f\", \"arrowhead\": 0, \"arrowwidth\": 1}, \"coloraxis\": {\"colorbar\": {\"outlinewidth\": 0, \"ticks\": \"\"}}, \"colorscale\": {\"diverging\": [[0, \"#8e0152\"], [0.1, \"#c51b7d\"], [0.2, \"#de77ae\"], [0.3, \"#f1b6da\"], [0.4, \"#fde0ef\"], [0.5, \"#f7f7f7\"], [0.6, \"#e6f5d0\"], [0.7, \"#b8e186\"], [0.8, \"#7fbc41\"], [0.9, \"#4d9221\"], [1, \"#276419\"]], \"sequential\": [[0.0, \"#0d0887\"], [0.1111111111111111, \"#46039f\"], [0.2222222222222222, \"#7201a8\"], [0.3333333333333333, \"#9c179e\"], [0.4444444444444444, \"#bd3786\"], [0.5555555555555556, \"#d8576b\"], [0.6666666666666666, \"#ed7953\"], [0.7777777777777778, \"#fb9f3a\"], [0.8888888888888888, \"#fdca26\"], [1.0, \"#f0f921\"]], \"sequentialminus\": [[0.0, \"#0d0887\"], [0.1111111111111111, \"#46039f\"], [0.2222222222222222, \"#7201a8\"], [0.3333333333333333, \"#9c179e\"], [0.4444444444444444, \"#bd3786\"], [0.5555555555555556, \"#d8576b\"], [0.6666666666666666, \"#ed7953\"], [0.7777777777777778, \"#fb9f3a\"], [0.8888888888888888, \"#fdca26\"], [1.0, \"#f0f921\"]]}, \"colorway\": [\"#636efa\", \"#EF553B\", \"#00cc96\", \"#ab63fa\", \"#FFA15A\", \"#19d3f3\", \"#FF6692\", \"#B6E880\", \"#FF97FF\", \"#FECB52\"], \"font\": {\"color\": \"#2a3f5f\"}, \"geo\": {\"bgcolor\": \"white\", \"lakecolor\": \"white\", \"landcolor\": \"#E5ECF6\", \"showlakes\": true, \"showland\": true, \"subunitcolor\": \"white\"}, \"hoverlabel\": {\"align\": \"left\"}, \"hovermode\": \"closest\", \"mapbox\": {\"style\": \"light\"}, \"paper_bgcolor\": \"white\", \"plot_bgcolor\": \"#E5ECF6\", \"polar\": {\"angularaxis\": {\"gridcolor\": \"white\", \"linecolor\": \"white\", \"ticks\": \"\"}, \"bgcolor\": \"#E5ECF6\", \"radialaxis\": {\"gridcolor\": \"white\", \"linecolor\": \"white\", \"ticks\": \"\"}}, \"scene\": {\"xaxis\": {\"backgroundcolor\": \"#E5ECF6\", \"gridcolor\": \"white\", \"gridwidth\": 2, \"linecolor\": \"white\", \"showbackground\": true, \"ticks\": \"\", \"zerolinecolor\": \"white\"}, \"yaxis\": {\"backgroundcolor\": \"#E5ECF6\", \"gridcolor\": \"white\", \"gridwidth\": 2, \"linecolor\": \"white\", \"showbackground\": true, \"ticks\": \"\", \"zerolinecolor\": \"white\"}, \"zaxis\": {\"backgroundcolor\": \"#E5ECF6\", \"gridcolor\": \"white\", \"gridwidth\": 2, \"linecolor\": \"white\", \"showbackground\": true, \"ticks\": \"\", \"zerolinecolor\": \"white\"}}, \"shapedefaults\": {\"line\": {\"color\": \"#2a3f5f\"}}, \"ternary\": {\"aaxis\": {\"gridcolor\": \"white\", \"linecolor\": \"white\", \"ticks\": \"\"}, \"baxis\": {\"gridcolor\": \"white\", \"linecolor\": \"white\", \"ticks\": \"\"}, \"bgcolor\": \"#E5ECF6\", \"caxis\": {\"gridcolor\": \"white\", \"linecolor\": \"white\", \"ticks\": \"\"}}, \"title\": {\"x\": 0.05}, \"xaxis\": {\"automargin\": true, \"gridcolor\": \"white\", \"linecolor\": \"white\", \"ticks\": \"\", \"title\": {\"standoff\": 15}, \"zerolinecolor\": \"white\", \"zerolinewidth\": 2}, \"yaxis\": {\"automargin\": true, \"gridcolor\": \"white\", \"linecolor\": \"white\", \"ticks\": \"\", \"title\": {\"standoff\": 15}, \"zerolinecolor\": \"white\", \"zerolinewidth\": 2}}}},\n",
              "                        {\"responsive\": true}\n",
              "                    ).then(function(){\n",
              "                            \n",
              "var gd = document.getElementById('1d2c10ba-eb62-47bd-bfb4-986a0f44cb10');\n",
              "var x = new MutationObserver(function (mutations, observer) {{\n",
              "        var display = window.getComputedStyle(gd).display;\n",
              "        if (!display || display === 'none') {{\n",
              "            console.log([gd, 'removed!']);\n",
              "            Plotly.purge(gd);\n",
              "            observer.disconnect();\n",
              "        }}\n",
              "}});\n",
              "\n",
              "// Listen for the removal of the full notebook cells\n",
              "var notebookContainer = gd.closest('#notebook-container');\n",
              "if (notebookContainer) {{\n",
              "    x.observe(notebookContainer, {childList: true});\n",
              "}}\n",
              "\n",
              "// Listen for the clearing of the current output cell\n",
              "var outputEl = gd.closest('.output');\n",
              "if (outputEl) {{\n",
              "    x.observe(outputEl, {childList: true});\n",
              "}}\n",
              "\n",
              "                        })\n",
              "                };\n",
              "                \n",
              "            </script>\n",
              "        </div>\n",
              "</body>\n",
              "</html>"
            ]
          },
          "metadata": {
            "tags": []
          }
        }
      ]
    },
    {
      "cell_type": "markdown",
      "metadata": {
        "id": "yhHrta_etlaE",
        "colab_type": "text"
      },
      "source": [
        "##### Arvore de decisão\n",
        "\n",
        "*   `Algoritmo de aprendizado supervisionado`\n",
        "*   `Explicabilidade do Modelo`\n",
        "*   `Simples`\n"
      ]
    },
    {
      "cell_type": "code",
      "metadata": {
        "id": "s6AMt-S1tklE",
        "colab_type": "code",
        "colab": {}
      },
      "source": [
        "# importa o pacote DecisionTreeRegressor\n",
        "from sklearn.tree import DecisionTreeRegressor"
      ],
      "execution_count": 0,
      "outputs": []
    },
    {
      "cell_type": "code",
      "metadata": {
        "id": "9GWqPqMatkiv",
        "colab_type": "code",
        "colab": {}
      },
      "source": [
        "# cria um objeto do tipo DecisionTreeRegressor\n",
        "regressor = DecisionTreeRegressor()"
      ],
      "execution_count": 0,
      "outputs": []
    },
    {
      "cell_type": "code",
      "metadata": {
        "id": "aesYvbgetkgX",
        "colab_type": "code",
        "outputId": "4d86d5fb-ac0c-478f-f012-92f7c4be32f8",
        "colab": {
          "base_uri": "https://localhost:8080/",
          "height": 127
        }
      },
      "source": [
        "# treina o algoritmo\n",
        "regressor.fit(X_train, y_train)"
      ],
      "execution_count": 55,
      "outputs": [
        {
          "output_type": "execute_result",
          "data": {
            "text/plain": [
              "DecisionTreeRegressor(ccp_alpha=0.0, criterion='mse', max_depth=None,\n",
              "                      max_features=None, max_leaf_nodes=None,\n",
              "                      min_impurity_decrease=0.0, min_impurity_split=None,\n",
              "                      min_samples_leaf=1, min_samples_split=2,\n",
              "                      min_weight_fraction_leaf=0.0, presort='deprecated',\n",
              "                      random_state=None, splitter='best')"
            ]
          },
          "metadata": {
            "tags": []
          },
          "execution_count": 55
        }
      ]
    },
    {
      "cell_type": "markdown",
      "metadata": {
        "id": "WHDUHZgHyztm",
        "colab_type": "text"
      },
      "source": [
        "Avaliando o modelo de Árvore de Decisão"
      ]
    },
    {
      "cell_type": "code",
      "metadata": {
        "id": "3rnUwS6Vtkdw",
        "colab_type": "code",
        "colab": {}
      },
      "source": [
        "# fazendo as previsões\n",
        "y_pred = regressor.predict(X_test)"
      ],
      "execution_count": 0,
      "outputs": []
    },
    {
      "cell_type": "code",
      "metadata": {
        "id": "WPIrhQh_Lt4i",
        "colab_type": "code",
        "colab": {}
      },
      "source": [
        "# Adicionando o valor do modelo no dataframe df_results\n",
        "df_results['valor_predito_arvore'] = y_pred"
      ],
      "execution_count": 0,
      "outputs": []
    },
    {
      "cell_type": "code",
      "metadata": {
        "id": "z3bMNJK0LASe",
        "colab_type": "code",
        "outputId": "cae845f7-a4d4-44cc-9bd3-c69ced820d7f",
        "colab": {
          "base_uri": "https://localhost:8080/",
          "height": 363
        }
      },
      "source": [
        "# visualiza o dataframe df_results\n",
        "df_results.head(10)"
      ],
      "execution_count": 58,
      "outputs": [
        {
          "output_type": "execute_result",
          "data": {
            "text/html": [
              "<div>\n",
              "<style scoped>\n",
              "    .dataframe tbody tr th:only-of-type {\n",
              "        vertical-align: middle;\n",
              "    }\n",
              "\n",
              "    .dataframe tbody tr th {\n",
              "        vertical-align: top;\n",
              "    }\n",
              "\n",
              "    .dataframe thead th {\n",
              "        text-align: right;\n",
              "    }\n",
              "</style>\n",
              "<table border=\"1\" class=\"dataframe\">\n",
              "  <thead>\n",
              "    <tr style=\"text-align: right;\">\n",
              "      <th></th>\n",
              "      <th>valor_real</th>\n",
              "      <th>valor_predito_baseline</th>\n",
              "      <th>valor_predito_reg_linear</th>\n",
              "      <th>valor_predito_arvore</th>\n",
              "    </tr>\n",
              "  </thead>\n",
              "  <tbody>\n",
              "    <tr>\n",
              "      <th>0</th>\n",
              "      <td>18.5</td>\n",
              "      <td>19.939450</td>\n",
              "      <td>18.346094</td>\n",
              "      <td>17.8</td>\n",
              "    </tr>\n",
              "    <tr>\n",
              "      <th>1</th>\n",
              "      <td>12.7</td>\n",
              "      <td>19.939450</td>\n",
              "      <td>13.116511</td>\n",
              "      <td>23.2</td>\n",
              "    </tr>\n",
              "    <tr>\n",
              "      <th>2</th>\n",
              "      <td>21.4</td>\n",
              "      <td>19.939450</td>\n",
              "      <td>23.966957</td>\n",
              "      <td>23.6</td>\n",
              "    </tr>\n",
              "    <tr>\n",
              "      <th>3</th>\n",
              "      <td>23.7</td>\n",
              "      <td>19.939450</td>\n",
              "      <td>28.044717</td>\n",
              "      <td>23.9</td>\n",
              "    </tr>\n",
              "    <tr>\n",
              "      <th>4</th>\n",
              "      <td>20.8</td>\n",
              "      <td>19.939450</td>\n",
              "      <td>16.753790</td>\n",
              "      <td>19.3</td>\n",
              "    </tr>\n",
              "    <tr>\n",
              "      <th>5</th>\n",
              "      <td>25.0</td>\n",
              "      <td>19.939450</td>\n",
              "      <td>21.294906</td>\n",
              "      <td>20.7</td>\n",
              "    </tr>\n",
              "    <tr>\n",
              "      <th>6</th>\n",
              "      <td>9.7</td>\n",
              "      <td>19.939450</td>\n",
              "      <td>9.627522</td>\n",
              "      <td>7.2</td>\n",
              "    </tr>\n",
              "    <tr>\n",
              "      <th>7</th>\n",
              "      <td>14.9</td>\n",
              "      <td>19.939450</td>\n",
              "      <td>15.565356</td>\n",
              "      <td>17.1</td>\n",
              "    </tr>\n",
              "    <tr>\n",
              "      <th>8</th>\n",
              "      <td>34.9</td>\n",
              "      <td>35.719231</td>\n",
              "      <td>30.612573</td>\n",
              "      <td>32.2</td>\n",
              "    </tr>\n",
              "    <tr>\n",
              "      <th>9</th>\n",
              "      <td>31.6</td>\n",
              "      <td>35.719231</td>\n",
              "      <td>29.361321</td>\n",
              "      <td>31.7</td>\n",
              "    </tr>\n",
              "  </tbody>\n",
              "</table>\n",
              "</div>"
            ],
            "text/plain": [
              "   valor_real  ...  valor_predito_arvore\n",
              "0        18.5  ...                  17.8\n",
              "1        12.7  ...                  23.2\n",
              "2        21.4  ...                  23.6\n",
              "3        23.7  ...                  23.9\n",
              "4        20.8  ...                  19.3\n",
              "5        25.0  ...                  20.7\n",
              "6         9.7  ...                   7.2\n",
              "7        14.9  ...                  17.1\n",
              "8        34.9  ...                  32.2\n",
              "9        31.6  ...                  31.7\n",
              "\n",
              "[10 rows x 4 columns]"
            ]
          },
          "metadata": {
            "tags": []
          },
          "execution_count": 58
        }
      ]
    },
    {
      "cell_type": "code",
      "metadata": {
        "id": "PV-RAtLPN12A",
        "colab_type": "code",
        "outputId": "a301cb84-abea-4f27-e7ca-99ddf3e4002d",
        "colab": {
          "base_uri": "https://localhost:8080/",
          "height": 542
        }
      },
      "source": [
        "import plotly.graph_objects as go\n",
        "\n",
        "# cria uma figura\n",
        "fig = go.Figure()\n",
        "\n",
        "# Linha com os dados de teste\n",
        "fig.add_trace(go.Scatter(x=df_results.index,\n",
        "                         y=df_results.valor_real,\n",
        "                         mode='lines+markers',\n",
        "                         name='Valor Real'))\n",
        "\n",
        "# Linha com os dados de teste\n",
        "fig.add_trace(go.Scatter(x=df_results.index,\n",
        "                         y=df_results.valor_predito_baseline,\n",
        "                         mode='lines+markers',\n",
        "                         name='Valor Predito Baseline'))\n",
        "\n",
        "\n",
        "# Linha com os dados de teste\n",
        "fig.add_trace(go.Scatter(x=df_results.index,\n",
        "                         y=df_results.valor_predito_reg_linear,\n",
        "                         mode='lines+markers',\n",
        "                         name='Valor Predito Reg Liner'))\n",
        "\n",
        "# Linha com os dados preditos\n",
        "fig.add_trace(go.Scatter(x=df_results.index,\n",
        "                         y=df_results.valor_predito_arvore,\n",
        "                         mode='lines+markers',\n",
        "                         name='Valor Predito Arvore'))\n",
        "# Plota a figura\n",
        "fig.show()"
      ],
      "execution_count": 59,
      "outputs": [
        {
          "output_type": "display_data",
          "data": {
            "text/html": [
              "<html>\n",
              "<head><meta charset=\"utf-8\" /></head>\n",
              "<body>\n",
              "    <div>\n",
              "            <script src=\"https://cdnjs.cloudflare.com/ajax/libs/mathjax/2.7.5/MathJax.js?config=TeX-AMS-MML_SVG\"></script><script type=\"text/javascript\">if (window.MathJax) {MathJax.Hub.Config({SVG: {font: \"STIX-Web\"}});}</script>\n",
              "                <script type=\"text/javascript\">window.PlotlyConfig = {MathJaxConfig: 'local'};</script>\n",
              "        <script src=\"https://cdn.plot.ly/plotly-latest.min.js\"></script>    \n",
              "            <div id=\"8b696846-e249-4c4f-acd0-6910b699dd56\" class=\"plotly-graph-div\" style=\"height:525px; width:100%;\"></div>\n",
              "            <script type=\"text/javascript\">\n",
              "                \n",
              "                    window.PLOTLYENV=window.PLOTLYENV || {};\n",
              "                    \n",
              "                if (document.getElementById(\"8b696846-e249-4c4f-acd0-6910b699dd56\")) {\n",
              "                    Plotly.newPlot(\n",
              "                        '8b696846-e249-4c4f-acd0-6910b699dd56',\n",
              "                        [{\"mode\": \"lines+markers\", \"name\": \"Valor Real\", \"type\": \"scatter\", \"x\": [0, 1, 2, 3, 4, 5, 6, 7, 8, 9, 10, 11, 12, 13, 14, 15, 16, 17, 18, 19, 20, 21, 22, 23, 24, 25, 26, 27, 28, 29, 30, 31, 32, 33, 34, 35, 36, 37, 38, 39, 40, 41, 42, 43, 44, 45, 46, 47, 48, 49, 50, 51, 52, 53, 54, 55, 56, 57, 58, 59, 60, 61, 62, 63, 64, 65, 66, 67, 68, 69, 70, 71, 72, 73, 74, 75, 76, 77, 78, 79, 80, 81, 82, 83, 84, 85, 86, 87, 88, 89, 90, 91, 92, 93, 94, 95, 96, 97], \"y\": [18.5, 12.7, 21.4, 23.7, 20.8, 25.0, 9.7, 14.9, 34.9, 31.6, 24.7, 22.9, 33.2, 9.6, 30.5, 19.2, 30.3, 15.4, 24.3, 24.4, 21.5, 27.9, 17.3, 21.4, 21.7, 24.4, 8.5, 15.0, 11.5, 13.6, 24.4, 7.4, 44.0, 21.7, 19.3, 16.1, 29.0, 26.4, 20.3, 10.8, 5.0, 19.6, 23.1, 23.9, 17.5, 13.5, 48.8, 26.2, 19.7, 14.2, 11.0, 19.0, 21.7, 18.4, 33.4, 14.0, 24.7, 43.8, 48.5, 25.0, 22.6, 21.2, 22.4, 23.8, 19.9, 16.5, 16.7, 17.2, 13.1, 19.1, 18.5, 22.2, 22.6, 19.4, 15.2, 19.8, 19.4, 21.6, 18.2, 19.6, 19.6, 23.0, 7.0, 17.6, 25.0, 41.3, 24.1, 22.6, 18.7, 22.6, 13.1, 22.2, 16.1, 39.8, 25.0, 20.5, 10.4, 20.4]}, {\"mode\": \"lines+markers\", \"name\": \"Valor Predito Baseline\", \"type\": \"scatter\", \"x\": [0, 1, 2, 3, 4, 5, 6, 7, 8, 9, 10, 11, 12, 13, 14, 15, 16, 17, 18, 19, 20, 21, 22, 23, 24, 25, 26, 27, 28, 29, 30, 31, 32, 33, 34, 35, 36, 37, 38, 39, 40, 41, 42, 43, 44, 45, 46, 47, 48, 49, 50, 51, 52, 53, 54, 55, 56, 57, 58, 59, 60, 61, 62, 63, 64, 65, 66, 67, 68, 69, 70, 71, 72, 73, 74, 75, 76, 77, 78, 79, 80, 81, 82, 83, 84, 85, 86, 87, 88, 89, 90, 91, 92, 93, 94, 95, 96, 97], \"y\": [19.939449541284418, 19.939449541284418, 19.939449541284418, 19.939449541284418, 19.939449541284418, 19.939449541284418, 19.939449541284418, 19.939449541284418, 35.71923076923077, 35.71923076923077, 19.939449541284418, 19.939449541284418, 35.71923076923077, 19.939449541284418, 19.939449541284418, 19.939449541284418, 35.71923076923077, 19.939449541284418, 19.939449541284418, 19.939449541284418, 19.939449541284418, 19.939449541284418, 19.939449541284418, 19.939449541284418, 19.939449541284418, 19.939449541284418, 19.939449541284418, 35.71923076923077, 19.939449541284418, 19.939449541284418, 19.939449541284418, 19.939449541284418, 35.71923076923077, 19.939449541284418, 19.939449541284418, 19.939449541284418, 35.71923076923077, 19.939449541284418, 19.939449541284418, 19.939449541284418, 19.939449541284418, 19.939449541284418, 19.939449541284418, 19.939449541284418, 19.939449541284418, 19.939449541284418, 35.71923076923077, 19.939449541284418, 19.939449541284418, 19.939449541284418, 19.939449541284418, 19.939449541284418, 19.939449541284418, 19.939449541284418, 35.71923076923077, 19.939449541284418, 19.939449541284418, 35.71923076923077, 35.71923076923077, 19.939449541284418, 19.939449541284418, 19.939449541284418, 19.939449541284418, 19.939449541284418, 19.939449541284418, 19.939449541284418, 19.939449541284418, 19.939449541284418, 19.939449541284418, 19.939449541284418, 19.939449541284418, 19.939449541284418, 19.939449541284418, 19.939449541284418, 19.939449541284418, 19.939449541284418, 19.939449541284418, 19.939449541284418, 19.939449541284418, 19.939449541284418, 19.939449541284418, 19.939449541284418, 19.939449541284418, 19.939449541284418, 19.939449541284418, 19.939449541284418, 19.939449541284418, 19.939449541284418, 19.939449541284418, 19.939449541284418, 19.939449541284418, 19.939449541284418, 19.939449541284418, 35.71923076923077, 35.71923076923077, 19.939449541284418, 19.939449541284418, 19.939449541284418]}, {\"mode\": \"lines+markers\", \"name\": \"Valor Predito Reg Liner\", \"type\": \"scatter\", \"x\": [0, 1, 2, 3, 4, 5, 6, 7, 8, 9, 10, 11, 12, 13, 14, 15, 16, 17, 18, 19, 20, 21, 22, 23, 24, 25, 26, 27, 28, 29, 30, 31, 32, 33, 34, 35, 36, 37, 38, 39, 40, 41, 42, 43, 44, 45, 46, 47, 48, 49, 50, 51, 52, 53, 54, 55, 56, 57, 58, 59, 60, 61, 62, 63, 64, 65, 66, 67, 68, 69, 70, 71, 72, 73, 74, 75, 76, 77, 78, 79, 80, 81, 82, 83, 84, 85, 86, 87, 88, 89, 90, 91, 92, 93, 94, 95, 96, 97], \"y\": [18.346093719784573, 13.11651065546624, 23.9669574889667, 28.044716743093737, 16.753790493564605, 21.294906077122455, 9.627522186928736, 15.565356476181938, 30.612572728528157, 29.361321037485872, 27.95958820128826, 26.240645898429392, 30.641189571299137, 14.51460660075746, 30.886986673353725, 23.079784542569087, 32.87496707014206, 17.0370127837164, 23.6338383869827, 26.283764657796514, 21.916867413713387, 27.354175703608377, 14.034179311562715, 18.703270710993653, 22.283457008679928, 23.4962064984642, 14.647074396924115, 21.972843293310625, 12.96790439687161, 16.27532773239311, 25.928928031200336, 6.321299589872751, 33.65101701732582, 24.55187422541789, 24.282781773029555, 17.44335199841807, 32.41746307158769, 27.529887752686385, 21.725306960167813, 11.874896861997069, 7.3388857960558465, 19.267331729126067, 27.31449331606822, 25.485300312117367, 23.098688487265665, 16.10039752125231, 37.17911034467065, 26.852873122056693, 23.370759740579715, 16.55799667712311, 13.552355014028688, 21.874816727168998, 20.400149878074167, 21.456861490308313, 30.184993512945503, 14.281977667064545, 25.470634159154876, 33.057043341876266, 35.83642176580631, 23.505592229640893, 24.39805124934661, 22.985751551262922, 22.557426425752826, 21.815510206667167, 18.286147726390002, 27.937535732379526, 17.9674046959032, 14.7427008406526, 15.906444115329485, 18.43770635238481, 20.428796104976012, 24.53568779680177, 25.9282111861316, 18.929857675224778, 14.394134014903388, 25.510429586791787, 24.88398751903862, 24.394964391301638, 20.556542601845123, 19.399117205685393, 19.178921728378228, 20.723347038481112, -1.2727451607823888, 20.399784076425448, 28.416336432281604, 29.546746674733583, 27.69343284744604, 21.977923076908176, 21.98042570873289, 26.895863082747695, 16.26366399875696, 25.73599193038887, 17.677054699386368, 31.399644034841987, 25.078957881163817, 17.26537528126003, 7.258948782925522, 19.804675823702087]}, {\"mode\": \"lines+markers\", \"name\": \"Valor Predito Arvore\", \"type\": \"scatter\", \"x\": [0, 1, 2, 3, 4, 5, 6, 7, 8, 9, 10, 11, 12, 13, 14, 15, 16, 17, 18, 19, 20, 21, 22, 23, 24, 25, 26, 27, 28, 29, 30, 31, 32, 33, 34, 35, 36, 37, 38, 39, 40, 41, 42, 43, 44, 45, 46, 47, 48, 49, 50, 51, 52, 53, 54, 55, 56, 57, 58, 59, 60, 61, 62, 63, 64, 65, 66, 67, 68, 69, 70, 71, 72, 73, 74, 75, 76, 77, 78, 79, 80, 81, 82, 83, 84, 85, 86, 87, 88, 89, 90, 91, 92, 93, 94, 95, 96, 97], \"y\": [17.8, 23.2, 23.6, 23.9, 19.3, 20.7, 7.2, 17.1, 32.2, 31.7, 28.7, 22.0, 34.9, 14.6, 29.8, 18.5, 33.0, 13.8, 21.2, 26.6, 19.1, 28.5, 15.7, 19.6, 19.6, 21.4, 9.5, 29.8, 12.8, 19.0, 29.1, 10.5, 46.0, 18.9, 20.1, 16.2, 37.0, 23.3, 18.8, 8.4, 6.3, 21.2, 24.5, 26.7, 20.8, 13.9, 48.3, 23.9, 20.1, 22.4, 9.5, 23.4, 23.1, 19.2, 37.2, 14.4, 24.1, 38.7, 38.7, 24.3, 19.6, 20.1, 23.8, 23.8, 15.6, 32.0, 20.1, 19.1, 15.6, 20.0, 21.8, 23.0, 21.6, 22.4, 14.3, 36.2, 18.9, 23.6, 19.5, 16.2, 21.0, 19.5, 8.5, 17.4, 35.1, 22.8, 30.8, 20.7, 19.5, 24.1, 12.7, 20.0, 18.4, 42.3, 26.7, 18.8, 8.5, 21.7]}],\n",
              "                        {\"template\": {\"data\": {\"bar\": [{\"error_x\": {\"color\": \"#2a3f5f\"}, \"error_y\": {\"color\": \"#2a3f5f\"}, \"marker\": {\"line\": {\"color\": \"#E5ECF6\", \"width\": 0.5}}, \"type\": \"bar\"}], \"barpolar\": [{\"marker\": {\"line\": {\"color\": \"#E5ECF6\", \"width\": 0.5}}, \"type\": \"barpolar\"}], \"carpet\": [{\"aaxis\": {\"endlinecolor\": \"#2a3f5f\", \"gridcolor\": \"white\", \"linecolor\": \"white\", \"minorgridcolor\": \"white\", \"startlinecolor\": \"#2a3f5f\"}, \"baxis\": {\"endlinecolor\": \"#2a3f5f\", \"gridcolor\": \"white\", \"linecolor\": \"white\", \"minorgridcolor\": \"white\", \"startlinecolor\": \"#2a3f5f\"}, \"type\": \"carpet\"}], \"choropleth\": [{\"colorbar\": {\"outlinewidth\": 0, \"ticks\": \"\"}, \"type\": \"choropleth\"}], \"contour\": [{\"colorbar\": {\"outlinewidth\": 0, \"ticks\": \"\"}, \"colorscale\": [[0.0, \"#0d0887\"], [0.1111111111111111, \"#46039f\"], [0.2222222222222222, \"#7201a8\"], [0.3333333333333333, \"#9c179e\"], [0.4444444444444444, \"#bd3786\"], [0.5555555555555556, \"#d8576b\"], [0.6666666666666666, \"#ed7953\"], [0.7777777777777778, \"#fb9f3a\"], [0.8888888888888888, \"#fdca26\"], [1.0, \"#f0f921\"]], \"type\": \"contour\"}], \"contourcarpet\": [{\"colorbar\": {\"outlinewidth\": 0, \"ticks\": \"\"}, \"type\": \"contourcarpet\"}], \"heatmap\": [{\"colorbar\": {\"outlinewidth\": 0, \"ticks\": \"\"}, \"colorscale\": [[0.0, \"#0d0887\"], [0.1111111111111111, \"#46039f\"], [0.2222222222222222, \"#7201a8\"], [0.3333333333333333, \"#9c179e\"], [0.4444444444444444, \"#bd3786\"], [0.5555555555555556, \"#d8576b\"], [0.6666666666666666, \"#ed7953\"], [0.7777777777777778, \"#fb9f3a\"], [0.8888888888888888, \"#fdca26\"], [1.0, \"#f0f921\"]], \"type\": \"heatmap\"}], \"heatmapgl\": [{\"colorbar\": {\"outlinewidth\": 0, \"ticks\": \"\"}, \"colorscale\": [[0.0, \"#0d0887\"], [0.1111111111111111, \"#46039f\"], [0.2222222222222222, \"#7201a8\"], [0.3333333333333333, \"#9c179e\"], [0.4444444444444444, \"#bd3786\"], [0.5555555555555556, \"#d8576b\"], [0.6666666666666666, \"#ed7953\"], [0.7777777777777778, \"#fb9f3a\"], [0.8888888888888888, \"#fdca26\"], [1.0, \"#f0f921\"]], \"type\": \"heatmapgl\"}], \"histogram\": [{\"marker\": {\"colorbar\": {\"outlinewidth\": 0, \"ticks\": \"\"}}, \"type\": \"histogram\"}], \"histogram2d\": [{\"colorbar\": {\"outlinewidth\": 0, \"ticks\": \"\"}, \"colorscale\": [[0.0, \"#0d0887\"], [0.1111111111111111, \"#46039f\"], [0.2222222222222222, \"#7201a8\"], [0.3333333333333333, \"#9c179e\"], [0.4444444444444444, \"#bd3786\"], [0.5555555555555556, \"#d8576b\"], [0.6666666666666666, \"#ed7953\"], [0.7777777777777778, \"#fb9f3a\"], [0.8888888888888888, \"#fdca26\"], [1.0, \"#f0f921\"]], \"type\": \"histogram2d\"}], \"histogram2dcontour\": [{\"colorbar\": {\"outlinewidth\": 0, \"ticks\": \"\"}, \"colorscale\": [[0.0, \"#0d0887\"], [0.1111111111111111, \"#46039f\"], [0.2222222222222222, \"#7201a8\"], [0.3333333333333333, \"#9c179e\"], [0.4444444444444444, \"#bd3786\"], [0.5555555555555556, \"#d8576b\"], [0.6666666666666666, \"#ed7953\"], [0.7777777777777778, \"#fb9f3a\"], [0.8888888888888888, \"#fdca26\"], [1.0, \"#f0f921\"]], \"type\": \"histogram2dcontour\"}], \"mesh3d\": [{\"colorbar\": {\"outlinewidth\": 0, \"ticks\": \"\"}, \"type\": \"mesh3d\"}], \"parcoords\": [{\"line\": {\"colorbar\": {\"outlinewidth\": 0, \"ticks\": \"\"}}, \"type\": \"parcoords\"}], \"pie\": [{\"automargin\": true, \"type\": \"pie\"}], \"scatter\": [{\"marker\": {\"colorbar\": {\"outlinewidth\": 0, \"ticks\": \"\"}}, \"type\": \"scatter\"}], \"scatter3d\": [{\"line\": {\"colorbar\": {\"outlinewidth\": 0, \"ticks\": \"\"}}, \"marker\": {\"colorbar\": {\"outlinewidth\": 0, \"ticks\": \"\"}}, \"type\": \"scatter3d\"}], \"scattercarpet\": [{\"marker\": {\"colorbar\": {\"outlinewidth\": 0, \"ticks\": \"\"}}, \"type\": \"scattercarpet\"}], \"scattergeo\": [{\"marker\": {\"colorbar\": {\"outlinewidth\": 0, \"ticks\": \"\"}}, \"type\": \"scattergeo\"}], \"scattergl\": [{\"marker\": {\"colorbar\": {\"outlinewidth\": 0, \"ticks\": \"\"}}, \"type\": \"scattergl\"}], \"scattermapbox\": [{\"marker\": {\"colorbar\": {\"outlinewidth\": 0, \"ticks\": \"\"}}, \"type\": \"scattermapbox\"}], \"scatterpolar\": [{\"marker\": {\"colorbar\": {\"outlinewidth\": 0, \"ticks\": \"\"}}, \"type\": \"scatterpolar\"}], \"scatterpolargl\": [{\"marker\": {\"colorbar\": {\"outlinewidth\": 0, \"ticks\": \"\"}}, \"type\": \"scatterpolargl\"}], \"scatterternary\": [{\"marker\": {\"colorbar\": {\"outlinewidth\": 0, \"ticks\": \"\"}}, \"type\": \"scatterternary\"}], \"surface\": [{\"colorbar\": {\"outlinewidth\": 0, \"ticks\": \"\"}, \"colorscale\": [[0.0, \"#0d0887\"], [0.1111111111111111, \"#46039f\"], [0.2222222222222222, \"#7201a8\"], [0.3333333333333333, \"#9c179e\"], [0.4444444444444444, \"#bd3786\"], [0.5555555555555556, \"#d8576b\"], [0.6666666666666666, \"#ed7953\"], [0.7777777777777778, \"#fb9f3a\"], [0.8888888888888888, \"#fdca26\"], [1.0, \"#f0f921\"]], \"type\": \"surface\"}], \"table\": [{\"cells\": {\"fill\": {\"color\": \"#EBF0F8\"}, \"line\": {\"color\": \"white\"}}, \"header\": {\"fill\": {\"color\": \"#C8D4E3\"}, \"line\": {\"color\": \"white\"}}, \"type\": \"table\"}]}, \"layout\": {\"annotationdefaults\": {\"arrowcolor\": \"#2a3f5f\", \"arrowhead\": 0, \"arrowwidth\": 1}, \"coloraxis\": {\"colorbar\": {\"outlinewidth\": 0, \"ticks\": \"\"}}, \"colorscale\": {\"diverging\": [[0, \"#8e0152\"], [0.1, \"#c51b7d\"], [0.2, \"#de77ae\"], [0.3, \"#f1b6da\"], [0.4, \"#fde0ef\"], [0.5, \"#f7f7f7\"], [0.6, \"#e6f5d0\"], [0.7, \"#b8e186\"], [0.8, \"#7fbc41\"], [0.9, \"#4d9221\"], [1, \"#276419\"]], \"sequential\": [[0.0, \"#0d0887\"], [0.1111111111111111, \"#46039f\"], [0.2222222222222222, \"#7201a8\"], [0.3333333333333333, \"#9c179e\"], [0.4444444444444444, \"#bd3786\"], [0.5555555555555556, \"#d8576b\"], [0.6666666666666666, \"#ed7953\"], [0.7777777777777778, \"#fb9f3a\"], [0.8888888888888888, \"#fdca26\"], [1.0, \"#f0f921\"]], \"sequentialminus\": [[0.0, \"#0d0887\"], [0.1111111111111111, \"#46039f\"], [0.2222222222222222, \"#7201a8\"], [0.3333333333333333, \"#9c179e\"], [0.4444444444444444, \"#bd3786\"], [0.5555555555555556, \"#d8576b\"], [0.6666666666666666, \"#ed7953\"], [0.7777777777777778, \"#fb9f3a\"], [0.8888888888888888, \"#fdca26\"], [1.0, \"#f0f921\"]]}, \"colorway\": [\"#636efa\", \"#EF553B\", \"#00cc96\", \"#ab63fa\", \"#FFA15A\", \"#19d3f3\", \"#FF6692\", \"#B6E880\", \"#FF97FF\", \"#FECB52\"], \"font\": {\"color\": \"#2a3f5f\"}, \"geo\": {\"bgcolor\": \"white\", \"lakecolor\": \"white\", \"landcolor\": \"#E5ECF6\", \"showlakes\": true, \"showland\": true, \"subunitcolor\": \"white\"}, \"hoverlabel\": {\"align\": \"left\"}, \"hovermode\": \"closest\", \"mapbox\": {\"style\": \"light\"}, \"paper_bgcolor\": \"white\", \"plot_bgcolor\": \"#E5ECF6\", \"polar\": {\"angularaxis\": {\"gridcolor\": \"white\", \"linecolor\": \"white\", \"ticks\": \"\"}, \"bgcolor\": \"#E5ECF6\", \"radialaxis\": {\"gridcolor\": \"white\", \"linecolor\": \"white\", \"ticks\": \"\"}}, \"scene\": {\"xaxis\": {\"backgroundcolor\": \"#E5ECF6\", \"gridcolor\": \"white\", \"gridwidth\": 2, \"linecolor\": \"white\", \"showbackground\": true, \"ticks\": \"\", \"zerolinecolor\": \"white\"}, \"yaxis\": {\"backgroundcolor\": \"#E5ECF6\", \"gridcolor\": \"white\", \"gridwidth\": 2, \"linecolor\": \"white\", \"showbackground\": true, \"ticks\": \"\", \"zerolinecolor\": \"white\"}, \"zaxis\": {\"backgroundcolor\": \"#E5ECF6\", \"gridcolor\": \"white\", \"gridwidth\": 2, \"linecolor\": \"white\", \"showbackground\": true, \"ticks\": \"\", \"zerolinecolor\": \"white\"}}, \"shapedefaults\": {\"line\": {\"color\": \"#2a3f5f\"}}, \"ternary\": {\"aaxis\": {\"gridcolor\": \"white\", \"linecolor\": \"white\", \"ticks\": \"\"}, \"baxis\": {\"gridcolor\": \"white\", \"linecolor\": \"white\", \"ticks\": \"\"}, \"bgcolor\": \"#E5ECF6\", \"caxis\": {\"gridcolor\": \"white\", \"linecolor\": \"white\", \"ticks\": \"\"}}, \"title\": {\"x\": 0.05}, \"xaxis\": {\"automargin\": true, \"gridcolor\": \"white\", \"linecolor\": \"white\", \"ticks\": \"\", \"title\": {\"standoff\": 15}, \"zerolinecolor\": \"white\", \"zerolinewidth\": 2}, \"yaxis\": {\"automargin\": true, \"gridcolor\": \"white\", \"linecolor\": \"white\", \"ticks\": \"\", \"title\": {\"standoff\": 15}, \"zerolinecolor\": \"white\", \"zerolinewidth\": 2}}}},\n",
              "                        {\"responsive\": true}\n",
              "                    ).then(function(){\n",
              "                            \n",
              "var gd = document.getElementById('8b696846-e249-4c4f-acd0-6910b699dd56');\n",
              "var x = new MutationObserver(function (mutations, observer) {{\n",
              "        var display = window.getComputedStyle(gd).display;\n",
              "        if (!display || display === 'none') {{\n",
              "            console.log([gd, 'removed!']);\n",
              "            Plotly.purge(gd);\n",
              "            observer.disconnect();\n",
              "        }}\n",
              "}});\n",
              "\n",
              "// Listen for the removal of the full notebook cells\n",
              "var notebookContainer = gd.closest('#notebook-container');\n",
              "if (notebookContainer) {{\n",
              "    x.observe(notebookContainer, {childList: true});\n",
              "}}\n",
              "\n",
              "// Listen for the clearing of the current output cell\n",
              "var outputEl = gd.closest('.output');\n",
              "if (outputEl) {{\n",
              "    x.observe(outputEl, {childList: true});\n",
              "}}\n",
              "\n",
              "                        })\n",
              "                };\n",
              "                \n",
              "            </script>\n",
              "        </div>\n",
              "</body>\n",
              "</html>"
            ]
          },
          "metadata": {
            "tags": []
          }
        }
      ]
    },
    {
      "cell_type": "markdown",
      "metadata": {
        "id": "exqvETJrM0BB",
        "colab_type": "text"
      },
      "source": [
        "Avaliação do Modelo"
      ]
    },
    {
      "cell_type": "code",
      "metadata": {
        "id": "VpR1FT389JN_",
        "colab_type": "code",
        "colab": {}
      },
      "source": [
        "# calcula a métrica rmse\n",
        "rmse = (np.sqrt(mean_squared_error(y_test, y_pred)))"
      ],
      "execution_count": 0,
      "outputs": []
    },
    {
      "cell_type": "code",
      "metadata": {
        "id": "cEBz7JpJyYcm",
        "colab_type": "code",
        "outputId": "336b07a3-a645-4e51-dbac-e91fd97bbe99",
        "colab": {
          "base_uri": "https://localhost:8080/",
          "height": 72
        }
      },
      "source": [
        "# imprime a performance do modelo\n",
        "print ('Performance do modelo avaliado com os dados de teste:')\n",
        "print('\\nRMSE é: {} '.format(rmse))"
      ],
      "execution_count": 61,
      "outputs": [
        {
          "output_type": "stream",
          "text": [
            "Performance do modelo avaliado com os dados de teste:\n",
            "\n",
            "RMSE é: 4.549299116235335 \n"
          ],
          "name": "stdout"
        }
      ]
    },
    {
      "cell_type": "markdown",
      "metadata": {
        "id": "IPf53dk8cQ4A",
        "colab_type": "text"
      },
      "source": [
        "#### Random Forest\n",
        "\n",
        "- `Método Ensemble`\n",
        "- `Mais robustez para os modelos`"
      ]
    },
    {
      "cell_type": "code",
      "metadata": {
        "id": "dXpfe5pfWcxs",
        "colab_type": "code",
        "colab": {}
      },
      "source": [
        "# Importa o método RandomForestRegressor\n",
        "from sklearn.ensemble import RandomForestRegressor"
      ],
      "execution_count": 0,
      "outputs": []
    },
    {
      "cell_type": "code",
      "metadata": {
        "id": "G-TcDYH6WcqX",
        "colab_type": "code",
        "colab": {}
      },
      "source": [
        "# cria o objeto rf_regressor\n",
        "rf_regressor = RandomForestRegressor()"
      ],
      "execution_count": 0,
      "outputs": []
    },
    {
      "cell_type": "code",
      "metadata": {
        "id": "PXwdpDXdWcm5",
        "colab_type": "code",
        "outputId": "2a58c343-bfca-4024-a491-cb7e5adcb236",
        "colab": {
          "base_uri": "https://localhost:8080/",
          "height": 146
        }
      },
      "source": [
        "# treina o algoritmo\n",
        "rf_regressor.fit(X_train, y_train)"
      ],
      "execution_count": 64,
      "outputs": [
        {
          "output_type": "execute_result",
          "data": {
            "text/plain": [
              "RandomForestRegressor(bootstrap=True, ccp_alpha=0.0, criterion='mse',\n",
              "                      max_depth=None, max_features='auto', max_leaf_nodes=None,\n",
              "                      max_samples=None, min_impurity_decrease=0.0,\n",
              "                      min_impurity_split=None, min_samples_leaf=1,\n",
              "                      min_samples_split=2, min_weight_fraction_leaf=0.0,\n",
              "                      n_estimators=100, n_jobs=None, oob_score=False,\n",
              "                      random_state=None, verbose=0, warm_start=False)"
            ]
          },
          "metadata": {
            "tags": []
          },
          "execution_count": 64
        }
      ]
    },
    {
      "cell_type": "code",
      "metadata": {
        "id": "YJp4BOStc5bS",
        "colab_type": "code",
        "colab": {}
      },
      "source": [
        "# avaliação do modelo nos dados de teste\n",
        "y_pred = rf_regressor.predict(X_test)"
      ],
      "execution_count": 0,
      "outputs": []
    },
    {
      "cell_type": "code",
      "metadata": {
        "id": "2jH8pO-PdD3I",
        "colab_type": "code",
        "colab": {}
      },
      "source": [
        "# adiciona os resultados no dataframe df_results\n",
        "df_results['valor_predito_random_forest'] = rf_regressor.predict(X_test)"
      ],
      "execution_count": 0,
      "outputs": []
    },
    {
      "cell_type": "code",
      "metadata": {
        "id": "WLxMyfruc5UO",
        "colab_type": "code",
        "colab": {}
      },
      "source": [
        "# calcula a métrica rmse\n",
        "rmse = (np.sqrt(mean_squared_error(y_test, y_pred)))"
      ],
      "execution_count": 0,
      "outputs": []
    },
    {
      "cell_type": "code",
      "metadata": {
        "id": "V7Yt6UAxc5MQ",
        "colab_type": "code",
        "outputId": "eb096016-856a-43c1-adb3-91289b3a9445",
        "colab": {
          "base_uri": "https://localhost:8080/",
          "height": 72
        }
      },
      "source": [
        "# imprime a performance do modelo\n",
        "print ('Performance do modelo avaliado com os dados de teste:')\n",
        "print('\\nRMSE é: {} '.format(rmse))"
      ],
      "execution_count": 68,
      "outputs": [
        {
          "output_type": "stream",
          "text": [
            "Performance do modelo avaliado com os dados de teste:\n",
            "\n",
            "RMSE é: 2.8740664393780424 \n"
          ],
          "name": "stdout"
        }
      ]
    },
    {
      "cell_type": "code",
      "metadata": {
        "id": "xKy2c8eidpdW",
        "colab_type": "code",
        "outputId": "cde3fc81-712b-45b1-bd5b-ca03aa48fd37",
        "colab": {
          "base_uri": "https://localhost:8080/",
          "height": 542
        }
      },
      "source": [
        "# plota os resultados dos modelos e o valor real.\n",
        "import plotly.graph_objects as go\n",
        "\n",
        "# Create traces\n",
        "fig = go.Figure()\n",
        "\n",
        "# Linha com os dados de teste\n",
        "fig.add_trace(go.Scatter(x=df_results.index,\n",
        "                         y=df_results.valor_real,\n",
        "                         mode='markers',\n",
        "                         name='Valor Real'))\n",
        "\n",
        "# Linha com os dados da baseline\n",
        "fig.add_trace(go.Scatter(x=df_results.index,\n",
        "                         y=df_results.valor_predito_baseline,\n",
        "                         mode='lines+markers',\n",
        "                         line = dict(color = '#FF00FF'),\n",
        "                         name='Valor da Baseline'))\n",
        "\n",
        "# Linha com os dados preditos pela arvore\n",
        "fig.add_trace(go.Scatter(x=df_results.index,\n",
        "                         y=df_results.valor_predito_arvore,\n",
        "                         mode='lines',\n",
        "                         line = dict(color = '#B2FF66'),\n",
        "                         name='Valor Predito Árvore'))\n",
        "\n",
        "# Linha com os dados preditos pela regressão linear\n",
        "fig.add_trace(go.Scatter(x=df_results.index,\n",
        "                         y=df_results.valor_predito_reg_linear,\n",
        "                         mode='lines',\n",
        "                         line = dict(color = '#17BECF'),\n",
        "                         name='Valor Predito Regressão Linear'))\n",
        "\n",
        "\n",
        "# Linha com os dados preditos pela Random Forest\n",
        "fig.add_trace(go.Scatter(x=df_results.index,\n",
        "                         y=df_results.valor_predito_random_forest,\n",
        "                         mode='lines',\n",
        "                         line = dict(color = '#7F7F7F'),\n",
        "                         name='Valor Predito Random Forest'))\n",
        "\n",
        "# Plota a figura\n",
        "fig.show()"
      ],
      "execution_count": 0,
      "outputs": [
        {
          "output_type": "display_data",
          "data": {
            "text/html": [
              "<html>\n",
              "<head><meta charset=\"utf-8\" /></head>\n",
              "<body>\n",
              "    <div>\n",
              "            <script src=\"https://cdnjs.cloudflare.com/ajax/libs/mathjax/2.7.5/MathJax.js?config=TeX-AMS-MML_SVG\"></script><script type=\"text/javascript\">if (window.MathJax) {MathJax.Hub.Config({SVG: {font: \"STIX-Web\"}});}</script>\n",
              "                <script type=\"text/javascript\">window.PlotlyConfig = {MathJaxConfig: 'local'};</script>\n",
              "        <script src=\"https://cdn.plot.ly/plotly-latest.min.js\"></script>    \n",
              "            <div id=\"2394f98f-89c9-4b7c-9916-3119a41a431e\" class=\"plotly-graph-div\" style=\"height:525px; width:100%;\"></div>\n",
              "            <script type=\"text/javascript\">\n",
              "                \n",
              "                    window.PLOTLYENV=window.PLOTLYENV || {};\n",
              "                    \n",
              "                if (document.getElementById(\"2394f98f-89c9-4b7c-9916-3119a41a431e\")) {\n",
              "                    Plotly.newPlot(\n",
              "                        '2394f98f-89c9-4b7c-9916-3119a41a431e',\n",
              "                        [{\"mode\": \"markers\", \"name\": \"Valor Real\", \"type\": \"scatter\", \"x\": [0, 1, 2, 3, 4, 5, 6, 7, 8, 9, 10, 11, 12, 13, 14, 15, 16, 17, 18, 19, 20, 21, 22, 23, 24, 25, 26, 27, 28, 29, 30, 31, 32, 33, 34, 35, 36, 37, 38, 39, 40, 41, 42, 43, 44, 45, 46, 47, 48, 49, 50, 51, 52, 53, 54, 55, 56, 57, 58, 59, 60, 61, 62, 63, 64, 65, 66, 67, 68, 69, 70, 71, 72, 73, 74, 75, 76, 77, 78, 79, 80, 81, 82, 83, 84, 85, 86, 87, 88, 89, 90, 91, 92, 93, 94, 95, 96, 97], \"y\": [18.5, 12.7, 21.4, 23.7, 20.8, 25.0, 9.7, 14.9, 34.9, 31.6, 24.7, 22.9, 33.2, 9.6, 30.5, 19.2, 30.3, 15.4, 24.3, 24.4, 21.5, 27.9, 17.3, 21.4, 21.7, 24.4, 8.5, 15.0, 11.5, 13.6, 24.4, 7.4, 44.0, 21.7, 19.3, 16.1, 29.0, 26.4, 20.3, 10.8, 5.0, 19.6, 23.1, 23.9, 17.5, 13.5, 48.8, 26.2, 19.7, 14.2, 11.0, 19.0, 21.7, 18.4, 33.4, 14.0, 24.7, 43.8, 48.5, 25.0, 22.6, 21.2, 22.4, 23.8, 19.9, 16.5, 16.7, 17.2, 13.1, 19.1, 18.5, 22.2, 22.6, 19.4, 15.2, 19.8, 19.4, 21.6, 18.2, 19.6, 19.6, 23.0, 7.0, 17.6, 25.0, 41.3, 24.1, 22.6, 18.7, 22.6, 13.1, 22.2, 16.1, 39.8, 25.0, 20.5, 10.4, 20.4]}, {\"line\": {\"color\": \"#FF00FF\"}, \"mode\": \"lines+markers\", \"name\": \"Valor da Baseline\", \"type\": \"scatter\", \"x\": [0, 1, 2, 3, 4, 5, 6, 7, 8, 9, 10, 11, 12, 13, 14, 15, 16, 17, 18, 19, 20, 21, 22, 23, 24, 25, 26, 27, 28, 29, 30, 31, 32, 33, 34, 35, 36, 37, 38, 39, 40, 41, 42, 43, 44, 45, 46, 47, 48, 49, 50, 51, 52, 53, 54, 55, 56, 57, 58, 59, 60, 61, 62, 63, 64, 65, 66, 67, 68, 69, 70, 71, 72, 73, 74, 75, 76, 77, 78, 79, 80, 81, 82, 83, 84, 85, 86, 87, 88, 89, 90, 91, 92, 93, 94, 95, 96, 97], \"y\": [20.1304245283019, 20.1304245283019, 20.1304245283019, 20.1304245283019, 20.1304245283019, 20.1304245283019, 20.1304245283019, 20.1304245283019, 35.71923076923077, 35.71923076923077, 20.1304245283019, 20.1304245283019, 35.71923076923077, 20.1304245283019, 20.1304245283019, 20.1304245283019, 35.71923076923077, 20.1304245283019, 20.1304245283019, 20.1304245283019, 20.1304245283019, 20.1304245283019, 20.1304245283019, 20.1304245283019, 20.1304245283019, 20.1304245283019, 20.1304245283019, 35.71923076923077, 20.1304245283019, 20.1304245283019, 20.1304245283019, 20.1304245283019, 35.71923076923077, 20.1304245283019, 20.1304245283019, 14.921428571428574, 35.71923076923077, 20.1304245283019, 20.1304245283019, 20.1304245283019, 20.1304245283019, 20.1304245283019, 20.1304245283019, 20.1304245283019, 20.1304245283019, 20.1304245283019, 35.71923076923077, 20.1304245283019, 20.1304245283019, 20.1304245283019, 20.1304245283019, 20.1304245283019, 20.1304245283019, 20.1304245283019, 35.71923076923077, 20.1304245283019, 20.1304245283019, 35.71923076923077, 35.71923076923077, 20.1304245283019, 20.1304245283019, 20.1304245283019, 20.1304245283019, 20.1304245283019, 20.1304245283019, 20.1304245283019, 20.1304245283019, 20.1304245283019, 20.1304245283019, 20.1304245283019, 20.1304245283019, 20.1304245283019, 20.1304245283019, 20.1304245283019, 20.1304245283019, 20.1304245283019, 20.1304245283019, 20.1304245283019, 20.1304245283019, 20.1304245283019, 20.1304245283019, 20.1304245283019, 14.921428571428574, 20.1304245283019, 20.1304245283019, 20.1304245283019, 20.1304245283019, 20.1304245283019, 20.1304245283019, 20.1304245283019, 20.1304245283019, 20.1304245283019, 20.1304245283019, 35.71923076923077, 35.71923076923077, 20.1304245283019, 20.1304245283019, 20.1304245283019]}, {\"line\": {\"color\": \"#B2FF66\"}, \"mode\": \"lines\", \"name\": \"Valor Predito \\u00c1rvore\", \"type\": \"scatter\", \"x\": [0, 1, 2, 3, 4, 5, 6, 7, 8, 9, 10, 11, 12, 13, 14, 15, 16, 17, 18, 19, 20, 21, 22, 23, 24, 25, 26, 27, 28, 29, 30, 31, 32, 33, 34, 35, 36, 37, 38, 39, 40, 41, 42, 43, 44, 45, 46, 47, 48, 49, 50, 51, 52, 53, 54, 55, 56, 57, 58, 59, 60, 61, 62, 63, 64, 65, 66, 67, 68, 69, 70, 71, 72, 73, 74, 75, 76, 77, 78, 79, 80, 81, 82, 83, 84, 85, 86, 87, 88, 89, 90, 91, 92, 93, 94, 95, 96, 97], \"y\": [16.6, 23.2, 24.5, 24.3, 21.8, 27.5, 7.2, 17.1, 36.4, 28.7, 24.5, 22.2, 34.9, 14.6, 29.8, 23.1, 34.6, 13.8, 24.5, 23.9, 15.3, 28.5, 15.7, 20.6, 23.4, 19.4, 12.1, 31.0, 12.8, 16.2, 22.2, 10.5, 45.4, 23.2, 22.8, 14.5, 32.2, 23.3, 18.8, 8.4, 5.6, 19.2, 25.0, 22.2, 17.2, 13.9, 43.1, 23.3, 17.1, 22.4, 12.1, 19.5, 19.6, 21.7, 36.1, 14.4, 23.8, 37.3, 33.3, 23.3, 28.7, 20.1, 25.0, 19.1, 15.6, 22.0, 20.1, 27.5, 15.6, 20.0, 20.0, 20.7, 20.5, 22.4, 14.3, 19.4, 22.8, 23.8, 27.5, 15.3, 18.3, 21.4, 8.5, 17.2, 34.9, 27.0, 22.5, 19.3, 19.6, 32.0, 13.8, 22.0, 18.4, 37.9, 21.9, 18.8, 8.3, 19.3]}, {\"line\": {\"color\": \"#17BECF\"}, \"mode\": \"lines\", \"name\": \"Valor Predito Regress\\u00e3o Linear\", \"type\": \"scatter\", \"x\": [0, 1, 2, 3, 4, 5, 6, 7, 8, 9, 10, 11, 12, 13, 14, 15, 16, 17, 18, 19, 20, 21, 22, 23, 24, 25, 26, 27, 28, 29, 30, 31, 32, 33, 34, 35, 36, 37, 38, 39, 40, 41, 42, 43, 44, 45, 46, 47, 48, 49, 50, 51, 52, 53, 54, 55, 56, 57, 58, 59, 60, 61, 62, 63, 64, 65, 66, 67, 68, 69, 70, 71, 72, 73, 74, 75, 76, 77, 78, 79, 80, 81, 82, 83, 84, 85, 86, 87, 88, 89, 90, 91, 92, 93, 94, 95, 96, 97], \"y\": [18.459169620175622, 12.27989416415651, 24.588306565387423, 28.254693280668697, 18.195438537343797, 21.630648235689588, 11.31919803094615, 14.561032219959813, 31.623716773040094, 29.588132607557007, 28.60393601525742, 26.482125815783224, 29.966034207781306, 14.553173045326115, 30.278248711999723, 24.63003915876186, 33.23345824950145, 16.931248570273684, 24.99446421909778, 26.466441440860127, 22.813639524070087, 27.103390731816347, 12.524996632311225, 19.37929751974933, 21.581545971002537, 23.877006702039054, 14.085855797820356, 21.230146967559786, 13.643973122717863, 14.716712882017276, 25.80016154201209, 7.867171947538868, 33.02051098404501, 26.045218917809276, 24.03678166511637, 17.775403456686533, 33.22709163662169, 27.517944398741662, 21.187383562583435, 10.957868727277681, 7.507685772949113, 19.418586584539916, 27.393339951286585, 23.8410182563615, 24.74227083856386, 16.990723698020265, 35.47974424493103, 26.159912917617135, 22.49691218178387, 17.904788196114122, 14.154116782257066, 21.181885684574734, 20.624525388320667, 21.177587641065532, 29.49552122400647, 14.23004112679746, 26.544112805265772, 31.0880450668066, 33.726935599253906, 24.891581735351775, 24.187944371239205, 23.864725908860084, 22.05278167361648, 21.38994045785447, 18.845951646544716, 27.841582054943295, 17.93632331758325, 13.823897089289773, 17.676139911036124, 19.29463827968289, 20.582306559638138, 25.390649846634087, 26.23596042344075, 18.89486986816471, 14.74830291774068, 26.818675625015647, 24.878238751496404, 25.213916812117624, 21.19251508313218, 20.512703338801487, 18.270477629632566, 21.37039101688553, -0.09444264955234871, 20.958291503542682, 28.552537591219135, 28.0218620799915, 27.66690749195503, 21.458421647169153, 21.377824334771667, 27.621006503404928, 16.075247361056483, 26.092542124103044, 17.756087552806495, 29.38959640373895, 25.474439973258512, 15.839468986221018, 8.44698583407828, 20.760205429443275]}, {\"line\": {\"color\": \"#7F7F7F\"}, \"mode\": \"lines\", \"name\": \"Valor Predito Random Forest\", \"type\": \"scatter\", \"x\": [0, 1, 2, 3, 4, 5, 6, 7, 8, 9, 10, 11, 12, 13, 14, 15, 16, 17, 18, 19, 20, 21, 22, 23, 24, 25, 26, 27, 28, 29, 30, 31, 32, 33, 34, 35, 36, 37, 38, 39, 40, 41, 42, 43, 44, 45, 46, 47, 48, 49, 50, 51, 52, 53, 54, 55, 56, 57, 58, 59, 60, 61, 62, 63, 64, 65, 66, 67, 68, 69, 70, 71, 72, 73, 74, 75, 76, 77, 78, 79, 80, 81, 82, 83, 84, 85, 86, 87, 88, 89, 90, 91, 92, 93, 94, 95, 96, 97], \"y\": [19.565999999999995, 16.387, 23.707000000000008, 24.734000000000005, 22.098999999999993, 23.381000000000004, 9.445000000000002, 13.222000000000001, 38.394000000000055, 34.91299999999997, 25.623999999999988, 26.483999999999984, 33.75499999999999, 12.979000000000008, 33.19500000000001, 20.971999999999984, 33.51399999999999, 15.148999999999983, 23.659000000000006, 24.373999999999995, 18.157999999999994, 28.608999999999988, 17.393000000000008, 21.453999999999994, 22.119000000000007, 21.667999999999992, 13.794999999999986, 21.86500000000001, 12.37799999999998, 16.267999999999997, 23.629000000000005, 8.225000000000003, 42.09100000000002, 21.313999999999986, 24.080000000000005, 19.999999999999996, 35.13199999999999, 23.967000000000013, 20.35500000000001, 10.38599999999999, 6.710000000000005, 19.536000000000005, 24.937, 22.249999999999996, 20.33, 14.580000000000007, 37.17799999999997, 24.19600000000001, 19.61699999999999, 15.467, 12.755999999999997, 20.29000000000001, 21.243999999999996, 19.784000000000013, 34.49899999999997, 14.231999999999989, 25.199999999999996, 38.96700000000004, 40.07900000000005, 24.38699999999999, 23.69799999999999, 20.615999999999996, 21.446000000000005, 20.220999999999986, 17.799000000000007, 24.482, 14.431000000000001, 18.111000000000008, 15.981999999999982, 18.448, 21.384, 24.688999999999986, 24.17900000000001, 16.36099999999999, 16.061999999999998, 23.829000000000015, 21.79799999999999, 23.663, 20.549999999999986, 17.677999999999983, 18.479000000000006, 20.577999999999992, 8.593, 19.237, 29.057999999999993, 27.78, 26.910999999999987, 20.37299999999999, 20.222000000000005, 29.094, 14.686000000000002, 21.451999999999988, 17.459000000000014, 34.018999999999984, 30.173, 19.93999999999999, 7.833999999999999, 19.999999999999996]}],\n",
              "                        {\"template\": {\"data\": {\"bar\": [{\"error_x\": {\"color\": \"#2a3f5f\"}, \"error_y\": {\"color\": \"#2a3f5f\"}, \"marker\": {\"line\": {\"color\": \"#E5ECF6\", \"width\": 0.5}}, \"type\": \"bar\"}], \"barpolar\": [{\"marker\": {\"line\": {\"color\": \"#E5ECF6\", \"width\": 0.5}}, \"type\": \"barpolar\"}], \"carpet\": [{\"aaxis\": {\"endlinecolor\": \"#2a3f5f\", \"gridcolor\": \"white\", \"linecolor\": \"white\", \"minorgridcolor\": \"white\", \"startlinecolor\": \"#2a3f5f\"}, \"baxis\": {\"endlinecolor\": \"#2a3f5f\", \"gridcolor\": \"white\", \"linecolor\": \"white\", \"minorgridcolor\": \"white\", \"startlinecolor\": \"#2a3f5f\"}, \"type\": \"carpet\"}], \"choropleth\": [{\"colorbar\": {\"outlinewidth\": 0, \"ticks\": \"\"}, \"type\": \"choropleth\"}], \"contour\": [{\"colorbar\": {\"outlinewidth\": 0, \"ticks\": \"\"}, \"colorscale\": [[0.0, \"#0d0887\"], [0.1111111111111111, \"#46039f\"], [0.2222222222222222, \"#7201a8\"], [0.3333333333333333, \"#9c179e\"], [0.4444444444444444, \"#bd3786\"], [0.5555555555555556, \"#d8576b\"], [0.6666666666666666, \"#ed7953\"], [0.7777777777777778, \"#fb9f3a\"], [0.8888888888888888, \"#fdca26\"], [1.0, \"#f0f921\"]], \"type\": \"contour\"}], \"contourcarpet\": [{\"colorbar\": {\"outlinewidth\": 0, \"ticks\": \"\"}, \"type\": \"contourcarpet\"}], \"heatmap\": [{\"colorbar\": {\"outlinewidth\": 0, \"ticks\": \"\"}, \"colorscale\": [[0.0, \"#0d0887\"], [0.1111111111111111, \"#46039f\"], [0.2222222222222222, \"#7201a8\"], [0.3333333333333333, \"#9c179e\"], [0.4444444444444444, \"#bd3786\"], [0.5555555555555556, \"#d8576b\"], [0.6666666666666666, \"#ed7953\"], [0.7777777777777778, \"#fb9f3a\"], [0.8888888888888888, \"#fdca26\"], [1.0, \"#f0f921\"]], \"type\": \"heatmap\"}], \"heatmapgl\": [{\"colorbar\": {\"outlinewidth\": 0, \"ticks\": \"\"}, \"colorscale\": [[0.0, \"#0d0887\"], [0.1111111111111111, \"#46039f\"], [0.2222222222222222, \"#7201a8\"], [0.3333333333333333, \"#9c179e\"], [0.4444444444444444, \"#bd3786\"], [0.5555555555555556, \"#d8576b\"], [0.6666666666666666, \"#ed7953\"], [0.7777777777777778, \"#fb9f3a\"], [0.8888888888888888, \"#fdca26\"], [1.0, \"#f0f921\"]], \"type\": \"heatmapgl\"}], \"histogram\": [{\"marker\": {\"colorbar\": {\"outlinewidth\": 0, \"ticks\": \"\"}}, \"type\": \"histogram\"}], \"histogram2d\": [{\"colorbar\": {\"outlinewidth\": 0, \"ticks\": \"\"}, \"colorscale\": [[0.0, \"#0d0887\"], [0.1111111111111111, \"#46039f\"], [0.2222222222222222, \"#7201a8\"], [0.3333333333333333, \"#9c179e\"], [0.4444444444444444, \"#bd3786\"], [0.5555555555555556, \"#d8576b\"], [0.6666666666666666, \"#ed7953\"], [0.7777777777777778, \"#fb9f3a\"], [0.8888888888888888, \"#fdca26\"], [1.0, \"#f0f921\"]], \"type\": \"histogram2d\"}], \"histogram2dcontour\": [{\"colorbar\": {\"outlinewidth\": 0, \"ticks\": \"\"}, \"colorscale\": [[0.0, \"#0d0887\"], [0.1111111111111111, \"#46039f\"], [0.2222222222222222, \"#7201a8\"], [0.3333333333333333, \"#9c179e\"], [0.4444444444444444, \"#bd3786\"], [0.5555555555555556, \"#d8576b\"], [0.6666666666666666, \"#ed7953\"], [0.7777777777777778, \"#fb9f3a\"], [0.8888888888888888, \"#fdca26\"], [1.0, \"#f0f921\"]], \"type\": \"histogram2dcontour\"}], \"mesh3d\": [{\"colorbar\": {\"outlinewidth\": 0, \"ticks\": \"\"}, \"type\": \"mesh3d\"}], \"parcoords\": [{\"line\": {\"colorbar\": {\"outlinewidth\": 0, \"ticks\": \"\"}}, \"type\": \"parcoords\"}], \"pie\": [{\"automargin\": true, \"type\": \"pie\"}], \"scatter\": [{\"marker\": {\"colorbar\": {\"outlinewidth\": 0, \"ticks\": \"\"}}, \"type\": \"scatter\"}], \"scatter3d\": [{\"line\": {\"colorbar\": {\"outlinewidth\": 0, \"ticks\": \"\"}}, \"marker\": {\"colorbar\": {\"outlinewidth\": 0, \"ticks\": \"\"}}, \"type\": \"scatter3d\"}], \"scattercarpet\": [{\"marker\": {\"colorbar\": {\"outlinewidth\": 0, \"ticks\": \"\"}}, \"type\": \"scattercarpet\"}], \"scattergeo\": [{\"marker\": {\"colorbar\": {\"outlinewidth\": 0, \"ticks\": \"\"}}, \"type\": \"scattergeo\"}], \"scattergl\": [{\"marker\": {\"colorbar\": {\"outlinewidth\": 0, \"ticks\": \"\"}}, \"type\": \"scattergl\"}], \"scattermapbox\": [{\"marker\": {\"colorbar\": {\"outlinewidth\": 0, \"ticks\": \"\"}}, \"type\": \"scattermapbox\"}], \"scatterpolar\": [{\"marker\": {\"colorbar\": {\"outlinewidth\": 0, \"ticks\": \"\"}}, \"type\": \"scatterpolar\"}], \"scatterpolargl\": [{\"marker\": {\"colorbar\": {\"outlinewidth\": 0, \"ticks\": \"\"}}, \"type\": \"scatterpolargl\"}], \"scatterternary\": [{\"marker\": {\"colorbar\": {\"outlinewidth\": 0, \"ticks\": \"\"}}, \"type\": \"scatterternary\"}], \"surface\": [{\"colorbar\": {\"outlinewidth\": 0, \"ticks\": \"\"}, \"colorscale\": [[0.0, \"#0d0887\"], [0.1111111111111111, \"#46039f\"], [0.2222222222222222, \"#7201a8\"], [0.3333333333333333, \"#9c179e\"], [0.4444444444444444, \"#bd3786\"], [0.5555555555555556, \"#d8576b\"], [0.6666666666666666, \"#ed7953\"], [0.7777777777777778, \"#fb9f3a\"], [0.8888888888888888, \"#fdca26\"], [1.0, \"#f0f921\"]], \"type\": \"surface\"}], \"table\": [{\"cells\": {\"fill\": {\"color\": \"#EBF0F8\"}, \"line\": {\"color\": \"white\"}}, \"header\": {\"fill\": {\"color\": \"#C8D4E3\"}, \"line\": {\"color\": \"white\"}}, \"type\": \"table\"}]}, \"layout\": {\"annotationdefaults\": {\"arrowcolor\": \"#2a3f5f\", \"arrowhead\": 0, \"arrowwidth\": 1}, \"coloraxis\": {\"colorbar\": {\"outlinewidth\": 0, \"ticks\": \"\"}}, \"colorscale\": {\"diverging\": [[0, \"#8e0152\"], [0.1, \"#c51b7d\"], [0.2, \"#de77ae\"], [0.3, \"#f1b6da\"], [0.4, \"#fde0ef\"], [0.5, \"#f7f7f7\"], [0.6, \"#e6f5d0\"], [0.7, \"#b8e186\"], [0.8, \"#7fbc41\"], [0.9, \"#4d9221\"], [1, \"#276419\"]], \"sequential\": [[0.0, \"#0d0887\"], [0.1111111111111111, \"#46039f\"], [0.2222222222222222, \"#7201a8\"], [0.3333333333333333, \"#9c179e\"], [0.4444444444444444, \"#bd3786\"], [0.5555555555555556, \"#d8576b\"], [0.6666666666666666, \"#ed7953\"], [0.7777777777777778, \"#fb9f3a\"], [0.8888888888888888, \"#fdca26\"], [1.0, \"#f0f921\"]], \"sequentialminus\": [[0.0, \"#0d0887\"], [0.1111111111111111, \"#46039f\"], [0.2222222222222222, \"#7201a8\"], [0.3333333333333333, \"#9c179e\"], [0.4444444444444444, \"#bd3786\"], [0.5555555555555556, \"#d8576b\"], [0.6666666666666666, \"#ed7953\"], [0.7777777777777778, \"#fb9f3a\"], [0.8888888888888888, \"#fdca26\"], [1.0, \"#f0f921\"]]}, \"colorway\": [\"#636efa\", \"#EF553B\", \"#00cc96\", \"#ab63fa\", \"#FFA15A\", \"#19d3f3\", \"#FF6692\", \"#B6E880\", \"#FF97FF\", \"#FECB52\"], \"font\": {\"color\": \"#2a3f5f\"}, \"geo\": {\"bgcolor\": \"white\", \"lakecolor\": \"white\", \"landcolor\": \"#E5ECF6\", \"showlakes\": true, \"showland\": true, \"subunitcolor\": \"white\"}, \"hoverlabel\": {\"align\": \"left\"}, \"hovermode\": \"closest\", \"mapbox\": {\"style\": \"light\"}, \"paper_bgcolor\": \"white\", \"plot_bgcolor\": \"#E5ECF6\", \"polar\": {\"angularaxis\": {\"gridcolor\": \"white\", \"linecolor\": \"white\", \"ticks\": \"\"}, \"bgcolor\": \"#E5ECF6\", \"radialaxis\": {\"gridcolor\": \"white\", \"linecolor\": \"white\", \"ticks\": \"\"}}, \"scene\": {\"xaxis\": {\"backgroundcolor\": \"#E5ECF6\", \"gridcolor\": \"white\", \"gridwidth\": 2, \"linecolor\": \"white\", \"showbackground\": true, \"ticks\": \"\", \"zerolinecolor\": \"white\"}, \"yaxis\": {\"backgroundcolor\": \"#E5ECF6\", \"gridcolor\": \"white\", \"gridwidth\": 2, \"linecolor\": \"white\", \"showbackground\": true, \"ticks\": \"\", \"zerolinecolor\": \"white\"}, \"zaxis\": {\"backgroundcolor\": \"#E5ECF6\", \"gridcolor\": \"white\", \"gridwidth\": 2, \"linecolor\": \"white\", \"showbackground\": true, \"ticks\": \"\", \"zerolinecolor\": \"white\"}}, \"shapedefaults\": {\"line\": {\"color\": \"#2a3f5f\"}}, \"ternary\": {\"aaxis\": {\"gridcolor\": \"white\", \"linecolor\": \"white\", \"ticks\": \"\"}, \"baxis\": {\"gridcolor\": \"white\", \"linecolor\": \"white\", \"ticks\": \"\"}, \"bgcolor\": \"#E5ECF6\", \"caxis\": {\"gridcolor\": \"white\", \"linecolor\": \"white\", \"ticks\": \"\"}}, \"title\": {\"x\": 0.05}, \"xaxis\": {\"automargin\": true, \"gridcolor\": \"white\", \"linecolor\": \"white\", \"ticks\": \"\", \"title\": {\"standoff\": 15}, \"zerolinecolor\": \"white\", \"zerolinewidth\": 2}, \"yaxis\": {\"automargin\": true, \"gridcolor\": \"white\", \"linecolor\": \"white\", \"ticks\": \"\", \"title\": {\"standoff\": 15}, \"zerolinecolor\": \"white\", \"zerolinewidth\": 2}}}},\n",
              "                        {\"responsive\": true}\n",
              "                    ).then(function(){\n",
              "                            \n",
              "var gd = document.getElementById('2394f98f-89c9-4b7c-9916-3119a41a431e');\n",
              "var x = new MutationObserver(function (mutations, observer) {{\n",
              "        var display = window.getComputedStyle(gd).display;\n",
              "        if (!display || display === 'none') {{\n",
              "            console.log([gd, 'removed!']);\n",
              "            Plotly.purge(gd);\n",
              "            observer.disconnect();\n",
              "        }}\n",
              "}});\n",
              "\n",
              "// Listen for the removal of the full notebook cells\n",
              "var notebookContainer = gd.closest('#notebook-container');\n",
              "if (notebookContainer) {{\n",
              "    x.observe(notebookContainer, {childList: true});\n",
              "}}\n",
              "\n",
              "// Listen for the clearing of the current output cell\n",
              "var outputEl = gd.closest('.output');\n",
              "if (outputEl) {{\n",
              "    x.observe(outputEl, {childList: true});\n",
              "}}\n",
              "\n",
              "                        })\n",
              "                };\n",
              "                \n",
              "            </script>\n",
              "        </div>\n",
              "</body>\n",
              "</html>"
            ]
          },
          "metadata": {
            "tags": []
          }
        }
      ]
    },
    {
      "cell_type": "markdown",
      "metadata": {
        "id": "udB7k-TMe9tj",
        "colab_type": "text"
      },
      "source": [
        "### Tunning do Algoritmo de Machine Learning"
      ]
    },
    {
      "cell_type": "markdown",
      "metadata": {
        "id": "-ivExBIzzrmX",
        "colab_type": "text"
      },
      "source": [
        "**Parâmetros da Random Forest**\n",
        "\n",
        "- `O parâmetro n_estimators define a quantidade de árvores que serão usadas para criação dos modelos. Quanto maior o número de árvores, maior será o número de modelos no ensemble.`\n",
        "\n",
        "- `O parâmtro max_deph define a profundidade da árvore, quanto mais profunda a árvore, mais especializado nos dados de treino o nosso modelo estará.`\n",
        "\n",
        "- `O parâmetro max_features define a quantidade máxima de nós que serão usados para separar os níveis folha da árvore`"
      ]
    },
    {
      "cell_type": "markdown",
      "metadata": {
        "id": "Kt1_TcBfWn31",
        "colab_type": "text"
      },
      "source": [
        "Deploy da Aplicação"
      ]
    },
    {
      "cell_type": "code",
      "metadata": {
        "id": "o_vwA3soYjYq",
        "colab_type": "code",
        "colab": {}
      },
      "source": [
        "X['MEDV'] = y"
      ],
      "execution_count": 0,
      "outputs": []
    },
    {
      "cell_type": "code",
      "metadata": {
        "id": "x5-qVIdOZwdt",
        "colab_type": "code",
        "colab": {
          "base_uri": "https://localhost:8080/",
          "height": 206
        },
        "outputId": "c05fa1e1-35e1-49cd-e3ed-530ec1de77f9"
      },
      "source": [
        "X.head()"
      ],
      "execution_count": 70,
      "outputs": [
        {
          "output_type": "execute_result",
          "data": {
            "text/html": [
              "<div>\n",
              "<style scoped>\n",
              "    .dataframe tbody tr th:only-of-type {\n",
              "        vertical-align: middle;\n",
              "    }\n",
              "\n",
              "    .dataframe tbody tr th {\n",
              "        vertical-align: top;\n",
              "    }\n",
              "\n",
              "    .dataframe thead th {\n",
              "        text-align: right;\n",
              "    }\n",
              "</style>\n",
              "<table border=\"1\" class=\"dataframe\">\n",
              "  <thead>\n",
              "    <tr style=\"text-align: right;\">\n",
              "      <th></th>\n",
              "      <th>CRIM</th>\n",
              "      <th>INDUS</th>\n",
              "      <th>CHAS</th>\n",
              "      <th>NOX</th>\n",
              "      <th>RM</th>\n",
              "      <th>PTRATIO</th>\n",
              "      <th>B</th>\n",
              "      <th>LSTAT</th>\n",
              "      <th>MEDV</th>\n",
              "    </tr>\n",
              "  </thead>\n",
              "  <tbody>\n",
              "    <tr>\n",
              "      <th>0</th>\n",
              "      <td>0.00632</td>\n",
              "      <td>2.31</td>\n",
              "      <td>0.0</td>\n",
              "      <td>0.538</td>\n",
              "      <td>6.575</td>\n",
              "      <td>15.3</td>\n",
              "      <td>396.90</td>\n",
              "      <td>4.98</td>\n",
              "      <td>24.0</td>\n",
              "    </tr>\n",
              "    <tr>\n",
              "      <th>1</th>\n",
              "      <td>0.02731</td>\n",
              "      <td>7.07</td>\n",
              "      <td>0.0</td>\n",
              "      <td>0.469</td>\n",
              "      <td>6.421</td>\n",
              "      <td>17.8</td>\n",
              "      <td>396.90</td>\n",
              "      <td>9.14</td>\n",
              "      <td>21.6</td>\n",
              "    </tr>\n",
              "    <tr>\n",
              "      <th>2</th>\n",
              "      <td>0.02729</td>\n",
              "      <td>7.07</td>\n",
              "      <td>0.0</td>\n",
              "      <td>0.469</td>\n",
              "      <td>7.185</td>\n",
              "      <td>17.8</td>\n",
              "      <td>392.83</td>\n",
              "      <td>4.03</td>\n",
              "      <td>34.7</td>\n",
              "    </tr>\n",
              "    <tr>\n",
              "      <th>3</th>\n",
              "      <td>0.03237</td>\n",
              "      <td>2.18</td>\n",
              "      <td>0.0</td>\n",
              "      <td>0.458</td>\n",
              "      <td>6.998</td>\n",
              "      <td>18.7</td>\n",
              "      <td>394.63</td>\n",
              "      <td>2.94</td>\n",
              "      <td>33.4</td>\n",
              "    </tr>\n",
              "    <tr>\n",
              "      <th>4</th>\n",
              "      <td>0.06905</td>\n",
              "      <td>2.18</td>\n",
              "      <td>0.0</td>\n",
              "      <td>0.458</td>\n",
              "      <td>7.147</td>\n",
              "      <td>18.7</td>\n",
              "      <td>396.90</td>\n",
              "      <td>5.33</td>\n",
              "      <td>36.2</td>\n",
              "    </tr>\n",
              "  </tbody>\n",
              "</table>\n",
              "</div>"
            ],
            "text/plain": [
              "      CRIM  INDUS  CHAS    NOX     RM  PTRATIO       B  LSTAT  MEDV\n",
              "0  0.00632   2.31   0.0  0.538  6.575     15.3  396.90   4.98  24.0\n",
              "1  0.02731   7.07   0.0  0.469  6.421     17.8  396.90   9.14  21.6\n",
              "2  0.02729   7.07   0.0  0.469  7.185     17.8  392.83   4.03  34.7\n",
              "3  0.03237   2.18   0.0  0.458  6.998     18.7  394.63   2.94  33.4\n",
              "4  0.06905   2.18   0.0  0.458  7.147     18.7  396.90   5.33  36.2"
            ]
          },
          "metadata": {
            "tags": []
          },
          "execution_count": 70
        }
      ]
    },
    {
      "cell_type": "code",
      "metadata": {
        "id": "vbPO7woOa7N0",
        "colab_type": "code",
        "colab": {}
      },
      "source": [
        "X.to_csv('data.csv', index=False)"
      ],
      "execution_count": 0,
      "outputs": []
    }
  ]
}